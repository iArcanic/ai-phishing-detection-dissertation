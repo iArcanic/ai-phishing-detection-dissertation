{
  "nbformat": 4,
  "nbformat_minor": 0,
  "metadata": {
    "colab": {
      "provenance": []
    },
    "kernelspec": {
      "name": "python3",
      "display_name": "Python 3"
    },
    "language_info": {
      "name": "python"
    }
  },
  "cells": [
    {
      "cell_type": "markdown",
      "source": [
        "# Combine Training Data and Split"
      ],
      "metadata": {
        "id": "dJ0MB7boWEsS"
      }
    },
    {
      "cell_type": "markdown",
      "source": [
        "## 1 Import libraries"
      ],
      "metadata": {
        "id": "NU7woKjWWEOE"
      }
    },
    {
      "cell_type": "code",
      "execution_count": 1,
      "metadata": {
        "colab": {
          "base_uri": "https://localhost:8080/"
        },
        "id": "SrMGwc_1Us_J",
        "outputId": "bf7d3c77-ad8e-4683-f444-f17f0eab030d"
      },
      "outputs": [
        {
          "output_type": "stream",
          "name": "stdout",
          "text": [
            "Loading libraries...\n",
            "Libraries imported.\n",
            "\n"
          ]
        }
      ],
      "source": [
        "print(\"Loading libraries...\")\n",
        "\n",
        "# Core libraries\n",
        "import os\n",
        "import pandas as pd\n",
        "import numpy as np\n",
        "from sklearn.model_selection import train_test_split\n",
        "\n",
        "# Visualization\n",
        "import matplotlib.pyplot as plt\n",
        "import seaborn as sns\n",
        "\n",
        "# For gdown to download from Google Drive\n",
        "import gdown\n",
        "\n",
        "pd.set_option('display.max_colwidth', 150)\n",
        "pd.set_option('display.max_columns', 50)\n",
        "\n",
        "print(\"Libraries imported.\\n\")"
      ]
    },
    {
      "cell_type": "markdown",
      "source": [
        "## 2 Load processed datasets\n",
        "\n",
        "Load the preprocessed Enron ham data and the CEAS_08 phishing data that were saved from previous notebooks.\n",
        "These files will be downloaded from Google Drive using `gdown` if not already present in the Colab runtime."
      ],
      "metadata": {
        "id": "zUVQvFpBYr4m"
      }
    },
    {
      "cell_type": "code",
      "source": [
        "# e.g., enron_ham_processed_40000.csv\n",
        "ENRON_HAM_GDRIVE_FILE_ID = '1VY2Sc-U8E6hMU0XpS1i9sX5ZSCcKqh_U'\n",
        "\n",
        "# Ensure this matches the file on Drive\n",
        "ENRON_HAM_LOCAL_FILENAME = 'enron_ham_processed_40000.csv'\n",
        "\n",
        "CEAS_PHISHING_GDRIVE_FILE_ID = '1bNkiOtPPEVxUlOhdQ5UR21W6TGHP8Bix' # e.g., ceas08_phishing_for_training_39500.csv\n",
        "CEAS_PHISHING_LOCAL_FILENAME = 'ceas08_phishing_for_training_21829.csv' # Ensure this matches\n",
        "\n",
        "# --- Function to download with gdown if file doesn't exist ---\n",
        "def download_file_from_gdrive(file_id, local_filename):\n",
        "    if not os.path.exists(local_filename):\n",
        "        print(f\"Downloading {local_filename} from Google Drive...\")\n",
        "        gdrive_url = f'https://drive.google.com/uc?id={file_id}'\n",
        "\n",
        "        try:\n",
        "            gdown.download(gdrive_url, local_filename, quiet=False)\n",
        "            print(f\"{local_filename} downloaded successfully.\")\n",
        "\n",
        "        except Exception as e:\n",
        "            print(f\"ERROR downloading {local_filename}: {e}. Check File ID and share settings.\")\n",
        "            return False\n",
        "\n",
        "    else:\n",
        "        print(f\"{local_filename} already exists in Colab runtime.\")\n",
        "\n",
        "    return os.path.exists(local_filename)\n",
        "\n",
        "# --- Load Enron Ham ---\n",
        "df_enron_ham = pd.DataFrame()\n",
        "\n",
        "if download_file_from_gdrive(ENRON_HAM_GDRIVE_FILE_ID, ENRON_HAM_LOCAL_FILENAME):\n",
        "    try:\n",
        "        df_enron_ham = pd.read_csv(ENRON_HAM_LOCAL_FILENAME)\n",
        "        print(f\"Loaded Enron ham: {ENRON_HAM_LOCAL_FILENAME}, shape: {df_enron_ham.shape}\")\n",
        "\n",
        "        if 'label' not in df_enron_ham.columns or not (df_enron_ham['label'] == 0).all():\n",
        "            print(\"WARNING: Enron ham 'label' column missing or not all 0. Assuming it's ham and setting label=0.\")\n",
        "            df_enron_ham['label'] = 0\n",
        "\n",
        "        else:\n",
        "            print(\"Enron ham labels confirmed as 0.\")\n",
        "\n",
        "    except Exception as e:\n",
        "        print(f\"Error reading Enron ham CSV {ENRON_HAM_LOCAL_FILENAME}: {e}\")\n",
        "        df_enron_ham = pd.DataFrame() # Ensure it's empty on error\n",
        "\n",
        "# --- Load CEAS Phishing ---\n",
        "df_ceas_phishing = pd.DataFrame()\n",
        "if download_file_from_gdrive(CEAS_PHISHING_GDRIVE_FILE_ID, CEAS_PHISHING_LOCAL_FILENAME):\n",
        "    try:\n",
        "        df_ceas_phishing = pd.read_csv(CEAS_PHISHING_LOCAL_FILENAME)\n",
        "        print(f\"Loaded CEAS phishing: {CEAS_PHISHING_LOCAL_FILENAME}, shape: {df_ceas_phishing.shape}\")\n",
        "\n",
        "        if 'label' not in df_ceas_phishing.columns or not (df_ceas_phishing['label'] == 1).all():\n",
        "            print(\"WARNING: CEAS phishing 'label' column missing or not all 1. Assuming it's phishing and setting label=1.\")\n",
        "            df_ceas_phishing['label'] = 1\n",
        "\n",
        "        else:\n",
        "            print(\"CEAS phishing labels confirmed as 1.\")\n",
        "\n",
        "    except Exception as e:\n",
        "        print(f\"Error reading CEAS phishing CSV {CEAS_PHISHING_LOCAL_FILENAME}: {e}\")\n",
        "        df_ceas_phishing = pd.DataFrame() # Ensure it's empty on error\n",
        "\n",
        "data_loaded_successfully = not df_enron_ham.empty and not df_ceas_phishing.empty\n",
        "\n",
        "if data_loaded_successfully:\n",
        "    print(\"\\nSample of Enron ham:\")\n",
        "    print(df_enron_ham.head(2))\n",
        "    print(\"\\nSample of CEAS phishing:\")\n",
        "    print(df_ceas_phishing.head(2))\n",
        "\n",
        "else:\n",
        "    print(\"\\nOne or more datasets could not be loaded properly. Please check filenames, GDrive IDs, and share settings.\")"
      ],
      "metadata": {
        "colab": {
          "base_uri": "https://localhost:8080/"
        },
        "id": "EqF5Mhk9ZZ1e",
        "outputId": "1b655dfb-4434-457d-85ae-dfb9ea5cf4d2"
      },
      "execution_count": 2,
      "outputs": [
        {
          "output_type": "stream",
          "name": "stdout",
          "text": [
            "Downloading enron_ham_processed_40000.csv from Google Drive...\n"
          ]
        },
        {
          "output_type": "stream",
          "name": "stderr",
          "text": [
            "Downloading...\n",
            "From: https://drive.google.com/uc?id=1VY2Sc-U8E6hMU0XpS1i9sX5ZSCcKqh_U\n",
            "To: /content/enron_ham_processed_40000.csv\n",
            "100%|██████████| 38.3M/38.3M [00:00<00:00, 68.4MB/s]\n"
          ]
        },
        {
          "output_type": "stream",
          "name": "stdout",
          "text": [
            "enron_ham_processed_40000.csv downloaded successfully.\n",
            "Loaded Enron ham: enron_ham_processed_40000.csv, shape: (20000, 12)\n",
            "Enron ham labels confirmed as 0.\n",
            "Downloading ceas08_phishing_for_training_21829.csv from Google Drive...\n"
          ]
        },
        {
          "output_type": "stream",
          "name": "stderr",
          "text": [
            "Downloading...\n",
            "From: https://drive.google.com/uc?id=1bNkiOtPPEVxUlOhdQ5UR21W6TGHP8Bix\n",
            "To: /content/ceas08_phishing_for_training_21829.csv\n",
            "100%|██████████| 13.0M/13.0M [00:00<00:00, 54.4MB/s]\n"
          ]
        },
        {
          "output_type": "stream",
          "name": "stdout",
          "text": [
            "ceas08_phishing_for_training_21829.csv downloaded successfully.\n",
            "Loaded CEAS phishing: ceas08_phishing_for_training_21829.csv, shape: (21829, 9)\n",
            "CEAS phishing labels confirmed as 1.\n",
            "\n",
            "Sample of Enron ham:\n",
            "              original_file                                     message_id  \\\n",
            "0   shackleton-s/sent/1912.  <21013688.1075844564560.JavaMail.evans@thyme>   \n",
            "1  farmer-d/logistics/1066.  <22688499.1075854130303.JavaMail.evans@thyme>   \n",
            "\n",
            "                   date_time               from_address  \\\n",
            "0  2000-08-29 01:26:00-07:00  sara.shackleton@enron.com   \n",
            "1  2000-04-24 05:43:00-07:00       pat.clynes@enron.com   \n",
            "\n",
            "                   to_address           subject_original  \\\n",
            "0  william.bradford@enron.com     Re: Credit Derivatives   \n",
            "1      aimee.lannou@enron.com  Meter #1591 Lamay Gaslift   \n",
            "\n",
            "            subject_cleaned  \\\n",
            "0     re credit derivatives   \n",
            "1  meter 1591 lamay gaslift   \n",
            "\n",
            "                                                                                                                                            body_cleaned  \\\n",
            "0  bill thanks for the info. i also spoke with jeff about how enroncredit.com ltd. was going to work since dennis o'connell (london lawyer) is respon...   \n",
            "1  aimee, please check meter 1591 lamay gas lift. it doesn't appear to have very much flow and the bav is showing the nom volume. this could be adver...   \n",
            "\n",
            "  urls_in_email  body_length  num_urls  label  \n",
            "0            []         1764         0      0  \n",
            "1            []          188         0      0  \n",
            "\n",
            "Sample of CEAS phishing:\n",
            "                                                                                                                                            body_cleaned  \\\n",
            "0  buck up, your troubles caused by small dimension will soon be over! become a lover no woman will be able to resist! come. even as nazi tanks were ...   \n",
            "1                                                                                                   upgrade your sex and pleasures with these techniques   \n",
            "\n",
            "             subject_cleaned  label                            sender  \\\n",
            "0  never agree to be a loser      1  Young Esposito <Young@iworld.de>   \n",
            "1     befriend jenna jameson      1      Mok <ipline's1983@icable.ph>   \n",
            "\n",
            "                        receiver                             date  urls  \\\n",
            "0    user4@gvc.ceas-challenge.cc  Tue, 05 Aug 2008 16:31:02 -0700     1   \n",
            "1  user2.2@gvc.ceas-challenge.cc  Tue, 05 Aug 2008 18:31:03 -0500     1   \n",
            "\n",
            "   body_cleaned_length  subject_cleaned_length  \n",
            "0                  249                      25  \n",
            "1                   52                      22  \n"
          ]
        }
      ]
    },
    {
      "cell_type": "markdown",
      "source": [
        "## 3 Combine datasets\n",
        "\n",
        "Concatenate the Enron ham and CEAS phishing DataFrames.\n",
        "Ensure they have compatible columns, primarily 'body_cleaned', 'subject_cleaned' (if available in both), and 'label'."
      ],
      "metadata": {
        "id": "3jc8Yg-rssZY"
      }
    },
    {
      "cell_type": "code",
      "source": [
        "df_combined = pd.DataFrame()\n",
        "\n",
        "if data_loaded_successfully:\n",
        "    # Identify common text columns to keep.\n",
        "    # Assume 'body_cleaned' and 'label' are essential and exist.\n",
        "    # Check for 'subject_cleaned' and include if present in both.\n",
        "    common_cols = ['body_cleaned', 'label']\n",
        "\n",
        "    # Check if 'subject_cleaned' is in both and add it\n",
        "    if 'subject_cleaned' in df_enron_ham.columns and 'subject_cleaned' in df_ceas_phishing.columns:\n",
        "        common_cols.append('subject_cleaned')\n",
        "        print(\"Using 'body_cleaned', 'subject_cleaned', and 'label' columns.\")\n",
        "\n",
        "    elif 'subject_cleaned' in df_enron_ham.columns and 'subject_cleaned' not in df_ceas_phishing.columns:\n",
        "        print(\"Warning: 'subject_cleaned' found in Enron but not CEAS. Proceeding with 'body_cleaned' and 'label'.\")\n",
        "\n",
        "    elif 'subject_cleaned' not in df_enron_ham.columns and 'subject_cleaned' in df_ceas_phishing.columns:\n",
        "        print(\"Warning: 'subject_cleaned' found in CEAS but not Enron. Proceeding with 'body_cleaned' and 'label'.\")\n",
        "        # df_enron_ham['subject_cleaned'] = \"\"\n",
        "\n",
        "    else:\n",
        "        print(\"Using 'body_cleaned' and 'label' columns. 'subject_cleaned' not found in one or both.\")\n",
        "\n",
        "    # Ensure only existing columns are selected to avoid errors\n",
        "    enron_cols_to_select = [col for col in common_cols if col in df_enron_ham.columns]\n",
        "    ceas_cols_to_select = [col for col in common_cols if col in df_ceas_phishing.columns]\n",
        "\n",
        "    if not all(col in enron_cols_to_select for col in ['body_cleaned', 'label']):\n",
        "         print(\"ERROR: Essential columns 'body_cleaned' or 'label' missing in Enron ham after selection.\")\n",
        "\n",
        "    elif not all(col in ceas_cols_to_select for col in ['body_cleaned', 'label']):\n",
        "         print(\"ERROR: Essential columns 'body_cleaned' or 'label' missing in CEAS phishing after selection.\")\n",
        "\n",
        "    else:\n",
        "        enron_subset = df_enron_ham[enron_cols_to_select].copy()\n",
        "        ceas_subset = df_ceas_phishing[ceas_cols_to_select].copy()\n",
        "\n",
        "        # Ensure both subsets have the same columns before concat, fill missing with empty string if one has subject and other doesn't\n",
        "        all_intended_cols = ['body_cleaned', 'label']\n",
        "\n",
        "        if 'subject_cleaned' in common_cols:\n",
        "            all_intended_cols.append('subject_cleaned')\n",
        "\n",
        "        for df_subset in [enron_subset, ceas_subset]:\n",
        "            for col in all_intended_cols:\n",
        "                if col not in df_subset.columns:\n",
        "                    df_subset[col] = \"\" # Add missing column with empty strings\n",
        "\n",
        "\n",
        "        df_combined = pd.concat([enron_subset, ceas_subset], ignore_index=True)\n",
        "        df_combined = df_combined.sample(frac=1, random_state=42).reset_index(drop=True) # Shuffle\n",
        "\n",
        "        print(f\"Combined dataset shape: {df_combined.shape}\")\n",
        "        print(\"Combined dataset head:\")\n",
        "        print(df_combined.head())\n",
        "        print(\"\\nLabel distribution in combined dataset:\")\n",
        "        class_distribution = df_combined['label'].value_counts(normalize=True)\n",
        "        print(class_distribution)\n",
        "\n",
        "        plt.figure(figsize=(6,4))\n",
        "        sns.countplot(x='label', data=df_combined)\n",
        "        plt.title(f'Class Distribution (0:Ham, 1:Phish)\\nTotal: {len(df_combined)}')\n",
        "        plt.show()\n",
        "\n",
        "else:\n",
        "    print(\"Cannot combine datasets as one or both were not loaded successfully or are empty.\")"
      ],
      "metadata": {
        "colab": {
          "base_uri": "https://localhost:8080/",
          "height": 833
        },
        "id": "xLH2TNAvu0zu",
        "outputId": "8cc97db2-46f7-487f-e1c0-b6fd175e13a8"
      },
      "execution_count": 3,
      "outputs": [
        {
          "output_type": "stream",
          "name": "stdout",
          "text": [
            "Using 'body_cleaned', 'subject_cleaned', and 'label' columns.\n",
            "Combined dataset shape: (41829, 3)\n",
            "Combined dataset head:\n",
            "                                                                                                                                            body_cleaned  \\\n",
            "0  htmlheadtitleuntitled documenttitle meta content\"texthtml charsetiso88591\" meta content\"mshtml 5.50.4807.2300\" namegeneratorhead body bgcolorfffff...   \n",
            "1   thanks !!!!!!!!!!!!!!!!! debra perlingiere enron north america corp. 1400 smith street, eb 3885 houston, texas 77002 phone 7138537658 fax 7136463490   \n",
            "2                                                                                                   ignore my comment about being a one day deal! sorry!   \n",
            "3  dorie, as per our discussion. for the friday night speaker, can you give me an idea of price and availability for the following  joe gibbs  lou ho...   \n",
            "4  these customer letters just prove how good our maxherbal pills are ! just read what our satisfied customers say ! we want to hear your success sto...   \n",
            "\n",
            "   label                                         subject_cleaned  \n",
            "0      0                         free unlimited rental service!!  \n",
            "1      0                                                      re  \n",
            "2      0  re 900 purchase from koch energy trading at sabine hub  \n",
            "3      0                          2000 ena offsite  final agenda  \n",
            "4      1              just read what our satisfied customers say  \n",
            "\n",
            "Label distribution in combined dataset:\n",
            "label\n",
            "1    0.521863\n",
            "0    0.478137\n",
            "Name: proportion, dtype: float64\n"
          ]
        },
        {
          "output_type": "display_data",
          "data": {
            "text/plain": [
              "<Figure size 600x400 with 1 Axes>"
            ],
            "image/png": "[encoded data removed]"
          },
          "metadata": {}
        }
      ]
    },
    {
      "cell_type": "markdown",
      "source": [
        "## 4 Check class balance"
      ],
      "metadata": {
        "id": "O3SKD1ZLu3YG"
      }
    },
    {
      "cell_type": "code",
      "source": [
        "if not df_combined.empty:\n",
        "    balance = df_combined['label'].value_counts(normalize=True)\n",
        "    print(f\"Current class balance in combined dataset:\\n{balance}\")\n",
        "    ham_percentage = balance.get(0, 0)\n",
        "    phish_percentage = balance.get(1, 0)\n",
        "\n",
        "    # e.g., if difference is less than 5%\n",
        "    if abs(ham_percentage - phish_percentage) < 0.05:\n",
        "        print(\"Dataset appears to be well-balanced or nearly balanced.\")\n",
        "        print(\"SMOTE for class balancing might not be strictly necessary.\")\n",
        "\n",
        "    else:\n",
        "        print(\"Some class imbalance detected. SMOTE could be considered on the training set after feature engineering if performance on minority class is poor.\")\n",
        "\n",
        "else:\n",
        "    print(\"Combined dataset is empty. Cannot check balance.\")"
      ],
      "metadata": {
        "colab": {
          "base_uri": "https://localhost:8080/"
        },
        "id": "h1be_gw-vBoV",
        "outputId": "326a3916-330d-42fd-9231-38bef92011ee"
      },
      "execution_count": 4,
      "outputs": [
        {
          "output_type": "stream",
          "name": "stdout",
          "text": [
            "Current class balance in combined dataset:\n",
            "label\n",
            "1    0.521863\n",
            "0    0.478137\n",
            "Name: proportion, dtype: float64\n",
            "Dataset appears to be well-balanced or nearly balanced.\n",
            "SMOTE for class balancing might not be strictly necessary.\n"
          ]
        }
      ]
    },
    {
      "cell_type": "markdown",
      "source": [
        "## 5 Split data into training, validation, and test sets\n",
        "\n",
        "Split the combined dataset into 70% training, 15% validation, and 15% test sets.\n",
        "Stratification will be used to maintain class proportions in each split."
      ],
      "metadata": {
        "id": "ygt9MC6nvIK1"
      }
    },
    {
      "cell_type": "code",
      "source": [
        "df_train = pd.DataFrame()\n",
        "df_val = pd.DataFrame()\n",
        "df_test = pd.DataFrame()\n",
        "\n",
        "if not df_combined.empty:\n",
        "    # Define features (X) and target (y)\n",
        "    # Use all available text columns for X at this stage.\n",
        "    # Feature engineering will later decide how to combine/use them.\n",
        "    feature_columns_for_split = []\n",
        "    if 'body_cleaned' in df_combined.columns: feature_columns_for_split.append('body_cleaned')\n",
        "    if 'subject_cleaned' in df_combined.columns: feature_columns_for_split.append('subject_cleaned')\n",
        "    # Add other original columns if you plan to use them as features (e.g., 'sender', 'urls_list_parsed')\n",
        "    # For now, sticking to text features for splitting demonstration\n",
        "\n",
        "    if not feature_columns_for_split:\n",
        "        print(\"ERROR: No feature columns ('body_cleaned' or 'subject_cleaned') found in df_combined.\")\n",
        "\n",
        "    else:\n",
        "        X = df_combined[feature_columns_for_split]\n",
        "        y = df_combined['label']\n",
        "\n",
        "        # First split: 70% train, 30% temp (for validation + test)\n",
        "        X_train, X_temp, y_train, y_temp = train_test_split(\n",
        "            X, y, test_size=0.30, random_state=42, stratify=y\n",
        "        )\n",
        "\n",
        "        # Second split: Split temp into 50% validation, 50% test\n",
        "        X_val, X_test, y_val, y_test = train_test_split(\n",
        "            X_temp, y_temp, test_size=0.50, random_state=42, stratify=y_temp\n",
        "        )\n",
        "\n",
        "        print(f\"Original dataset shape: {df_combined.shape} (X: {X.shape}, y: {y.shape})\")\n",
        "        print(f\"Training set shape: X_train: {X_train.shape}, y_train: {y_train.shape}\")\n",
        "        print(f\"Validation set shape: X_val: {X_val.shape}, y_val: {y_val.shape}\")\n",
        "        print(f\"Test set shape: X_test: {X_test.shape}, y_test: {y_test.shape}\")\n",
        "\n",
        "        print(\"\\nTraining set label distribution:\"); print(y_train.value_counts(normalize=True))\n",
        "        print(\"\\nValidation set label distribution:\"); print(y_val.value_counts(normalize=True))\n",
        "        print(\"\\nTest set label distribution:\"); print(y_test.value_counts(normalize=True))\n",
        "\n",
        "        # Reconstruct DataFrames for saving\n",
        "        df_train = X_train.copy(); df_train['label'] = y_train\n",
        "        df_val = X_val.copy(); df_val['label'] = y_val\n",
        "        df_test = X_test.copy(); df_test['label'] = y_test\n",
        "\n",
        "else:\n",
        "    print(\"Combined DataFrame is empty. Cannot split.\")"
      ],
      "metadata": {
        "colab": {
          "base_uri": "https://localhost:8080/"
        },
        "id": "Q_kD_F0JRc7X",
        "outputId": "59c3f889-54f2-4cef-84d1-6528702781ef"
      },
      "execution_count": 5,
      "outputs": [
        {
          "output_type": "stream",
          "name": "stdout",
          "text": [
            "Original dataset shape: (41829, 3) (X: (41829, 2), y: (41829,))\n",
            "Training set shape: X_train: (29280, 2), y_train: (29280,)\n",
            "Validation set shape: X_val: (6274, 2), y_val: (6274,)\n",
            "Test set shape: X_test: (6275, 2), y_test: (6275,)\n",
            "\n",
            "Training set label distribution:\n",
            "label\n",
            "1    0.521858\n",
            "0    0.478142\n",
            "Name: proportion, dtype: float64\n",
            "\n",
            "Validation set label distribution:\n",
            "label\n",
            "1    0.521836\n",
            "0    0.478164\n",
            "Name: proportion, dtype: float64\n",
            "\n",
            "Test set label distribution:\n",
            "label\n",
            "1    0.521912\n",
            "0    0.478088\n",
            "Name: proportion, dtype: float64\n"
          ]
        }
      ]
    },
    {
      "cell_type": "markdown",
      "source": [
        "## 6 Save split datasets\n",
        "\n",
        "Save the training, validation, and test sets as separate CSV files. These will be the inputs for feature engineering and model training."
      ],
      "metadata": {
        "id": "_Pd7PC7iR6AZ"
      }
    },
    {
      "cell_type": "code",
      "source": [
        "if not df_train.empty and not df_val.empty and not df_test.empty:\n",
        "    try:\n",
        "        df_train.to_csv('train_corpus.csv', index=False)\n",
        "        df_val.to_csv('validation_corpus.csv', index=False)\n",
        "        df_test.to_csv('test_corpus.csv', index=False)\n",
        "        print(\"Train, validation, and test sets saved to Colab runtime as CSV files:\")\n",
        "        print(\" - /content/train_corpus.csv\")\n",
        "        print(\" - /content/validation_corpus.csv\")\n",
        "        print(\" - /content/test_corpus.csv\")\n",
        "        print(\"IMPORTANT: These files are temporary. Download or save to Google Drive for persistence.\")\n",
        "\n",
        "    except Exception as e:\n",
        "        print(f\"Error saving split datasets: {e}\")\n",
        "\n",
        "else:\n",
        "    print(\"One or more split DataFrames (train, val, test) are empty. Nothing to save.\")"
      ],
      "metadata": {
        "colab": {
          "base_uri": "https://localhost:8080/"
        },
        "id": "MIEUyZ1-SWgg",
        "outputId": "0fdb52ec-9354-4e79-e7a9-5573328cd1b3"
      },
      "execution_count": 6,
      "outputs": [
        {
          "output_type": "stream",
          "name": "stdout",
          "text": [
            "Train, validation, and test sets saved to Colab runtime as CSV files:\n",
            " - /content/train_corpus.csv\n",
            " - /content/validation_corpus.csv\n",
            " - /content/test_corpus.csv\n",
            "IMPORTANT: These files are temporary. Download or save to Google Drive for persistence.\n"
          ]
        }
      ]
    }
  ]
}