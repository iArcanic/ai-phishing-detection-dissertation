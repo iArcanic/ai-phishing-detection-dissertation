{
  "nbformat": 4,
  "nbformat_minor": 0,
  "metadata": {
    "colab": {
      "provenance": []
    },
    "kernelspec": {
      "name": "python3",
      "display_name": "Python 3"
    },
    "language_info": {
      "name": "python"
    }
  },
  "cells": [
    {
      "cell_type": "markdown",
      "source": [
        "# Random Forest Model Training and Evaluation"
      ],
      "metadata": {
        "id": "6sJRTnFhC_RX"
      }
    },
    {
      "cell_type": "markdown",
      "source": [
        "## 1 Import libraries"
      ],
      "metadata": {
        "id": "mcYvBwvVDFDQ"
      }
    },
    {
      "cell_type": "code",
      "execution_count": 16,
      "metadata": {
        "colab": {
          "base_uri": "https://localhost:8080/"
        },
        "id": "YZW6tQwpAKnB",
        "outputId": "8d946738-3621-48d3-9cc3-73bf83c97254"
      },
      "outputs": [
        {
          "output_type": "stream",
          "name": "stdout",
          "text": [
            "Loading libraries...\n",
            "Libraries loaded.\n"
          ]
        }
      ],
      "source": [
        "print(\"Loading libraries...\")\n",
        "\n",
        "# Data manipulation libraries\n",
        "import pandas as pd\n",
        "import numpy as np\n",
        "\n",
        "# Load .npz sparse matrices\n",
        "from scipy.sparse import load_npz\n",
        "\n",
        "# For saving/loading sklearn models and the vectoriser\n",
        "import joblib\n",
        "\n",
        "# Scikit-learn libraries\n",
        "from sklearn.ensemble import RandomForestClassifier\n",
        "from sklearn.model_selection import GridSearchCV, RandomizedSearchCV # For hyperparameter tuning\n",
        "from sklearn.metrics import (\n",
        "    accuracy_score,\n",
        "    precision_score,\n",
        "    recall_score,\n",
        "    f1_score,\n",
        "    confusion_matrix,\n",
        "    roc_auc_score,\n",
        "    classification_report\n",
        ")\n",
        "\n",
        "# For plotting confusion matrices\n",
        "import matplotlib.pyplot as plt\n",
        "import seaborn as sns\n",
        "\n",
        "# Download feature files from Google Drive\n",
        "import gdown\n",
        "\n",
        "# Core libraries\n",
        "import os\n",
        "import time\n",
        "\n",
        "print(\"Libraries loaded.\")"
      ]
    },
    {
      "cell_type": "markdown",
      "source": [
        "## 2 Load engineered features and labels\n",
        "\n",
        "Load the `X_train_features.npz`, `X_val_features.npz`, `X_test_features.npz` (sparse matrices for TF-IDF features),\n",
        "and their corresponding label files (`y_train_labels.csv`, `y_val_labels.csv`, `y_test_labels.csv`).\n",
        "Also, load the saved `tfidf_vectorizer.joblib` as it might be needed later for XAI or processing other test sets."
      ],
      "metadata": {
        "id": "vBWCA9oREZXQ"
      }
    },
    {
      "cell_type": "code",
      "source": [
        "# --- Define Google Drive File IDs and local filenames ---\n",
        "\n",
        "# Feature files (.npz)\n",
        "X_TRAIN_GDRIVE_FILE_ID = '1qNmaeG04PRDuwhtqyOxGfpXHBE4fNAV4'\n",
        "X_TRAIN_LOCAL_FILENAME = 'X_train_features.npz'\n",
        "\n",
        "X_VAL_GDRIVE_FILE_ID = '1REX920Oyw5sd5d1_crZgfh38AEjtfQhE'\n",
        "X_VAL_LOCAL_FILENAME = 'X_val_features.npz'\n",
        "\n",
        "X_TEST_GDRIVE_FILE_ID = '1Uy8XTpCQRV5CckNj3EmfbXcIDFD3OSff'\n",
        "X_TEST_LOCAL_FILENAME = 'X_test_features.npz'\n",
        "\n",
        "# Label files (.csv)\n",
        "Y_TRAIN_GDRIVE_FILE_ID = '1cIg52jAE_UHeUao_LZom8VTVXrEdRsTK'\n",
        "Y_TRAIN_LOCAL_FILENAME = 'y_train_labels.csv'\n",
        "\n",
        "Y_VAL_GDRIVE_FILE_ID = '1P1mHzuMjk5sCpTN4Huyw4ps2nr6fEMGX'\n",
        "Y_VAL_LOCAL_FILENAME = 'y_val_labels.csv'\n",
        "\n",
        "Y_TEST_GDRIVE_FILE_ID = '1qvdVxKBSfRdUzjeHX6iQUpxAOMPbulYD'\n",
        "Y_TEST_LOCAL_FILENAME = 'y_test_labels.csv'\n",
        "\n",
        "# TF-IDF Vectorizer (.joblib)\n",
        "VECTORIZER_GDRIVE_FILE_ID = '1JioXYHa5Roi4WxacfSJWa4LXPJPzltFA'\n",
        "VECTORIZER_LOCAL_FILENAME = 'tfidf_vectorizer.joblib'\n",
        "\n",
        "# --- List of files to download ---\n",
        "files_to_download = [\n",
        "    {'id': X_TRAIN_GDRIVE_FILE_ID, 'name': X_TRAIN_LOCAL_FILENAME},\n",
        "    {'id': Y_TRAIN_GDRIVE_FILE_ID, 'name': Y_TRAIN_LOCAL_FILENAME},\n",
        "    {'id': X_VAL_GDRIVE_FILE_ID, 'name': X_VAL_LOCAL_FILENAME},\n",
        "    {'id': Y_VAL_GDRIVE_FILE_ID, 'name': Y_VAL_LOCAL_FILENAME},\n",
        "    {'id': X_TEST_GDRIVE_FILE_ID, 'name': X_TEST_LOCAL_FILENAME},\n",
        "    {'id': Y_TEST_GDRIVE_FILE_ID, 'name': Y_TEST_LOCAL_FILENAME},\n",
        "    {'id': VECTORIZER_GDRIVE_FILE_ID, 'name': VECTORIZER_LOCAL_FILENAME}\n",
        "]\n",
        "\n",
        "# --- Function to download with gdown if file doesn't exist ---\n",
        "# (Ensure gdown is imported in Section 1: import gdown)\n",
        "def download_file_from_gdrive(file_id, local_filename):\n",
        "    if not os.path.exists(local_filename):\n",
        "        print(f\"Downloading {local_filename} from Google Drive...\")\n",
        "        gdrive_url = f'https://drive.google.com/uc?id={file_id}'\n",
        "        try:\n",
        "            gdown.download(gdrive_url, local_filename, quiet=False)\n",
        "            print(f\"{local_filename} downloaded successfully.\")\n",
        "        except Exception as e:\n",
        "            print(f\"ERROR downloading {local_filename}: {e}. Check File ID and share settings.\")\n",
        "            return False\n",
        "    else:\n",
        "        print(f\"{local_filename} already exists in Colab runtime.\")\n",
        "    return os.path.exists(local_filename)\n",
        "\n",
        "# --- Download all necessary files ---\n",
        "all_files_available = True\n",
        "for file_info in files_to_download:\n",
        "    if not download_file_from_gdrive(file_info['id'], file_info['name']):\n",
        "        all_files_available = False\n",
        "        break # Stop if any file fails to download\n",
        "\n",
        "# --- Initialize variables ---\n",
        "X_train, y_train = None, None\n",
        "X_val, y_val = None, None\n",
        "X_test, y_test = None, None\n",
        "tfidf_vectorizer = None\n",
        "\n",
        "if all_files_available:\n",
        "    try:\n",
        "        print(f\"\\nLoading training features from {X_TRAIN_LOCAL_FILENAME}...\")\n",
        "        X_train = load_npz(X_TRAIN_LOCAL_FILENAME)\n",
        "        y_train_df = pd.read_csv(Y_TRAIN_LOCAL_FILENAME)\n",
        "        y_train = y_train_df['label'].values\n",
        "        print(f\"Training data loaded: X_train shape {X_train.shape}, y_train shape {y_train.shape}\")\n",
        "\n",
        "        print(f\"\\nLoading validation features from {X_VAL_LOCAL_FILENAME}...\")\n",
        "        X_val = load_npz(X_VAL_LOCAL_FILENAME)\n",
        "        y_val_df = pd.read_csv(Y_VAL_LOCAL_FILENAME)\n",
        "        y_val = y_val_df['label'].values\n",
        "        print(f\"Validation data loaded: X_val shape {X_val.shape}, y_val shape {y_val.shape}\")\n",
        "\n",
        "        print(f\"\\nLoading test features from {X_TEST_LOCAL_FILENAME}...\")\n",
        "        X_test = load_npz(X_TEST_LOCAL_FILENAME)\n",
        "        y_test_df = pd.read_csv(Y_TEST_LOCAL_FILENAME)\n",
        "        y_test = y_test_df['label'].values\n",
        "        print(f\"Test data loaded: X_test shape {X_test.shape}, y_test shape {y_test.shape}\")\n",
        "\n",
        "        print(f\"\\nLoading TF-IDF vectorizer from {VECTORIZER_LOCAL_FILENAME}...\")\n",
        "        tfidf_vectorizer = joblib.load(VECTORIZER_LOCAL_FILENAME)\n",
        "        print(\"TF-IDF vectorizer loaded.\")\n",
        "\n",
        "        print(\"\\nAll data and vectorizer loaded successfully.\")\n",
        "\n",
        "    except FileNotFoundError as e:\n",
        "        print(f\"ERROR: File not found after download attempt - {e.filename}. This shouldn't happen if download was successful.\")\n",
        "        all_files_available = False # Mark as not loaded\n",
        "    except Exception as e:\n",
        "        print(f\"An error occurred during data loading from local files: {e}\")\n",
        "        all_files_available = False # Mark as not loaded\n",
        "else:\n",
        "    print(\"\\nOne or more files could not be downloaded. Cannot proceed with model training.\")"
      ],
      "metadata": {
        "colab": {
          "base_uri": "https://localhost:8080/"
        },
        "id": "64yR8jrqErZm",
        "outputId": "22197c61-a915-4da0-9d17-fab8a9df95af"
      },
      "execution_count": 17,
      "outputs": [
        {
          "output_type": "stream",
          "name": "stdout",
          "text": [
            "X_train_features.npz already exists in Colab runtime.\n",
            "y_train_labels.csv already exists in Colab runtime.\n",
            "X_val_features.npz already exists in Colab runtime.\n",
            "y_val_labels.csv already exists in Colab runtime.\n",
            "X_test_features.npz already exists in Colab runtime.\n",
            "y_test_labels.csv already exists in Colab runtime.\n",
            "tfidf_vectorizer.joblib already exists in Colab runtime.\n",
            "\n",
            "Loading training features from X_train_features.npz...\n",
            "Training data loaded: X_train shape (29280, 15000), y_train shape (29280,)\n",
            "\n",
            "Loading validation features from X_val_features.npz...\n",
            "Validation data loaded: X_val shape (6274, 15000), y_val shape (6274,)\n",
            "\n",
            "Loading test features from X_test_features.npz...\n",
            "Test data loaded: X_test shape (6275, 15000), y_test shape (6275,)\n",
            "\n",
            "Loading TF-IDF vectorizer from tfidf_vectorizer.joblib...\n",
            "TF-IDF vectorizer loaded.\n",
            "\n",
            "All data and vectorizer loaded successfully.\n"
          ]
        }
      ]
    },
    {
      "cell_type": "markdown",
      "source": [
        "## 3 Model training (Random Forest)\n",
        "\n",
        "Train a Random Forest classifier on the training data (`X_train`, `y_train`) woth some default parameters, that will be tuned later."
      ],
      "metadata": {
        "id": "nnDGbNfWEru4"
      }
    },
    {
      "cell_type": "code",
      "source": [
        "model_rf = None # Initialize\n",
        "\n",
        "if all_files_available and X_train is not None and y_train is not None:\n",
        "    print(f\"Training Random Forest classifier on {X_train.shape[0]} samples...\")\n",
        "    start_time_train = time.time()\n",
        "\n",
        "    # Initialize Random Forest Classifier\n",
        "    # These are example parameters, can be tuned in the next section\n",
        "    model_rf = RandomForestClassifier(\n",
        "        n_estimators=150,     # Number of trees in the forest\n",
        "        max_depth=None,       # Expand nodes until all leaves are pure or contain min_samples_split\n",
        "        min_samples_split=5,  # Minimum number of samples required to split an internal node\n",
        "        min_samples_leaf=2,   # Minimum number of samples required to be at a leaf node\n",
        "        random_state=42,\n",
        "        class_weight='balanced_subsample', # Good for balanced or slightly imbalanced data, adjusts weights per tree\n",
        "        n_jobs=-1             # Use all available cores\n",
        "    )\n",
        "\n",
        "    model_rf.fit(X_train, y_train)\n",
        "    train_duration = time.time() - start_time_train\n",
        "    print(f\"Random Forest training completed in {train_duration:.2f} seconds.\")\n",
        "\n",
        "    # Evaluate on training data (to check for severe overfitting, but test/val is more important)\n",
        "    y_train_pred_rf = model_rf.predict(X_train)\n",
        "    train_accuracy_rf = accuracy_score(y_train, y_train_pred_rf)\n",
        "    print(f\"Training Accuracy (Random Forest): {train_accuracy_rf:.4f}\")\n",
        "\n",
        "else:\n",
        "    print(\"Training data not available. Skipping model training.\")"
      ],
      "metadata": {
        "colab": {
          "base_uri": "https://localhost:8080/"
        },
        "id": "8NlX3QzCFxQE",
        "outputId": "77415843-ba1a-49ec-f63d-348ff82c2415"
      },
      "execution_count": 18,
      "outputs": [
        {
          "output_type": "stream",
          "name": "stdout",
          "text": [
            "Training Random Forest classifier on 29280 samples...\n",
            "Random Forest training completed in 24.82 seconds.\n",
            "Training Accuracy (Random Forest): 0.9904\n"
          ]
        }
      ]
    },
    {
      "cell_type": "markdown",
      "source": [
        "## 4 Hyperparameter tuning\n",
        "\n",
        "Use GridSearchCV or RandomizedSearchCV to find better hyperparameters for the Random Forest model using the validation set (`X_val`, `y_val`)."
      ],
      "metadata": {
        "id": "467yBOsLFzol"
      }
    },
    {
      "cell_type": "code",
      "source": [
        "# Set to True to run hyperparameter tuning, False to skip and use trained base model\n",
        "RUN_HYPERPARAMETER_TUNING = True\n",
        "\n",
        "best_model_rf = model_rf\n",
        "\n",
        "if RUN_HYPERPARAMETER_TUNING and model_rf is not None and X_val is not None and y_val is not None:\n",
        "    print(\"Starting Hyperparameter Tuning for Random Forest...\")\n",
        "    param_grid_rf = {\n",
        "        'n_estimators': [100, 200],\n",
        "        'max_depth': [None, 30, 50],\n",
        "        'min_samples_split': [5, 10],\n",
        "        'min_samples_leaf': [2, 4],\n",
        "        'criterion': ['gini', 'entropy']\n",
        "    }\n",
        "\n",
        "    # Using GridSearchCV - can be slow. RandomizedSearchCV is faster for larger search spaces.\n",
        "    # For GridSearchCV, cv=3 is a common choice for cross-validation folds.\n",
        "    # Scoring: 'f1_weighted' is good for classification, 'roc_auc' is also common.\n",
        "    grid_search_rf = GridSearchCV(\n",
        "        estimator=RandomForestClassifier(random_state=42, class_weight='balanced_subsample', n_jobs=-1),\n",
        "        param_grid=param_grid_rf,\n",
        "        cv=3, # 3-fold cross-validation on the validation set for tuning\n",
        "        scoring='f1_weighted', # Focus on F1-score\n",
        "        verbose=2, # Shows progress\n",
        "        n_jobs=-1  # Use all available cores for GridSearchCV itself\n",
        "    )\n",
        "\n",
        "    print(\"Fitting GridSearchCV on validation data (X_val, y_val)...\")\n",
        "    # Note: For proper CV during tuning, you'd typically fit GridSearchCV on X_train,\n",
        "    # and the CV process splits X_train further.\n",
        "    # Here, using X_val directly for a simpler tuning setup IF X_train was already large.\n",
        "    # A more robust approach is to combine X_train and X_val for GridSearchCV if X_val is small,\n",
        "    # or just fit GridSearchCV on X_train and evaluate final on X_test.\n",
        "    # For this project's timeline, fitting on X_val to find params for a final model trained on X_train can be a pragmatic shortcut.\n",
        "    # Let's refine: Fit on training data, evaluate best params on validation.\n",
        "\n",
        "    # Fit GridSearchCV on the *training data*\n",
        "    # The internal CV of GridSearchCV will use portions of X_train for its own validation.\n",
        "    grid_search_rf.fit(X_train, y_train) # Fit on the full training set\n",
        "\n",
        "    print(\"\\nBest parameters found by GridSearchCV:\")\n",
        "    print(grid_search_rf.best_params_)\n",
        "\n",
        "    best_model_rf = grid_search_rf.best_estimator_ # This is the retrained model with best params\n",
        "\n",
        "    print(\"\\nEvaluating tuned model on validation set (X_val, y_val):\")\n",
        "    y_val_pred_tuned_rf = best_model_rf.predict(X_val)\n",
        "    val_accuracy_tuned_rf = accuracy_score(y_val, y_val_pred_tuned_rf)\n",
        "    val_f1_tuned_rf = f1_score(y_val, y_val_pred_tuned_rf, average='weighted')\n",
        "    print(f\"Tuned Model Validation Accuracy: {val_accuracy_tuned_rf:.4f}\")\n",
        "    print(f\"Tuned Model Validation F1-score (weighted): {val_f1_tuned_rf:.4f}\")\n",
        "    print(classification_report(y_val, y_val_pred_tuned_rf))\n",
        "\n",
        "elif model_rf is not None:\n",
        "    print(\"Skipping hyperparameter tuning. Using the initially trained model.\")\n",
        "\n",
        "    # Ensure best_model_rf is assigned\n",
        "    best_model_rf = model_rf\n",
        "\n",
        "else:\n",
        "    print(\"Model not trained. Cannot perform hyperparameter tuning or evaluation.\")"
      ],
      "metadata": {
        "colab": {
          "base_uri": "https://localhost:8080/"
        },
        "id": "41w0etknF2w8",
        "outputId": "42563bc9-cdbc-4b0c-e649-15b039974a3f"
      },
      "execution_count": 19,
      "outputs": [
        {
          "output_type": "stream",
          "name": "stdout",
          "text": [
            "Starting Hyperparameter Tuning for Random Forest...\n",
            "Fitting GridSearchCV on validation data (X_val, y_val)...\n",
            "Fitting 3 folds for each of 48 candidates, totalling 144 fits\n",
            "\n",
            "Best parameters found by GridSearchCV:\n",
            "{'criterion': 'entropy', 'max_depth': None, 'min_samples_leaf': 2, 'min_samples_split': 5, 'n_estimators': 100}\n",
            "\n",
            "Evaluating tuned model on validation set (X_val, y_val):\n",
            "Tuned Model Validation Accuracy: 0.9833\n",
            "Tuned Model Validation F1-score (weighted): 0.9833\n",
            "              precision    recall  f1-score   support\n",
            "\n",
            "           0       0.98      0.98      0.98      3000\n",
            "           1       0.98      0.99      0.98      3274\n",
            "\n",
            "    accuracy                           0.98      6274\n",
            "   macro avg       0.98      0.98      0.98      6274\n",
            "weighted avg       0.98      0.98      0.98      6274\n",
            "\n"
          ]
        }
      ]
    },
    {
      "cell_type": "markdown",
      "source": [
        "## 5 Evaluate model on the test set\n",
        "\n",
        "Evaluate the performance of the chosen model (`best_model_rf`) on the held-out test set (`X_test`, `y_test`).\n",
        "This provides an unbiased estimate of the model's performance on data from the same distribution as the training set."
      ],
      "metadata": {
        "id": "wVXEIZ4_F3B2"
      }
    },
    {
      "cell_type": "code",
      "source": [
        "if best_model_rf is not None and X_test is not None and y_test is not None:\n",
        "    print(\"Evaluating model on the test set (X_test, y_test)...\")\n",
        "    y_test_pred_rf = best_model_rf.predict(X_test)\n",
        "\n",
        "    # Probabilities for the positive class (for ROC AUC)\n",
        "    y_test_proba_rf = best_model_rf.predict_proba(X_test)[:, 1]\n",
        "\n",
        "    test_accuracy = accuracy_score(y_test, y_test_pred_rf)\n",
        "    test_precision = precision_score(y_test, y_test_pred_rf, zero_division=0)\n",
        "    test_recall = recall_score(y_test, y_test_pred_rf, zero_division=0)\n",
        "    test_f1 = f1_score(y_test, y_test_pred_rf, zero_division=0)\n",
        "\n",
        "    try:\n",
        "        test_roc_auc = roc_auc_score(y_test, y_test_proba_rf)\n",
        "\n",
        "    # May occur if only one class present in y_true (shouldn't happen with proper split)\n",
        "    except ValueError:\n",
        "        test_roc_auc = float('nan')\n",
        "        print(\"Warning: ROC AUC score could not be computed (possibly only one class in y_test predictions or true values).\")\n",
        "\n",
        "\n",
        "    print(f\"\\n--- Test Set Evaluation Metrics (Random Forest) ---\")\n",
        "    print(f\"Accuracy:  {test_accuracy:.4f}\")\n",
        "    print(f\"Precision: {test_precision:.4f} (Phishing)\")\n",
        "    print(f\"Recall:    {test_recall:.4f} (Phishing)\")\n",
        "    print(f\"F1-score:  {test_f1:.4f} (Phishing)\")\n",
        "    print(f\"ROC AUC:   {test_roc_auc:.4f}\")\n",
        "\n",
        "    print(\"\\nClassification Report (Test Set):\")\n",
        "    print(classification_report(y_test, y_test_pred_rf, zero_division=0))\n",
        "\n",
        "    print(\"\\nConfusion Matrix (Test Set):\")\n",
        "    cm = confusion_matrix(y_test, y_test_pred_rf)\n",
        "    plt.figure(figsize=(6,4))\n",
        "    sns.heatmap(cm, annot=True, fmt='d', cmap='Blues', xticklabels=['Ham (0)', 'Phish (1)'], yticklabels=['Ham (0)', 'Phish (1)'])\n",
        "    plt.xlabel('Predicted Label')\n",
        "    plt.ylabel('True Label')\n",
        "    plt.title('Confusion Matrix - Test Set')\n",
        "    plt.show()\n",
        "\n",
        "else:\n",
        "    print(\"Model not trained or test data not available. Skipping test set evaluation.\")"
      ],
      "metadata": {
        "colab": {
          "base_uri": "https://localhost:8080/",
          "height": 775
        },
        "id": "2wqU-8rxF7Hk",
        "outputId": "6ee7c40d-2415-4dcc-cc2e-a721d29aff44"
      },
      "execution_count": 20,
      "outputs": [
        {
          "output_type": "stream",
          "name": "stdout",
          "text": [
            "Evaluating model on the test set (X_test, y_test)...\n",
            "\n",
            "--- Test Set Evaluation Metrics (Random Forest) ---\n",
            "Accuracy:  0.9815\n",
            "Precision: 0.9782 (Phishing)\n",
            "Recall:    0.9866 (Phishing)\n",
            "F1-score:  0.9824 (Phishing)\n",
            "ROC AUC:   0.9988\n",
            "\n",
            "Classification Report (Test Set):\n",
            "              precision    recall  f1-score   support\n",
            "\n",
            "           0       0.99      0.98      0.98      3000\n",
            "           1       0.98      0.99      0.98      3275\n",
            "\n",
            "    accuracy                           0.98      6275\n",
            "   macro avg       0.98      0.98      0.98      6275\n",
            "weighted avg       0.98      0.98      0.98      6275\n",
            "\n",
            "\n",
            "Confusion Matrix (Test Set):\n"
          ]
        },
        {
          "output_type": "display_data",
          "data": {
            "text/plain": [
              "<Figure size 600x400 with 2 Axes>"
            ],
            "image/png": "[encoded data removed]"
          },
          "metadata": {}
        }
      ]
    },
    {
      "cell_type": "markdown",
      "source": [
        "## 6 Save trained model\n",
        "\n",
        "Save the final trained model (`best_model_rf`) for later use (e.g., for XAI, making predictions on new data, or evaluating on other test sets)."
      ],
      "metadata": {
        "id": "tS3sLFqTF7Vn"
      }
    },
    {
      "cell_type": "code",
      "source": [
        "if best_model_rf is not None:\n",
        "    MODEL_FILENAME = 'phishing_random_forest_model.joblib'\n",
        "\n",
        "    try:\n",
        "        joblib.dump(best_model_rf, MODEL_FILENAME)\n",
        "        print(f\"Trained Random Forest model saved to: /content/{MODEL_FILENAME}\")\n",
        "\n",
        "    except Exception as e:\n",
        "        print(f\"Error saving the model: {e}\")\n",
        "\n",
        "else:\n",
        "    print(\"No model available to save.\")"
      ],
      "metadata": {
        "colab": {
          "base_uri": "https://localhost:8080/"
        },
        "id": "JnGVOPAGGRSO",
        "outputId": "844b90db-6ad4-4e87-a51d-3171e86dfa07"
      },
      "execution_count": 21,
      "outputs": [
        {
          "output_type": "stream",
          "name": "stdout",
          "text": [
            "Trained Random Forest model saved to: /content/phishing_random_forest_model.joblib\n"
          ]
        }
      ]
    }
  ]
}