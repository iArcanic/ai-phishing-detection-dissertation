{
  "nbformat": 4,
  "nbformat_minor": 0,
  "metadata": {
    "colab": {
      "provenance": []
    },
    "kernelspec": {
      "name": "python3",
      "display_name": "Python 3"
    },
    "language_info": {
      "name": "python"
    }
  },
  "cells": [
    {
      "cell_type": "markdown",
      "source": [
        "# Nigerian Fraud EDA and Preprocessing"
      ],
      "metadata": {
        "id": "6hShODOz6uj-"
      }
    },
    {
      "cell_type": "markdown",
      "source": [
        "## 1 Import libraries\n",
        "\n",
        "Import the required libraries for data manipulation, email and HTML parsing, text cleaning, and data visualisations."
      ],
      "metadata": {
        "id": "x0oFA6BY68xD"
      }
    },
    {
      "cell_type": "code",
      "execution_count": 8,
      "metadata": {
        "colab": {
          "base_uri": "https://localhost:8080/"
        },
        "id": "IHS82J4q3119",
        "outputId": "bf77432e-9c20-4684-e467-1ce61a8b66d4"
      },
      "outputs": [
        {
          "output_type": "stream",
          "name": "stdout",
          "text": [
            "Loading libraries...\n",
            "Libraries imported.\n",
            "\n"
          ]
        }
      ],
      "source": [
        "print(\"Loading libraries...\")\n",
        "\n",
        "# Core libraries\n",
        "import os\n",
        "import pandas as pd\n",
        "import numpy as np\n",
        "import re # For regular expressions\n",
        "import time # To time operations\n",
        "\n",
        "import kagglehub\n",
        "\n",
        "# Email parsing (might be needed if emails are in raw format)\n",
        "import email\n",
        "from email import policy\n",
        "from email.parser import BytesParser, Parser\n",
        "from email.utils import parsedate_to_datetime, getaddresses\n",
        "\n",
        "# HTML processing (if applicable)\n",
        "from bs4 import BeautifulSoup\n",
        "\n",
        "# Text processing\n",
        "import unicodedata\n",
        "\n",
        "# Visualization (optional)\n",
        "import matplotlib.pyplot as plt\n",
        "import seaborn as sns\n",
        "\n",
        "pd.set_option('display.max_colwidth', 150)\n",
        "pd.set_option('display.max_columns', 50)\n",
        "\n",
        "print(\"Libraries imported.\\n\")"
      ]
    },
    {
      "cell_type": "markdown",
      "source": [
        "## 2 Load raw Nigerian Fraud data\n",
        "\n",
        "Using the `kagglehub` library to download the \"Fraudulent E-mail Corpus\" (`rtatman/fraudulent-email-corpus`).\n",
        "This dataset is described as a collection of \"Nigerian\" Fraud Letters contained within a single text file.\n",
        "Our first step will be to download this file, read its content, and then split the content into individual email messages for parsing."
      ],
      "metadata": {
        "id": "nUBMH_WVRD12"
      }
    },
    {
      "cell_type": "code",
      "source": [
        "# This will be the path to the single text file containing all fraud emails\n",
        "FRAUD_CORPUS_SINGLE_TEXT_FILE_PATH = None\n",
        "\n",
        "try:\n",
        "    print(\"Downloading/accessing 'rtatman/fraudulent-email-corpus' via kagglehub...\")\n",
        "    fraud_dataset_base_path = kagglehub.dataset_download(\"rtatman/fraudulent-email-corpus\")\n",
        "    print(f\"Dataset downloaded/cached by kagglehub at: {fraud_dataset_base_path}\")\n",
        "\n",
        "    # --- List contents of the downloaded path to find the data file ---\n",
        "    print(f\"\\n--- Contents of '{fraud_dataset_base_path}': ---\")\n",
        "    found_text_file = False\n",
        "\n",
        "    if os.path.exists(fraud_dataset_base_path) and os.path.isdir(fraud_dataset_base_path):\n",
        "\n",
        "        for item in os.listdir(fraud_dataset_base_path):\n",
        "            print(item)\n",
        "\n",
        "            # The Kaggle dataset page for \"rtatman/fraudulent-email-corpus\"\n",
        "            # typically has one primary text file. We need to identify its name.\n",
        "            # It's often named something like 'fradulent_emails.txt', 'corpus.txt', etc.\n",
        "            # Or it might be the only .txt file.\n",
        "\n",
        "            if item.lower().endswith('.txt'): # A common assumption for such files\n",
        "                FRAUD_CORPUS_SINGLE_TEXT_FILE_PATH = os.path.join(fraud_dataset_base_path, item)\n",
        "                print(f\"Identified potential data file: {FRAUD_CORPUS_SINGLE_TEXT_FILE_PATH}\")\n",
        "                found_text_file = True\n",
        "                break # Assuming there's only one main text file. If multiple, adjust logic.\n",
        "\n",
        "        if not found_text_file:\n",
        "            print(f\"ERROR: No .txt file found directly in '{fraud_dataset_base_path}'.\")\n",
        "            print(\"Please inspect the contents manually and update the logic to find the correct data file.\")\n",
        "\n",
        "    else:\n",
        "        print(f\"ERROR: The path '{fraud_dataset_base_path}' reported by kagglehub does not exist or is not a directory.\")\n",
        "\n",
        "    print(\"--- End of directory contents ---\\n\")\n",
        "\n",
        "    if FRAUD_CORPUS_SINGLE_TEXT_FILE_PATH and os.path.exists(FRAUD_CORPUS_SINGLE_TEXT_FILE_PATH):\n",
        "        print(f\"Successfully located the fraud corpus text file: {FRAUD_CORPUS_SINGLE_TEXT_FILE_PATH}\")\n",
        "        # We won't load the full content into a DataFrame here yet,\n",
        "        # just confirm we can access it.\n",
        "        # The next step will be to read and split this file.\n",
        "    elif FRAUD_CORPUS_SINGLE_TEXT_FILE_PATH is None and found_text_file is False:\n",
        "         print(\"Could not automatically identify the .txt data file in the downloaded dataset.\")\n",
        "\n",
        "    else:\n",
        "        print(f\"ERROR: Identified path {FRAUD_CORPUS_SINGLE_TEXT_FILE_PATH} does not seem to exist.\")\n",
        "\n",
        "\n",
        "except Exception as e:\n",
        "    print(f\"An error occurred during dataset download or path setup: {e}\")\n",
        "    print(\"Ensure kagglehub is installed and Kaggle API credentials configured if needed.\")"
      ],
      "metadata": {
        "colab": {
          "base_uri": "https://localhost:8080/"
        },
        "id": "6aYUKgBLRiwJ",
        "outputId": "26db82cd-94e5-44be-b27f-07507d7c1e5f"
      },
      "execution_count": 9,
      "outputs": [
        {
          "output_type": "stream",
          "name": "stdout",
          "text": [
            "Downloading/accessing 'rtatman/fraudulent-email-corpus' via kagglehub...\n",
            "Dataset downloaded/cached by kagglehub at: /root/.cache/kagglehub/datasets/rtatman/fraudulent-email-corpus/versions/1\n",
            "\n",
            "--- Contents of '/root/.cache/kagglehub/datasets/rtatman/fraudulent-email-corpus/versions/1': ---\n",
            "fradulent_emails.txt\n",
            "Identified potential data file: /root/.cache/kagglehub/datasets/rtatman/fraudulent-email-corpus/versions/1/fradulent_emails.txt\n",
            "--- End of directory contents ---\n",
            "\n",
            "Successfully located the fraud corpus text file: /root/.cache/kagglehub/datasets/rtatman/fraudulent-email-corpus/versions/1/fradulent_emails.txt\n"
          ]
        }
      ]
    },
    {
      "cell_type": "markdown",
      "source": [
        "## 3 Read and split single text files into individual emails"
      ],
      "metadata": {
        "id": "JLgnKVUdlzOB"
      }
    },
    {
      "cell_type": "code",
      "source": [
        "# Initialise\n",
        "all_fraud_email_strings = []\n",
        "\n",
        "if FRAUD_CORPUS_SINGLE_TEXT_FILE_PATH and os.path.exists(FRAUD_CORPUS_SINGLE_TEXT_FILE_PATH):\n",
        "    print(f\"Reading content from: {FRAUD_CORPUS_SINGLE_TEXT_FILE_PATH}\")\n",
        "\n",
        "    try:\n",
        "        with open(FRAUD_CORPUS_SINGLE_TEXT_FILE_PATH, 'r', encoding='latin-1', errors='ignore') as f:\n",
        "            full_text_content = f.read()\n",
        "\n",
        "        print(f\"Successfully read {len(full_text_content)} characters.\")\n",
        "\n",
        "        # Splitting logic (using the 'From ' heuristic as a starting point)\n",
        "        # You MUST inspect your actual text file to see if this is the correct delimiter.\n",
        "        # It's common for mbox-style concatenated email files.\n",
        "        raw_messages_split = full_text_content.split('\\nFrom ') # Split by newline then \"From \"\n",
        "\n",
        "        if len(raw_messages_split) > 1:\n",
        "            # The first element might not start with \"From \" if the file doesn't begin with it.\n",
        "            # The subsequent elements need \"From \" prepended.\n",
        "            all_fraud_email_strings.append(raw_messages_split[0]) # Add the first part as is\n",
        "\n",
        "            for i in range(1, len(raw_messages_split)):\n",
        "                all_fraud_email_strings.append(\"From \" + raw_messages_split[i]) # Add back \"From \"\n",
        "\n",
        "            # If the very first element was not actually an email (e.g. some file header)\n",
        "            # and does not start with \"From \", you might want to remove it after inspection.\n",
        "            # For now, we keep it.\n",
        "            print(f\"Split into approximately {len(all_fraud_email_strings)} email strings based on '\\\\nFrom ' delimiter.\")\n",
        "\n",
        "            if all_fraud_email_strings:\n",
        "                print(f\"First few chars of first extracted string: {all_fraud_email_strings[0][:300]}\")\n",
        "\n",
        "                if len(all_fraud_email_strings) > 1:\n",
        "                     print(f\"First few chars of second extracted string: {all_fraud_email_strings[1][:300]}\")\n",
        "\n",
        "        elif full_text_content.strip(): # If split didn't work, treat as one message (unlikely for this dataset)\n",
        "            all_fraud_email_strings = [full_text_content]\n",
        "            print(\"Warning: Could not split by '\\\\nFrom '. Treating entire file as one message string (or split failed).\")\n",
        "\n",
        "        else:\n",
        "            print(\"File was empty or split resulted in no messages.\")\n",
        "\n",
        "    except Exception as e:\n",
        "        print(f\"Error reading or splitting the fraud corpus file: {e}\")\n",
        "\n",
        "else:\n",
        "    print(\"FRAUD_CORPUS_SINGLE_TEXT_FILE_PATH is not set or file does not exist. Cannot read and split.\")"
      ],
      "metadata": {
        "colab": {
          "base_uri": "https://localhost:8080/"
        },
        "id": "EfoNFanZDvtr",
        "outputId": "6fecc86f-ad05-4460-f409-96149dda8e48"
      },
      "execution_count": 10,
      "outputs": [
        {
          "output_type": "stream",
          "name": "stdout",
          "text": [
            "Reading content from: /root/.cache/kagglehub/datasets/rtatman/fraudulent-email-corpus/versions/1/fradulent_emails.txt\n",
            "Successfully read 17344435 characters.\n",
            "Split into approximately 3978 email strings based on '\\nFrom ' delimiter.\n",
            "First few chars of first extracted string: From r  Wed Oct 30 21:41:56 2002\n",
            "Return-Path: <james_ngola2002@maktoob.com>\n",
            "X-Sieve: cmu-sieve 2.0\n",
            "Return-Path: <james_ngola2002@maktoob.com>\n",
            "Message-Id: <200210310241.g9V2fNm6028281@cs.CU>\n",
            "From: \"MR. JAMES NGOLA.\" <james_ngola2002@maktoob.com>\n",
            "Reply-To: james_ngola2002@maktoob.com\n",
            "To: webmaster@acl\n",
            "First few chars of second extracted string: From r  Thu Oct 31 08:11:39 2002\n",
            "Return-Path: <bensul2004nng@spinfinder.com>\n",
            "X-Sieve: cmu-sieve 2.0\n",
            "Return-Path: <bensul2004nng@spinfinder.com>\n",
            "Message-Id: <200210311310.g9VDANt24674@bloodwork.mr.itd.UM>\n",
            "From: \"Mr. Ben Suleman\" <bensul2004nng@spinfinder.com>\n",
            "Date: Thu, 31 Oct 2002 05:10:00\n",
            "To: R@M\n",
            "S\n"
          ]
        }
      ]
    },
    {
      "cell_type": "markdown",
      "source": [
        "## 4 Define preprocessing\n",
        "\n",
        "Key aspects for this dataset:\n",
        "\n",
        "- Parse individual email strings from the `all_fraud_email_strings` list.\n",
        "- Apply **minimal cleaning** to the body and subject to preserve social engineering cues, as per the original thesis plan for this specific dataset."
      ],
      "metadata": {
        "id": "DleukSxnG-EW"
      }
    },
    {
      "cell_type": "code",
      "source": [
        "def get_email_body_and_urls(message_obj):\n",
        "    \"\"\"\n",
        "    Extracts text body and URLs from an email.Message object.\n",
        "    Tries plain text first, then HTML. Extracts hrefs from  tags in HTML.\n",
        "    \"\"\"\n",
        "\n",
        "    body_text = \"\"\n",
        "    html_body_text = \"\"\n",
        "    urls_in_html = []\n",
        "\n",
        "    if message_obj is None: return \"\", []\n",
        "\n",
        "    if message_obj.is_multipart():\n",
        "\n",
        "        for part in message_obj.walk():\n",
        "            content_type = part.get_content_type(); content_disposition = str(part.get_content_disposition())\n",
        "\n",
        "            if \"attachment\" not in content_disposition:\n",
        "\n",
        "                if content_type == \"text/plain\" and not body_text:\n",
        "\n",
        "                    try:\n",
        "                      payload = part.get_payload(decode=True); charset = part.get_content_charset() or 'utf-8'; body_text = payload.decode(charset, errors='replace')\n",
        "\n",
        "                    except Exception: pass\n",
        "\n",
        "                elif content_type == \"text/html\" and not html_body_text:\n",
        "\n",
        "                    try:\n",
        "                        payload = part.get_payload(decode=True); charset = part.get_content_charset() or 'utf-8'; html_content = payload.decode(charset, errors='replace'); html_body_text = html_content\n",
        "                        soup_part = BeautifulSoup(html_content, 'html.parser')\n",
        "                        for link_tag in soup_part.find_all('a', href=True): urls_in_html.append(link_tag['href'])\n",
        "\n",
        "                    except Exception: pass\n",
        "\n",
        "    # Not multipart\n",
        "    else:\n",
        "        content_type = message_obj.get_content_type()\n",
        "\n",
        "        try:\n",
        "            payload = message_obj.get_payload(decode=True)\n",
        "            charset = message_obj.get_content_charset() or 'utf-8'\n",
        "\n",
        "            if content_type == \"text/plain\":\n",
        "              body_text = payload.decode(charset, errors='replace')\n",
        "\n",
        "            elif content_type == \"text/html\":\n",
        "                html_body_text = payload.decode(charset, errors='replace')\n",
        "                soup_part = BeautifulSoup(html_body_text, 'html.parser')\n",
        "\n",
        "                for link_tag in soup_part.find_all('a', href=True):\n",
        "                  urls_in_html.append(link_tag['href'])\n",
        "\n",
        "        except Exception: pass\n",
        "\n",
        "    # Logic to decide final body: prefer plain. If not, clean HTML.\n",
        "    final_body = \"\"\n",
        "    if body_text.strip():\n",
        "      final_body = body_text\n",
        "\n",
        "    elif html_body_text.strip():\n",
        "        soup = BeautifulSoup(html_body_text, 'html.parser')\n",
        "\n",
        "        # Extract text, trying to preserve some structure with spaces\n",
        "        # Remove script and style elements\n",
        "        for script_or_style in soup([\"script\", \"style\"]):\n",
        "          script_or_style.decompose()\n",
        "\n",
        "        final_body = soup.get_text(separator=' ', strip=True)\n",
        "\n",
        "    # Unique URLs\n",
        "    return final_body, list(set(urls_in_html))"
      ],
      "metadata": {
        "id": "s5lkwqqNHSwo"
      },
      "execution_count": 11,
      "outputs": []
    },
    {
      "cell_type": "code",
      "source": [
        "def clean_text_content_minimal(text):\n",
        "  if not isinstance(text, str):\n",
        "    return \"\"\n",
        "\n",
        "  # NFKC normalization is generally safe and good for consistency\n",
        "  text = unicodedata.normalize('NFKC', text)\n",
        "\n",
        "  # Lowercasing can be debated for preserving emphasis, but often done for consistency\n",
        "  text = text.lower()\n",
        "\n",
        "  # Replace multiple whitespaces with a single space\n",
        "  text = re.sub(r'\\s+', ' ', text)\n",
        "\n",
        "  # For Nigerian fraud, we want to be *less* aggressive with removing punctuation or special characters\n",
        "  # as they might be part of the \"style\" or contain pseudo-official looking marks.\n",
        "  # We might still remove non-ASCII if they are causing encoding issues and not part of the message intent.\n",
        "  # text = re.sub(r'[^\\x00-\\x7F]+', ' ', text) # Optional: remove non-ASCII\n",
        "  # Avoid aggressive removal of punctuation that might be used for emphasis or specific phrasing.\n",
        "\n",
        "  # For now, just strip leading/trailing whitespace.\n",
        "  text = text.strip()\n",
        "\n",
        "  return text"
      ],
      "metadata": {
        "id": "BWcowPm3I2HH"
      },
      "execution_count": 12,
      "outputs": []
    },
    {
      "cell_type": "code",
      "source": [
        "def extract_email_headers(message_obj):\n",
        "    headers = {}\n",
        "\n",
        "    if message_obj is None:\n",
        "      return {'subject': '',\n",
        "              'from_address': '',\n",
        "              'to_address': '',\n",
        "              'date_time': pd.NaT,\n",
        "              'message_id': ''\n",
        "      }\n",
        "\n",
        "    try:\n",
        "        # Ensure it's a string\n",
        "        headers['subject'] = str(message_obj.get('Subject', ''))\n",
        "\n",
        "        from_addrs = getaddresses(message_obj.get_all('From', []))\n",
        "        headers['from_address'] = ', '.join([addr for name, addr in from_addrs if addr])\n",
        "\n",
        "        to_addrs = getaddresses(message_obj.get_all('To', []))\n",
        "        headers['to_address'] = ', '.join([addr for name, addr in to_addrs if addr])\n",
        "\n",
        "        date_str = message_obj.get('Date', '')\n",
        "        headers['date_time'] = pd.to_datetime(parsedate_to_datetime(date_str), errors='coerce') if date_str else pd.NaT\n",
        "\n",
        "        headers['message_id'] = str(message_obj.get('Message-ID', ''))\n",
        "\n",
        "    except Exception:\n",
        "      headers.setdefault('subject', '')\n",
        "      headers.setdefault('from_address', '')\n",
        "      headers.setdefault('to_address', '')\n",
        "      headers.setdefault('date_time', pd.NaT)\n",
        "      headers.setdefault('message_id', '')\n",
        "\n",
        "    return headers"
      ],
      "metadata": {
        "id": "ErTHuoQBKupi"
      },
      "execution_count": 13,
      "outputs": []
    },
    {
      "cell_type": "code",
      "source": [
        "def parse_fraud_email_string(email_raw_string, original_identifier=\"N/A\"):\n",
        "    \"\"\"Parses an email from its raw string content, applying minimal cleaning.\"\"\"\n",
        "\n",
        "    if not isinstance(email_raw_string, str) or not email_raw_string.strip():\n",
        "        print(f\"Warning: Empty or invalid email string for {original_identifier}\")\n",
        "        return None\n",
        "\n",
        "    try:\n",
        "        # Use email.parser.Parser for string inputs\n",
        "        message_obj = Parser(policy=policy.default).parsestr(email_raw_string)\n",
        "\n",
        "    except Exception as e:\n",
        "        print(f\"Warning: Could not parse email string for {original_identifier}: {e}\")\n",
        "        return None\n",
        "\n",
        "    if message_obj is None:\n",
        "        return None\n",
        "\n",
        "    headers = extract_email_headers(message_obj)\n",
        "    body_content, urls = get_email_body_and_urls(message_obj) # body_content is relatively raw here\n",
        "\n",
        "    return {\n",
        "        'original_identifier': original_identifier,\n",
        "        'message_id': headers['message_id'],\n",
        "        'date_time': headers['date_time'],\n",
        "        'from_address': headers['from_address'],\n",
        "        'to_address': headers['to_address'],\n",
        "        'subject_original': headers['subject'], # Keep original for inspection\n",
        "        'subject_cleaned_minimal': clean_text_content_minimal(headers['subject']),\n",
        "        'body_cleaned_minimal': clean_text_content_minimal(body_content), # Apply minimal cleaning\n",
        "        'urls_in_email': urls,\n",
        "        'body_length': len(body_content), # Length of body before minimal cleaning\n",
        "        'num_urls': len(urls)\n",
        "    }"
      ],
      "metadata": {
        "id": "mtZpn2H6Py34"
      },
      "execution_count": 14,
      "outputs": []
    },
    {
      "cell_type": "markdown",
      "source": [
        "## 5 Apply preprocessing\n",
        "\n",
        "Loop through the `all_fraud_email_strings`, parse each one,\n",
        "and collect the structured data."
      ],
      "metadata": {
        "id": "KGskDVTlK8lC"
      }
    },
    {
      "cell_type": "code",
      "source": [
        "df_processed_nigerian_fraud = pd.DataFrame()\n",
        "processed_fraud_emails_list = []\n",
        "\n",
        "# Ensure all_fraud_email_strings is defined and populated from Section 2.1\n",
        "if 'all_fraud_email_strings' in globals() and all_fraud_email_strings:\n",
        "    print(f\"Applying parsing and minimal cleaning to {len(all_fraud_email_strings)} fraud email strings...\")\n",
        "    start_time = time.time()\n",
        "\n",
        "    for i, email_str_content in enumerate(all_fraud_email_strings):\n",
        "\n",
        "        # Using index as an identifier for now, or use Message-ID if reliably parsed\n",
        "        parsed_data = parse_fraud_email_string(email_str_content, original_identifier=f\"fraud_email_{i+1}\")\n",
        "\n",
        "        if parsed_data:\n",
        "            processed_fraud_emails_list.append(parsed_data)\n",
        "\n",
        "        # Progress every 10%\n",
        "        if (i + 1) % (max(1, len(all_fraud_email_strings) // 10)) == 0:\n",
        "            print(f\"  Processed {i + 1}/{len(all_fraud_email_strings)} email strings...\")\n",
        "\n",
        "    df_processed_nigerian_fraud = pd.DataFrame(processed_fraud_emails_list)\n",
        "    end_time = time.time()\n",
        "\n",
        "    if not df_processed_nigerian_fraud.empty:\n",
        "        print(f\"\\nSuccessfully processed {len(df_processed_nigerian_fraud)} Nigerian Fraud emails in {end_time - start_time:.2f} seconds.\")\n",
        "        print(\"Processed Nigerian Fraud head:\")\n",
        "        print(df_processed_nigerian_fraud.head())\n",
        "        print(\"\\nProcessed Nigerian Fraud info:\")\n",
        "        df_processed_nigerian_fraud.info()\n",
        "\n",
        "    else:\n",
        "        print(\"No Nigerian Fraud emails were successfully processed. Check the input strings or parsing logic.\")\n",
        "\n",
        "else:\n",
        "    print(\"Variable 'all_fraud_email_strings' not found or is empty.\")"
      ],
      "metadata": {
        "colab": {
          "base_uri": "https://localhost:8080/"
        },
        "id": "WJH-hh_ELWra",
        "outputId": "694ba725-5bc9-4e08-c663-392ddc0361a4"
      },
      "execution_count": 15,
      "outputs": [
        {
          "output_type": "stream",
          "name": "stdout",
          "text": [
            "Applying parsing and minimal cleaning to 3978 fraud email strings...\n",
            "  Processed 397/3978 email strings...\n",
            "  Processed 794/3978 email strings...\n",
            "  Processed 1191/3978 email strings...\n",
            "  Processed 1588/3978 email strings...\n",
            "  Processed 1985/3978 email strings...\n",
            "  Processed 2382/3978 email strings...\n",
            "  Processed 2779/3978 email strings...\n",
            "  Processed 3176/3978 email strings...\n",
            "  Processed 3573/3978 email strings...\n",
            "  Processed 3970/3978 email strings...\n",
            "\n",
            "Successfully processed 3978 Nigerian Fraud emails in 12.59 seconds.\n",
            "Processed Nigerian Fraud head:\n",
            "  original_identifier                                          message_id  \\\n",
            "0       fraud_email_1                 <200210310241.g9V2fNm6028281@cs.CU>   \n",
            "1       fraud_email_2     <200210311310.g9VDANt24674@bloodwork.mr.itd.UM>   \n",
            "2       fraud_email_3       <200210312227.g9VMQvDj017948@bluewhale.cs.CU>   \n",
            "3       fraud_email_4       <200210312253.g9VMreDj018024@bluewhale.cs.CU>   \n",
            "4       fraud_email_5  <200211010948.gA19mLu22932@perfectworld.mr.itd.UM>   \n",
            "\n",
            "                   date_time                  from_address  \\\n",
            "0  2002-10-31 02:38:20+00:00   james_ngola2002@maktoob.com   \n",
            "1        2002-10-31 05:10:00  bensul2004nng@spinfinder.com   \n",
            "2  2002-10-31 22:17:55+01:00          obong_715@epatra.com   \n",
            "3        2002-10-31 22:44:20          obong_715@epatra.com   \n",
            "4  2002-11-01 01:45:04+01:00            m_abacha03@www.com   \n",
            "\n",
            "             to_address                            subject_original  \\\n",
            "0  webmaster@aclweb.org  URGENT BUSINESS ASSISTANCE AND PARTNERSHIP   \n",
            "1                   R@M         URGENT ASSISTANCE /RELATIONSHIP (P)   \n",
            "2  webmaster@aclweb.org                             GOOD DAY TO YOU   \n",
            "3  webmaster@aclweb.org                             GOOD DAY TO YOU   \n",
            "4                   R@M                     I Need Your Assistance.   \n",
            "\n",
            "                      subject_cleaned_minimal  \\\n",
            "0  urgent business assistance and partnership   \n",
            "1         urgent assistance /relationship (p)   \n",
            "2                             good day to you   \n",
            "3                             good day to you   \n",
            "4                     i need your assistance.   \n",
            "\n",
            "                                                                                                                                    body_cleaned_minimal  \\\n",
            "0  from:mr. james ngola. confidential tel: 233-27-587908. e-mail: (james_ngola2002@maktoob.com). urgent business assistance and partnership. dear fri...   \n",
            "1  dear friend, i am mr. ben suleman a custom officer and work as assistant controller of the customs and excise department of the federal ministry o...   \n",
            "2  from his royal majesty (hrm) crown ruler of eleme kingdom chief daniel eleme, phd, eze 1 of eleme.e-mail address:obong_715@epatra.com attention:pr...   \n",
            "3  from his royal majesty (hrm) crown ruler of eleme kingdom chief daniel eleme, phd, eze 1 of eleme.e-mail address:obong_715@epatra.com attention:pr...   \n",
            "4  dear sir, it is with a heart full of hope that i write to seek your help in respect of the context below. i am mrs. maryam abacha the former first...   \n",
            "\n",
            "  urls_in_email  body_length  num_urls  \n",
            "0            []         3385         0  \n",
            "1            []         3246         0  \n",
            "2            []         3256         0  \n",
            "3            []         3254         0  \n",
            "4            []         4023         0  \n",
            "\n",
            "Processed Nigerian Fraud info:\n",
            "<class 'pandas.core.frame.DataFrame'>\n",
            "RangeIndex: 3978 entries, 0 to 3977\n",
            "Data columns (total 11 columns):\n",
            " #   Column                   Non-Null Count  Dtype \n",
            "---  ------                   --------------  ----- \n",
            " 0   original_identifier      3978 non-null   object\n",
            " 1   message_id               3978 non-null   object\n",
            " 2   date_time                3421 non-null   object\n",
            " 3   from_address             3978 non-null   object\n",
            " 4   to_address               3978 non-null   object\n",
            " 5   subject_original         3978 non-null   object\n",
            " 6   subject_cleaned_minimal  3978 non-null   object\n",
            " 7   body_cleaned_minimal     3978 non-null   object\n",
            " 8   urls_in_email            3978 non-null   object\n",
            " 9   body_length              3978 non-null   int64 \n",
            " 10  num_urls                 3978 non-null   int64 \n",
            "dtypes: int64(2), object(9)\n",
            "memory usage: 342.0+ KB\n"
          ]
        }
      ]
    },
    {
      "cell_type": "markdown",
      "source": [
        "## 6 Intial EDA on processed data\n",
        "\n",
        "Explore the structure and content of the parsed Nigerian Fraud dataset."
      ],
      "metadata": {
        "id": "-tnX-YNTLt2q"
      }
    },
    {
      "cell_type": "code",
      "source": [
        "if not df_processed_nigerian_fraud.empty:\n",
        "    print(\"--- Nigerian Fraud Data Info ---\")\n",
        "    df_processed_nigerian_fraud.info(show_counts=True)\n",
        "    print(f\"\\nMissing values in processed data:\\n{df_processed_nigerian_fraud.isnull().sum()}\")\n",
        "    print(\"\\n--- Example Email Content (Minimally Cleaned, first 300 chars) ---\")\n",
        "\n",
        "    for content in df_processed_nigerian_fraud['body_cleaned_minimal'].sample(min(3, len(df_processed_nigerian_fraud))):\n",
        "        # Print first 300 chars\n",
        "        print(content[:300])\n",
        "        print(\"-\" * 30)\n",
        "\n",
        "else:\n",
        "    print(\"Processed Nigerian Fraud DataFrame is empty. Skipping EDA.\")"
      ],
      "metadata": {
        "colab": {
          "base_uri": "https://localhost:8080/"
        },
        "id": "yz7trXHRMnsQ",
        "outputId": "73bb09a2-938c-47a8-f327-c0117f8fc2d0"
      },
      "execution_count": 16,
      "outputs": [
        {
          "output_type": "stream",
          "name": "stdout",
          "text": [
            "--- Nigerian Fraud Data Info ---\n",
            "<class 'pandas.core.frame.DataFrame'>\n",
            "RangeIndex: 3978 entries, 0 to 3977\n",
            "Data columns (total 11 columns):\n",
            " #   Column                   Non-Null Count  Dtype \n",
            "---  ------                   --------------  ----- \n",
            " 0   original_identifier      3978 non-null   object\n",
            " 1   message_id               3978 non-null   object\n",
            " 2   date_time                3421 non-null   object\n",
            " 3   from_address             3978 non-null   object\n",
            " 4   to_address               3978 non-null   object\n",
            " 5   subject_original         3978 non-null   object\n",
            " 6   subject_cleaned_minimal  3978 non-null   object\n",
            " 7   body_cleaned_minimal     3978 non-null   object\n",
            " 8   urls_in_email            3978 non-null   object\n",
            " 9   body_length              3978 non-null   int64 \n",
            " 10  num_urls                 3978 non-null   int64 \n",
            "dtypes: int64(2), object(9)\n",
            "memory usage: 342.0+ KB\n",
            "\n",
            "Missing values in processed data:\n",
            "original_identifier          0\n",
            "message_id                   0\n",
            "date_time                  557\n",
            "from_address                 0\n",
            "to_address                   0\n",
            "subject_original             0\n",
            "subject_cleaned_minimal      0\n",
            "body_cleaned_minimal         0\n",
            "urls_in_email                0\n",
            "body_length                  0\n",
            "num_urls                     0\n",
            "dtype: int64\n",
            "\n",
            "--- Example Email Content (Minimally Cleaned, first 300 chars) ---\n",
            "i have a new email address!you can now email me at: mroliverdonald_4@yahoo.com >from the office of: mr,oliver donald royal bank of scotland united kingdom. mr2oliver@yahoo.it attn, i am mr oliver donald i am 50 years of age, a native of london .i got your information while browsing through internet \n",
            "------------------------------\n",
            "strictly personal my name is mrs julliet abrams. i am the credit manager in a bank here in the republic of benin. i am contacting you with regard to transfer of a huge sum of money from a deceased account. though i know that a transaction of this magnitude will make any one apprehensive and worried,\n",
            "------------------------------\n",
            "from monica yangani email monicayangani250@netscape.net tel 27 8046828612 attn:sir/madam i know you will be surprised to hear from me, but please consider this as a request from family in dire need of assistance.i am mrs.monica yangani, writing to you from government reserved area (gra).i got your c\n",
            "------------------------------\n"
          ]
        }
      ]
    },
    {
      "cell_type": "markdown",
      "source": [
        "## 7 Labelling strategy\n",
        "\n",
        "All emails in this \"Fraudulent E-mail Corpus\" (Nigerian Fraud) are considered phishing/scams.\n",
        "Assign label `1`."
      ],
      "metadata": {
        "id": "HPCX1NnCN3df"
      }
    },
    {
      "cell_type": "code",
      "source": [
        "if not df_processed_nigerian_fraud.empty:\n",
        "    # 1 for phishing/fraud\n",
        "    df_processed_nigerian_fraud['label'] = 1\n",
        "    print(\"Added 'label' column (all 1s for phishing/fraud).\")\n",
        "    print(df_processed_nigerian_fraud[['body_cleaned_minimal', 'label']].head())\n",
        "\n",
        "else:\n",
        "    print(\"Processed Nigerian Fraud DataFrame is empty. Skipping labeling.\")"
      ],
      "metadata": {
        "colab": {
          "base_uri": "https://localhost:8080/"
        },
        "id": "QfKjuqTBN_sO",
        "outputId": "deb2e3de-7e10-4b93-83b1-f0055cfdcb28"
      },
      "execution_count": 17,
      "outputs": [
        {
          "output_type": "stream",
          "name": "stdout",
          "text": [
            "Added 'label' column (all 1s for phishing/fraud).\n",
            "                                                                                                                                    body_cleaned_minimal  \\\n",
            "0  from:mr. james ngola. confidential tel: 233-27-587908. e-mail: (james_ngola2002@maktoob.com). urgent business assistance and partnership. dear fri...   \n",
            "1  dear friend, i am mr. ben suleman a custom officer and work as assistant controller of the customs and excise department of the federal ministry o...   \n",
            "2  from his royal majesty (hrm) crown ruler of eleme kingdom chief daniel eleme, phd, eze 1 of eleme.e-mail address:obong_715@epatra.com attention:pr...   \n",
            "3  from his royal majesty (hrm) crown ruler of eleme kingdom chief daniel eleme, phd, eze 1 of eleme.e-mail address:obong_715@epatra.com attention:pr...   \n",
            "4  dear sir, it is with a heart full of hope that i write to seek your help in respect of the context below. i am mrs. maryam abacha the former first...   \n",
            "\n",
            "   label  \n",
            "0      1  \n",
            "1      1  \n",
            "2      1  \n",
            "3      1  \n",
            "4      1  \n"
          ]
        }
      ]
    },
    {
      "cell_type": "markdown",
      "source": [
        "## 8 Further EDA on labeled and processed data"
      ],
      "metadata": {
        "id": "sUZ3y3i-OJaL"
      }
    },
    {
      "cell_type": "code",
      "source": [
        "if not df_processed_nigerian_fraud.empty:\n",
        "    print(\"--- Basic Stats of Processed Nigerian Fraud Data ---\")\n",
        "\n",
        "    # 'body_length' was from original body, let's add length of minimally cleaned body\n",
        "    df_processed_nigerian_fraud['body_cleaned_length'] = df_processed_nigerian_fraud['body_cleaned_minimal'].apply(len)\n",
        "    print(df_processed_nigerian_fraud[['body_length', 'body_cleaned_length', 'num_urls']].describe())\n",
        "\n",
        "    plt.figure(figsize=(10, 6))\n",
        "    sns.histplot(df_processed_nigerian_fraud['body_cleaned_length'], bins=50, kde=False)\n",
        "    plt.title('Distribution of Email Body Lengths (Nigerian Fraud - Minimally Cleaned)')\n",
        "    plt.xlabel('Body Length (characters)')\n",
        "    plt.ylabel('Frequency')\n",
        "    plt.show()\n",
        "\n",
        "    print(\"\\n--- Sample Subjects (Minimally Cleaned) ---\")\n",
        "\n",
        "    for text in df_processed_nigerian_fraud['subject_cleaned_minimal'].sample(min(5, len(df_processed_nigerian_fraud))):\n",
        "        print(text[:150]) # Print first 150 chars of subject\n",
        "\n",
        "else:\n",
        "    print(\"Processed Nigerian Fraud DataFrame is empty. Skipping further EDA.\")"
      ],
      "metadata": {
        "colab": {
          "base_uri": "https://localhost:8080/",
          "height": 859
        },
        "id": "r9EU_PCXOdYH",
        "outputId": "b3487f71-09aa-425f-a2c4-036dbf38621f"
      },
      "execution_count": 18,
      "outputs": [
        {
          "output_type": "stream",
          "name": "stdout",
          "text": [
            "--- Basic Stats of Processed Nigerian Fraud Data ---\n",
            "         body_length  body_cleaned_length     num_urls\n",
            "count    3978.000000          3978.000000  3978.000000\n",
            "mean     2605.638260          2566.629462     0.186777\n",
            "std      2341.538559          2303.701543     0.624338\n",
            "min         0.000000             0.000000     0.000000\n",
            "25%      1866.000000          1829.250000     0.000000\n",
            "50%      2544.000000          2494.500000     0.000000\n",
            "75%      3211.750000          3172.000000     0.000000\n",
            "max    124968.000000        122659.000000     7.000000\n"
          ]
        },
        {
          "output_type": "display_data",
          "data": {
            "text/plain": [
              "<Figure size 1000x600 with 1 Axes>"
            ],
            "image/png": "[encoded data removed]"
          },
          "metadata": {}
        },
        {
          "output_type": "stream",
          "name": "stdout",
          "text": [
            "\n",
            "--- Sample Subjects (Minimally Cleaned) ---\n",
            "assistance please\n",
            "swift response plz.\n",
            "from:mrs.amina.a bello.\n",
            "acknowledge my mail\n",
            "mail me\n"
          ]
        }
      ]
    },
    {
      "cell_type": "markdown",
      "source": [
        "## 9 Save processed data\n",
        "\n",
        "Save the processed Nigerian Fraud data. This will serve as a specialized test set."
      ],
      "metadata": {
        "id": "sFKyfw1QOhB2"
      }
    },
    {
      "cell_type": "code",
      "source": [
        "if not df_processed_nigerian_fraud.empty:\n",
        "    OUTPUT_FILENAME_NIGERIAN = f'nigerian_fraud_test_processed_{len(df_processed_nigerian_fraud)}.csv'\n",
        "    # Saves to /content/ in Colab if just filename is given\n",
        "\n",
        "    try:\n",
        "        df_processed_nigerian_fraud.to_csv(OUTPUT_FILENAME_NIGERIAN, index=False)\n",
        "        print(f\"Processed Nigerian Fraud test data saved to Colab runtime at: /content/{OUTPUT_FILENAME_NIGERIAN}\")\n",
        "\n",
        "    except Exception as e:\n",
        "        print(f\"Error saving processed Nigerian Fraud data: {e}\")\n",
        "\n",
        "else:\n",
        "    print(\"Processed Nigerian Fraud DataFrame is empty. Nothing to save.\")"
      ],
      "metadata": {
        "colab": {
          "base_uri": "https://localhost:8080/"
        },
        "id": "5lMcfGMIOnAr",
        "outputId": "84b071f0-e0a4-4147-b5a3-399db7e1ab04"
      },
      "execution_count": 19,
      "outputs": [
        {
          "output_type": "stream",
          "name": "stdout",
          "text": [
            "Processed Nigerian Fraud test data saved to Colab runtime at: /content/nigerian_fraud_test_processed_3978.csv\n",
            "IMPORTANT: This file is temporary. Download it or save to Google Drive to keep it.\n"
          ]
        }
      ]
    }
  ]
}