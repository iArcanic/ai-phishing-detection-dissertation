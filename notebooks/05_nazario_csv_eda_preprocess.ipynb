{
  "nbformat": 4,
  "nbformat_minor": 0,
  "metadata": {
    "colab": {
      "provenance": []
    },
    "kernelspec": {
      "name": "python3",
      "display_name": "Python 3"
    },
    "language_info": {
      "name": "python"
    }
  },
  "cells": [
    {
      "cell_type": "markdown",
      "source": [
        "# Nazario EDA and Preprocessing"
      ],
      "metadata": {
        "id": "L3Cn-EJXx-Dg"
      }
    },
    {
      "cell_type": "markdown",
      "source": [
        "## 1 Import libraries"
      ],
      "metadata": {
        "id": "QdmLD12byOlp"
      }
    },
    {
      "cell_type": "code",
      "execution_count": 1,
      "metadata": {
        "colab": {
          "base_uri": "https://localhost:8080/"
        },
        "id": "O83Ak69yx3yq",
        "outputId": "641a4c08-9544-4346-be31-5b710ea18093"
      },
      "outputs": [
        {
          "output_type": "stream",
          "name": "stdout",
          "text": [
            "Loading libraries...\n",
            "Libraries imported.\n",
            "\n"
          ]
        }
      ],
      "source": [
        "print(\"Loading libraries...\")\n",
        "\n",
        "# Core libraries\n",
        "import os\n",
        "import pandas as pd\n",
        "import numpy as np\n",
        "import re # For regular expressions\n",
        "import time # To time operations\n",
        "import gdown\n",
        "import ast\n",
        "\n",
        "# Email parsing\n",
        "import email\n",
        "from email import policy\n",
        "from email.parser import BytesParser, Parser\n",
        "from email.utils import parsedate_to_datetime, getaddresses\n",
        "\n",
        "# HTML processing\n",
        "from bs4 import BeautifulSoup\n",
        "\n",
        "# Text processing\n",
        "import unicodedata\n",
        "\n",
        "# Visualization\n",
        "import matplotlib.pyplot as plt\n",
        "import seaborn as sns\n",
        "\n",
        "pd.set_option('display.max_colwidth', 150)\n",
        "pd.set_option('display.max_columns', 50)\n",
        "\n",
        "print(\"Libraries imported.\\n\")"
      ]
    },
    {
      "cell_type": "markdown",
      "source": [
        "## 2 Load raw Nazario data"
      ],
      "metadata": {
        "id": "eyu28viSMorF"
      }
    },
    {
      "cell_type": "code",
      "source": [
        "NAZARIO_CSV_GDRIVE_FILE_ID = '1T41EN9aBljruMd5Yq0jWPsi1vbFlZFNg'\n",
        "NAZARIO_CSV_LOCAL_FILENAME = 'nazario_5.csv'\n",
        "gdrive_url_nazario_csv = f'https://drive.google.com/uc?id={NAZARIO_CSV_GDRIVE_FILE_ID}'\n",
        "\n",
        "if not os.path.exists(NAZARIO_CSV_LOCAL_FILENAME):\n",
        "    print(f\"Downloading {NAZARIO_CSV_LOCAL_FILENAME} from Google Drive...\")\n",
        "\n",
        "    try:\n",
        "        gdown.download(gdrive_url_nazario_csv, NAZARIO_CSV_LOCAL_FILENAME, quiet=False)\n",
        "        print(f\"{NAZARIO_CSV_LOCAL_FILENAME} downloaded successfully.\")\n",
        "\n",
        "    except Exception as e:\n",
        "        print(f\"ERROR downloading {NAZARIO_CSV_LOCAL_FILENAME}: {e}. Check File ID and share settings.\")\n",
        "\n",
        "else:\n",
        "    print(f\"{NAZARIO_CSV_LOCAL_FILENAME} already exists in Colab runtime.\")\n",
        "\n",
        "# Use the downloaded/local file\n",
        "NAZARIO_CSV_INPUT_PATH = NAZARIO_CSV_LOCAL_FILENAME\n",
        "\n",
        "# Initialise\n",
        "df_nazario_raw = pd.DataFrame()\n",
        "\n",
        "if os.path.exists(NAZARIO_CSV_INPUT_PATH):\n",
        "    try:\n",
        "        df_nazario_raw = pd.read_csv(NAZARIO_CSV_INPUT_PATH, encoding='latin1')\n",
        "        print(f\"Successfully loaded {NAZARIO_CSV_INPUT_PATH}. Shape: {df_nazario_raw.shape}\")\n",
        "        print(\"\\nRaw Nazario CSV head:\")\n",
        "        print(df_nazario_raw.head())\n",
        "        print(\"\\nRaw Nazario CSV info:\")\n",
        "        df_nazario_raw.info(show_counts=True)\n",
        "\n",
        "    except Exception as e:\n",
        "        print(f\"Error loading {NAZARIO_CSV_INPUT_PATH}: {e}\")\n",
        "\n",
        "else:\n",
        "    print(f\"ERROR: {NAZARIO_CSV_INPUT_PATH} not found after download attempt.\")"
      ],
      "metadata": {
        "colab": {
          "base_uri": "https://localhost:8080/"
        },
        "id": "OgCZdB50MoNe",
        "outputId": "0abbac73-b84a-482f-c72e-c8671305a516"
      },
      "execution_count": 2,
      "outputs": [
        {
          "output_type": "stream",
          "name": "stdout",
          "text": [
            "Downloading nazario_5.csv from Google Drive...\n"
          ]
        },
        {
          "output_type": "stream",
          "name": "stderr",
          "text": [
            "Downloading...\n",
            "From: https://drive.google.com/uc?id=1T41EN9aBljruMd5Yq0jWPsi1vbFlZFNg\n",
            "To: /content/nazario_5.csv\n",
            "100%|██████████| 11.8M/11.8M [00:00<00:00, 50.8MB/s]\n"
          ]
        },
        {
          "output_type": "stream",
          "name": "stdout",
          "text": [
            "nazario_5.csv downloaded successfully.\n",
            "Successfully loaded nazario_5.csv. Shape: (3065, 7)\n",
            "\n",
            "Raw Nazario CSV head:\n",
            "                                                      sender  \\\n",
            "0                         \"Hu, Sylvia\" <Sylvia.Hu@ENRON.com>   \n",
            "1                           \"Webb, Jay\" <Jay.Webb@ENRON.com>   \n",
            "2                       \"Symms, Mark\" <Mark.Symms@ENRON.com>   \n",
            "3                     \"Thorne, Judy\" <Judy.Thorne@ENRON.com>   \n",
            "4  \"Williams, Jason R (Credit)\" <Jason.R.Williams@ENRON.com>   \n",
            "\n",
            "                                                                                                                                                receiver  \\\n",
            "0  \"Acevedo, Felecia\" <Felecia.Acevedo@ENRON.com>, \"Brown, MeCole\" <MeCole.Brown@ENRON.com>, \"Cash, Michelle\" <Michelle.Cash@ENRON.com>, \"Castellano,...   \n",
            "1                                                                                                               \"Lambie, Chris\" <Chris.Lambie@ENRON.com>   \n",
            "2                                                                                                            \"Thomas, Paul D.\" <Paul.D.Thomas@ENRON.com>   \n",
            "3                                                                         \"Grass, John\" <John.Grass@ENRON.com>, \"Nemec, Gerald\" <Gerald.Nemec@ENRON.com>   \n",
            "4                                                              \"Nemec, Gerald\" <Gerald.Nemec@ENRON.com>, \"Dickson, Stacy E.\" <Stacy.E.Dickson@ENRON.com>   \n",
            "\n",
            "                              date  \\\n",
            "0  Fri, 29 Jun 2001 08:36:09 -0500   \n",
            "1  Fri, 29 Jun 2001 09:37:04 -0500   \n",
            "2  Fri, 29 Jun 2001 08:39:30 -0500   \n",
            "3  Fri, 29 Jun 2001 10:35:17 -0500   \n",
            "4  Fri, 29 Jun 2001 10:40:02 -0500   \n",
            "\n",
            "                                       subject  \\\n",
            "0  FW: June 29 -- BNA, Inc. Daily Labor Report   \n",
            "1                           NGX failover plan.   \n",
            "2                            RE: Intranet Site   \n",
            "3         FW: ENA Upstream Company information   \n",
            "4                          New Master Physical   \n",
            "\n",
            "                                                                                                                                                    body  \\\n",
            "0  User ID:  enrondlr\\nPW:        bnaweb22\\n\\n\\n -----Original Message-----\\nFrom: \\t\"BNA Highlights\" <bhighlig@bna.com>\\nSent:\\tThursday, June 28, 2...   \n",
            "1  \\nHi Chris,  \\n\\nTonight we are rolling out a new report.  Currently, only you and Jon have access to it.  You'll select it off the main reports m...   \n",
            "2  Rika r these new?\\n\\n -----Original Message-----\\nFrom: \\tThomas, Paul D.  \\nSent:\\tFriday, June 29, 2001 8:39 AM\\nTo:\\tSymms, Mark\\nSubject:\\tInt...   \n",
            "3  John/Gerald,\\n\\nWe are currently trading under GTC Spot contracts with El Paso for ENA Upstream.  Would you prefer to review their Master agreemen...   \n",
            "4  Gerald and Stacy -\\n\\nAttached is a worksheet for a new master physical with Berry Petroleum Company.  Please prepare draft at your earliest conve...   \n",
            "\n",
            "   label  \\\n",
            "0      0   \n",
            "1      0   \n",
            "2      0   \n",
            "3      0   \n",
            "4      0   \n",
            "\n",
            "                                                                                                                                                    urls  \n",
            "0  ['http://web.bna.com', 'http://pubs.bna.com/ip/BNA/dlr.nsf/id/a0a4j5k3h4_', 'http://pubs.bna.com/ip/BNA/dlr.nsf/id/a0a4j5e3e4_', 'http://pubs.bna....  \n",
            "1                                                                                                                                                     []  \n",
            "2  ['http://eastpower.dev.corp.enron.com/summary/pjmsummary.asp', 'http://eastpower.dev.corp.enron.com/summary/nyisosummary.asp', 'http://eastpower.d...  \n",
            "3                                                                                                                                                     []  \n",
            "4                                                                                                                                                     []  \n",
            "\n",
            "Raw Nazario CSV info:\n",
            "<class 'pandas.core.frame.DataFrame'>\n",
            "RangeIndex: 3065 entries, 0 to 3064\n",
            "Data columns (total 7 columns):\n",
            " #   Column    Non-Null Count  Dtype \n",
            "---  ------    --------------  ----- \n",
            " 0   sender    3063 non-null   object\n",
            " 1   receiver  2952 non-null   object\n",
            " 2   date      3062 non-null   object\n",
            " 3   subject   3015 non-null   object\n",
            " 4   body      3065 non-null   object\n",
            " 5   label     3065 non-null   int64 \n",
            " 6   urls      3065 non-null   object\n",
            "dtypes: int64(1), object(6)\n",
            "memory usage: 167.7+ KB\n"
          ]
        }
      ]
    },
    {
      "cell_type": "markdown",
      "source": [
        "## 3 Initial Data Exploration (EDA)\n",
        "\n",
        "The CSV has been loaded. We have identified the following key columns: 'sender', 'receiver', 'date', 'subject', 'body', 'label' (0 or 1), and 'urls' (array).\n",
        "\n",
        "1. Confirm these columns and their data types.\n",
        "2. Investigate the 'label' column. Since Nazario is a phishing corpus, we expect most/all to be phishing (label 1). If there are 0s, we need to understand what they represent in this specific CSV.\n",
        "3. Examine the 'urls' column format.\n",
        "4. Check for missing values."
      ],
      "metadata": {
        "id": "Eu4chEa2O0KL"
      }
    },
    {
      "cell_type": "code",
      "source": [
        "TEXT_COLUMN_NAME_NAZARIO = 'body'\n",
        "SUBJECT_COLUMN_NAME_NAZARIO = 'subject'\n",
        "LABEL_COLUMN_NAME_NAZARIO = 'label'\n",
        "URLS_COLUMN_NAME_NAZARIO = 'urls'\n",
        "\n",
        "if not df_nazario_raw.empty:\n",
        "    print(\"--- Column Names Confirmed ---\")\n",
        "    print(df_nazario_raw.columns.tolist())\n",
        "\n",
        "    print(f\"\\nUsing text (body) column: '{TEXT_COLUMN_NAME_NAZARIO}'\")\n",
        "    print(f\"Using subject column: '{SUBJECT_COLUMN_NAME_NAZARIO}'\")\n",
        "    print(f\"Using label column: '{LABEL_COLUMN_NAME_NAZARIO}'\")\n",
        "    print(f\"Using URLs column: '{URLS_COLUMN_NAME_NAZARIO}'\")\n",
        "\n",
        "    print(f\"\\n--- Data Types ---\")\n",
        "    print(df_nazario_raw.dtypes)\n",
        "\n",
        "    print(f\"\\n--- Missing Values per Column ---\")\n",
        "    print(df_nazario_raw.isnull().sum())\n",
        "\n",
        "    # Drop rows where essential columns for our purpose (body, subject, label) are missing\n",
        "    essential_cols_nazario = [TEXT_COLUMN_NAME_NAZARIO, SUBJECT_COLUMN_NAME_NAZARIO, LABEL_COLUMN_NAME_NAZARIO]\n",
        "    df_nazario_raw.dropna(subset=essential_cols_nazario, inplace=True)\n",
        "    print(f\"\\nShape after dropping NaNs in essential columns: {df_nazario_raw.shape}\")\n",
        "\n",
        "    print(f\"\\n--- Value Counts for Label Column ('{LABEL_COLUMN_NAME_NAZARIO}') ---\")\n",
        "    print(df_nazario_raw[LABEL_COLUMN_NAME_NAZARIO].value_counts(dropna=False))\n",
        "\n",
        "    print(f\"\\n--- EDA for 'urls' column ('{URLS_COLUMN_NAME_NAZARIO}') ---\")\n",
        "\n",
        "    if URLS_COLUMN_NAME_NAZARIO in df_nazario_raw.columns:\n",
        "        # Convert string representation of list to actual list if needed\n",
        "        # This is a common issue with CSVs storing list-like data\n",
        "        # For now, let's just see some raw values and non-null counts\n",
        "        print(f\"Sample values from '{URLS_COLUMN_NAME_NAZARIO}' column:\")\n",
        "        print(df_nazario_raw[URLS_COLUMN_NAME_NAZARIO].dropna().sample(min(5, len(df_nazario_raw[URLS_COLUMN_NAME_NAZARIO].dropna()))).tolist())\n",
        "        df_nazario_raw['has_urls_in_col'] = df_nazario_raw[URLS_COLUMN_NAME_NAZARIO].notna() & (df_nazario_raw[URLS_COLUMN_NAME_NAZARIO].astype(str).str.len() > 2) # Check for non-empty lists like '[]'\n",
        "        print(f\"\\nCounts for '{URLS_COLUMN_NAME_NAZARIO}' presence (heuristic):\")\n",
        "        print(df_nazario_raw['has_urls_in_col'].value_counts())\n",
        "\n",
        "    else:\n",
        "        print(f\"'{URLS_COLUMN_NAME_NAZARIO}' column not found.\")\n",
        "\n",
        "\n",
        "    print(f\"\\n--- Example Text from Body Column ('{TEXT_COLUMN_NAME_NAZARIO}') (first 300 chars) ---\")\n",
        "\n",
        "    if not df_nazario_raw[TEXT_COLUMN_NAME_NAZARIO].empty:\n",
        "        for content in df_nazario_raw[TEXT_COLUMN_NAME_NAZARIO].sample(min(3, len(df_nazario_raw))).astype(str):\n",
        "            print(content[:300])\n",
        "            print(\"-\" * 30)\n",
        "\n",
        "    else:\n",
        "        print(f\"No non-missing values found in the text column '{TEXT_COLUMN_NAME_NAZARIO}' for sampling.\")\n",
        "\n",
        "    print(f\"\\n--- Example Subjects from Subject Column ('{SUBJECT_COLUMN_NAME_NAZARIO}') ---\")\n",
        "\n",
        "    if not df_nazario_raw[SUBJECT_COLUMN_NAME_NAZARIO].empty:\n",
        "        for content in df_nazario_raw[SUBJECT_COLUMN_NAME_NAZARIO].sample(min(3, len(df_nazario_raw))).astype(str):\n",
        "            print(content)\n",
        "            print(\"-\" * 30)\n",
        "\n",
        "    else:\n",
        "        print(f\"No non-missing values found in the subject column '{SUBJECT_COLUMN_NAME_NAZARIO}' for sampling.\")\n",
        "\n",
        "else:\n",
        "    print(\"Raw Nazario DataFrame is empty. Skipping EDA.\")"
      ],
      "metadata": {
        "colab": {
          "base_uri": "https://localhost:8080/"
        },
        "id": "oXs2iyJgO1ns",
        "outputId": "e6233795-b463-4731-be44-88542c90a569"
      },
      "execution_count": 3,
      "outputs": [
        {
          "output_type": "stream",
          "name": "stdout",
          "text": [
            "--- Column Names Confirmed ---\n",
            "['sender', 'receiver', 'date', 'subject', 'body', 'label', 'urls']\n",
            "\n",
            "Using text (body) column: 'body'\n",
            "Using subject column: 'subject'\n",
            "Using label column: 'label'\n",
            "Using URLs column: 'urls'\n",
            "\n",
            "--- Data Types ---\n",
            "sender      object\n",
            "receiver    object\n",
            "date        object\n",
            "subject     object\n",
            "body        object\n",
            "label        int64\n",
            "urls        object\n",
            "dtype: object\n",
            "\n",
            "--- Missing Values per Column ---\n",
            "sender        2\n",
            "receiver    113\n",
            "date          3\n",
            "subject      50\n",
            "body          0\n",
            "label         0\n",
            "urls          0\n",
            "dtype: int64\n",
            "\n",
            "Shape after dropping NaNs in essential columns: (3015, 7)\n",
            "\n",
            "--- Value Counts for Label Column ('label') ---\n",
            "label\n",
            "1    1561\n",
            "0    1454\n",
            "Name: count, dtype: int64\n",
            "\n",
            "--- EDA for 'urls' column ('urls') ---\n",
            "Sample values from 'urls' column:\n",
            "[\"['http://www.bbc.co.uk/email', 'http://www.bbc.co.uk/email', 'http://www.bbc.co.uk/email', 'http://www.bbc.co.uk/email/help']\", '1', '[]', \"['http://xent.com/mailman/listinfo/fork']\", \"['http://www.nabble.com/Virtual-Config-Dir-Problem-tp2305355p15355559.html']\"]\n",
            "\n",
            "Counts for 'urls' presence (heuristic):\n",
            "has_urls_in_col\n",
            "False    2273\n",
            "True      742\n",
            "Name: count, dtype: int64\n",
            "\n",
            "--- Example Text from Body Column ('body') (first 300 chars) ---\n",
            "Dear jose, The password for your email account (jose@monkey.org)Â expires todayÂ 10/11/2022 3:37:27 a.m.. Keep and continue with the same password using the below portal. Â  Â  Keep Same PasswordÂ   Access to this account will be restrict and block till proper verification.Â   You can also see secur\n",
            "------------------------------\n",
            "Click here to proceed with your Email update.  Click here to proceed with your Email update.\n",
            "------------------------------\n",
            "\n",
            "does anyone know of a program, to convert GIF to ICON (win 3.1)\n",
            "and GIF to ANSI\n",
            "\n",
            "Thank you, qhuynh@site.gmu.edu\n",
            "\n",
            "\n",
            "------------------------------\n",
            "\n",
            "--- Example Subjects from Subject Column ('subject') ---\n",
            "Your Account Has Been Temporarily Restricted For Verification\n",
            "------------------------------\n",
            "Mail Server Error: (16) Incoming Messages Failed To Deliver to Your Mail\n",
            "------------------------------\n",
            "=?utf-8?Q?Your=20account=20is=20limited=20until=20we=20?=\n",
            "\t=?utf-8?Q?hear=20from=20you=20=7E?=\n",
            "------------------------------\n"
          ]
        }
      ]
    },
    {
      "cell_type": "markdown",
      "source": [
        "## 4 Define preprocessing functions"
      ],
      "metadata": {
        "id": "Y2bdj2NmV33p"
      }
    },
    {
      "cell_type": "code",
      "source": [
        "def clean_text_content(text):\n",
        "    if not isinstance(text, str):\n",
        "      return \"\"\n",
        "\n",
        "    # Step 1: Basic HTML Tag Removal (if CSV text column contains HTML)\n",
        "    if bool(BeautifulSoup(text, \"html.parser\").find()):\n",
        "        soup = BeautifulSoup(text, 'html.parser')\n",
        "\n",
        "        for script_or_style in soup([\"script\", \"style\"]):\n",
        "            script_or_style.decompose()\n",
        "\n",
        "        text = soup.get_text(separator=' ', strip=True)\n",
        "\n",
        "    # Step 2: Text Normalization and Cleaning\n",
        "    text = unicodedata.normalize('NFKC', text)\n",
        "    text = text.lower()\n",
        "\n",
        "    # Remove URLs and email addresses before other punctuation if they are noisy\n",
        "    text = re.sub(r'http\\S+|www\\S+|https\\S+', ' ', text, flags=re.MULTILINE)\n",
        "    text = re.sub(r'\\S+@\\S+', ' ', text)\n",
        "\n",
        "    # Keep basic punctuation, replace other non-alphanumeric with space\n",
        "    text = re.sub(r\"[^a-zA-Z0-9\\s.,!?'\\\"$%()]\", ' ', text)\n",
        "\n",
        "    # Consolidate multiple spaces\n",
        "    text = re.sub(r'\\s+', ' ', text)\n",
        "\n",
        "    # Strip text\n",
        "    text = text.strip()\n",
        "\n",
        "    return text"
      ],
      "metadata": {
        "id": "YpGE8asSWqcJ"
      },
      "execution_count": 4,
      "outputs": []
    },
    {
      "cell_type": "code",
      "source": [
        "def parse_url_list_string(url_list_str):\n",
        "    if pd.isna(url_list_str) or not isinstance(url_list_str, str) or url_list_str in ['[]', '']:\n",
        "        return []\n",
        "\n",
        "    try:\n",
        "        evaluated_list = ast.literal_eval(url_list_str)\n",
        "\n",
        "        if isinstance(evaluated_list, list):\n",
        "            return [str(url).strip() for url in evaluated_list if str(url).strip()] # Ensure urls are strings and not empty\n",
        "\n",
        "        return []\n",
        "\n",
        "    except (ValueError, SyntaxError):\n",
        "        # If it's not a perfect list string, try basic splitting if it's just comma-separated\n",
        "        # This part is heuristic and depends on the actual format of your 'urls' column string\n",
        "\n",
        "        if isinstance(url_list_str, str) and ',' in url_list_str:\n",
        "            return [url.strip().strip(\"'\\\"\") for url in url_list_str.strip(\"[]\").split(',') if url.strip()]\n",
        "\n",
        "        return []"
      ],
      "metadata": {
        "id": "mEt2yl_YXXjJ"
      },
      "execution_count": 5,
      "outputs": []
    },
    {
      "cell_type": "markdown",
      "source": [
        "## 5 Apply preprocessing and label assignment\n",
        "\n",
        "Clean the 'body' and 'subject' text data.\n",
        "Parse the 'urls' column into actual lists of URLs.\n",
        "Convert 'date' column to datetime objects.\n",
        "Assign label `1` (phishing) to all entries, as Nazario is a phishing corpus. For its role as a *phishing test set*, we'll focus on label 1."
      ],
      "metadata": {
        "id": "MbOxf0FdYPDW"
      }
    },
    {
      "cell_type": "code",
      "source": [
        "df_processed_nazario = pd.DataFrame()\n",
        "\n",
        "TEXT_COL = 'body'\n",
        "SUBJECT_COL = 'subject'\n",
        "LABEL_COL = 'label'\n",
        "URLS_COL = 'urls'\n",
        "DATE_COL = 'date'\n",
        "SENDER_COL = 'sender'\n",
        "RECEIVER_COL = 'receiver'\n",
        "\n",
        "if not df_nazario_raw.empty:\n",
        "    print(f\"Processing Nazario data...\")\n",
        "\n",
        "    # Create a working copy with essential columns\n",
        "    # Keep original columns for now, select final ones later\n",
        "    df_temp_nazario = df_nazario_raw.copy()\n",
        "\n",
        "    # Clean the text columns\n",
        "    print(f\"Cleaning text in '{TEXT_COL}'...\")\n",
        "    start_time = time.time()\n",
        "    df_temp_nazario['body_cleaned'] = df_temp_nazario[TEXT_COL].astype(str).apply(clean_text_content)\n",
        "\n",
        "    print(f\"Cleaning text in '{SUBJECT_COL}'...\")\n",
        "    df_temp_nazario['subject_cleaned'] = df_temp_nazario[SUBJECT_COL].astype(str).apply(clean_text_content)\n",
        "\n",
        "    # Parse date column\n",
        "    if DATE_COL in df_temp_nazario.columns:\n",
        "        print(f\"Parsing '{DATE_COL}' column...\")\n",
        "        df_temp_nazario['datetime_parsed'] = pd.to_datetime(df_temp_nazario[DATE_COL], errors='coerce')\n",
        "\n",
        "    # Parse URLs column (if it exists and is a string representation of a list)\n",
        "    if URLS_COL in df_temp_nazario.columns:\n",
        "        print(f\"Parsing '{URLS_COL}' column...\")\n",
        "        df_temp_nazario['urls_list'] = df_temp_nazario[URLS_COL].apply(parse_url_list_string)\n",
        "        df_temp_nazario['num_urls_extracted'] = df_temp_nazario['urls_list'].apply(len)\n",
        "\n",
        "    else: # If 'urls' column wasn't what we thought, create placeholders\n",
        "        df_temp_nazario['urls_list'] = [[] for _ in range(len(df_temp_nazario))]\n",
        "        df_temp_nazario['num_urls_extracted'] = 0\n",
        "\n",
        "    end_time = time.time()\n",
        "    print(f\"Text, date, and URL parsing took {end_time - start_time:.2f} seconds.\")\n",
        "\n",
        "    # Handle the 'label' column from CSV\n",
        "    # Since Nazario is a phishing corpus, we are primarily interested in label 1.\n",
        "    # If your CSV's 'label' column has 0s, you might want to filter them out or investigate why.\n",
        "    print(f\"\\nOriginal label distribution from CSV's '{LABEL_COL}':\")\n",
        "    print(df_temp_nazario[LABEL_COL].value_counts())\n",
        "\n",
        "    # For this test set's purpose, we will use only the phishing emails.\n",
        "    # If your label column is already correct (e.g., all 1s, or a mix and you filter), great.\n",
        "    # If you need to override or select, do it here:\n",
        "    df_temp_nazario = df_temp_nazario[df_temp_nazario[LABEL_COL] == 1].copy()\n",
        "\n",
        "    # Confirming our desired label for this test set\n",
        "    df_temp_nazario['final_label'] = 1\n",
        "\n",
        "    # Select final columns for the processed dataframe\n",
        "    cols_to_keep_final = ['body_cleaned', 'subject_cleaned', 'final_label', 'urls_list', 'num_urls_extracted', 'datetime_parsed', SENDER_COL, RECEIVER_COL]\n",
        "\n",
        "    # Filter to only include columns that actually exist in df_temp_nazario\n",
        "    existing_cols_to_keep = [col for col in cols_to_keep_final if col in df_temp_nazario.columns]\n",
        "    df_processed_nazario = df_temp_nazario[existing_cols_to_keep].copy()\n",
        "\n",
        "    # Standardise label column\n",
        "    df_processed_nazario.rename(columns={'final_label': 'label'}, inplace=True)\n",
        "\n",
        "    if not df_processed_nazario.empty:\n",
        "        print(f\"\\nProcessed {len(df_processed_nazario)} phishing emails from Nazario.\")\n",
        "        print(\"Processed Nazario head:\")\n",
        "        print(df_processed_nazario.head())\n",
        "        print(\"\\nLabel distribution in final processed Nazario data (should be all 1s):\")\n",
        "        print(df_processed_nazario['label'].value_counts(dropna=False))\n",
        "\n",
        "    else:\n",
        "        print(\"No phishing emails (label 1) selected from Nazario after processing. Check label column and filtering.\")\n",
        "\n",
        "else:\n",
        "    print(\"Raw Nazario DataFrame is empty. Skipping preprocessing.\")"
      ],
      "metadata": {
        "colab": {
          "base_uri": "https://localhost:8080/"
        },
        "id": "rJgR9RckYNVv",
        "outputId": "0003d42c-dbd7-44b3-bd4f-5507f018eeaa"
      },
      "execution_count": 6,
      "outputs": [
        {
          "output_type": "stream",
          "name": "stdout",
          "text": [
            "Processing Nazario data...\n",
            "Cleaning text in 'body'...\n",
            "Cleaning text in 'subject'...\n",
            "Parsing 'date' column...\n",
            "Parsing 'urls' column...\n",
            "Text, date, and URL parsing took 3.80 seconds.\n",
            "\n",
            "Original label distribution from CSV's 'label':\n",
            "label\n",
            "1    1561\n",
            "0    1454\n",
            "Name: count, dtype: int64\n",
            "\n",
            "Processed 1561 phishing emails from Nazario.\n",
            "Processed Nazario head:\n",
            "                                                                                                                                               body_cleaned  \\\n",
            "1500  this text is part of the internal format of your mail folder, and is not a real message. it is created automatically by the mail system software. ...   \n",
            "1501  business with cpanel whm dear client, our technical services department are carrying out a planned software upgrade. please login to re confirm yo...   \n",
            "1502  your two incoming mails were placed on pending status due to the recent upgrade in our database, in order to receive the messages kindly click her...   \n",
            "1503                                                          password will expire in 3 days. click here to validate e mail thank you, it service help desk   \n",
            "1504  to ensure delivery to your inbox, please add to your address book. security upgrade may affect usaa.com access view accounts privacy promise conta...   \n",
            "\n",
            "                                     subject_cleaned  label urls_list  \\\n",
            "1500  don't delete this message folder internal data      1        []   \n",
            "1501                             verify your account      1        []   \n",
            "1502                       helpdesk mailbox alert!!!      1        []   \n",
            "1503                            it service help desk      1        []   \n",
            "1504     final usaa reminder update your account now      1        []   \n",
            "\n",
            "      num_urls_extracted            datetime_parsed  \\\n",
            "1500                   0                        NaT   \n",
            "1501                   0  2015-10-30 00:00:48-05:00   \n",
            "1502                   0                        NaT   \n",
            "1503                   0  2015-10-30 14:54:33+00:00   \n",
            "1504                   0  2015-10-30 14:02:33-05:00   \n",
            "\n",
            "                                                    sender  \\\n",
            "1500  Mail System Internal Data <MAILER-DAEMON@monkey.org>   \n",
            "1501                           cPanel <service@cpanel.com>   \n",
            "1502       Microsoft Outlook <recepcao@unimedceara.com.br>   \n",
            "1503                        Ann Garcia <AnGarcia@mcoe.org>   \n",
            "1504                    \"USAA\" <usaaacctupdate@sccu4u.com>   \n",
            "\n",
            "                                    receiver  \n",
            "1500                                     NaN  \n",
            "1501                         jose@monkey.org  \n",
            "1502                                     NaN  \n",
            "1503     \"info@maaaaa.org\" <info@maaaaa.org>  \n",
            "1504  Recipients <usaaacctupdate@sccu4u.com>  \n",
            "\n",
            "Label distribution in final processed Nazario data (should be all 1s):\n",
            "label\n",
            "1    1561\n",
            "Name: count, dtype: int64\n"
          ]
        },
        {
          "output_type": "stream",
          "name": "stderr",
          "text": [
            "<ipython-input-6-820fa4a2ede0>:29: FutureWarning: In a future version of pandas, parsing datetimes with mixed time zones will raise an error unless `utc=True`. Please specify `utc=True` to opt in to the new behaviour and silence this warning. To create a `Series` with mixed offsets and `object` dtype, please use `apply` and `datetime.datetime.strptime`\n",
            "  df_temp_nazario['datetime_parsed'] = pd.to_datetime(df_temp_nazario[DATE_COL], errors='coerce')\n"
          ]
        }
      ]
    },
    {
      "cell_type": "markdown",
      "source": [
        "## 6 Further EDA on processed data\n",
        "\n",
        "Review characteristics of the cleaned Nazario phishing emails."
      ],
      "metadata": {
        "id": "vaqGYiMHYyeP"
      }
    },
    {
      "cell_type": "code",
      "source": [
        "if not df_processed_nazario.empty:\n",
        "    df_processed_nazario['body_cleaned_length'] = df_processed_nazario['body_cleaned'].astype(str).apply(len)\n",
        "    df_processed_nazario['subject_cleaned_length'] = df_processed_nazario['subject_cleaned'].astype(str).apply(len)\n",
        "\n",
        "    print(\"--- Descriptive Stats for Processed Nazario ---\")\n",
        "    print(df_processed_nazario[['body_cleaned_length', 'subject_cleaned_length', 'num_urls_extracted']].describe())\n",
        "\n",
        "    plt.figure(figsize=(12, 5))\n",
        "    plt.subplot(1, 2, 1)\n",
        "    sns.histplot(data=df_processed_nazario, x='body_cleaned_length', bins=50, kde=False)\n",
        "    plt.title('Body Length Distribution (Nazario Phishing)')\n",
        "\n",
        "    plt.subplot(1, 2, 2)\n",
        "    sns.histplot(data=df_processed_nazario, x='subject_cleaned_length', bins=30, kde=False)\n",
        "    plt.title('Subject Length Distribution (Nazario Phishing)')\n",
        "    plt.tight_layout()\n",
        "    plt.show()\n",
        "\n",
        "    print(f\"\\n--- EDA for parsed 'urls_list' (if column exists) ---\")\n",
        "\n",
        "    if 'urls_list' in df_processed_nazario.columns:\n",
        "        print(\"Number of emails with extracted URLs vs without:\")\n",
        "        print(df_processed_nazario['num_urls_extracted'].apply(lambda x: x > 0).value_counts())\n",
        "\n",
        "        # Example of some extracted URLs\n",
        "        print(\"\\nSample of extracted URLs (first URL from emails that have them):\")\n",
        "        urls_sample = df_processed_nazario[df_processed_nazario['num_urls_extracted'] > 0]['urls_list'].sample(min(5, len(df_processed_nazario[df_processed_nazario['num_urls_extracted'] > 0]))).tolist()\n",
        "\n",
        "        for url_l in urls_sample:\n",
        "            # if list is not empty\n",
        "            if url_l:\n",
        "                print(url_l[0]) # print first url\n",
        "\n",
        "else:\n",
        "    print(\"Processed Nazario DataFrame is empty.\")"
      ],
      "metadata": {
        "colab": {
          "base_uri": "https://localhost:8080/",
          "height": 735
        },
        "id": "H6ZWNWQfY4_h",
        "outputId": "561f7d9d-9e5e-4d09-d556-c5451dbe89ed"
      },
      "execution_count": 7,
      "outputs": [
        {
          "output_type": "stream",
          "name": "stdout",
          "text": [
            "--- Descriptive Stats for Processed Nazario ---\n",
            "       body_cleaned_length  subject_cleaned_length  num_urls_extracted\n",
            "count         1.561000e+03             1561.000000              1561.0\n",
            "mean          3.739360e+03               36.664318                 0.0\n",
            "std           1.091267e+05               24.572578                 0.0\n",
            "min           0.000000e+00                0.000000                 0.0\n",
            "25%           3.520000e+02               23.000000                 0.0\n",
            "50%           6.270000e+02               32.000000                 0.0\n",
            "75%           1.108000e+03               45.000000                 0.0\n",
            "max           4.312233e+06              476.000000                 0.0\n"
          ]
        },
        {
          "output_type": "display_data",
          "data": {
            "text/plain": [
              "<Figure size 1200x500 with 2 Axes>"
            ],
            "image/png": "[encoded data removed]"
          },
          "metadata": {}
        },
        {
          "output_type": "stream",
          "name": "stdout",
          "text": [
            "\n",
            "--- EDA for parsed 'urls_list' (if column exists) ---\n",
            "Number of emails with extracted URLs vs without:\n",
            "num_urls_extracted\n",
            "False    1561\n",
            "Name: count, dtype: int64\n",
            "\n",
            "Sample of extracted URLs (first URL from emails that have them):\n"
          ]
        }
      ]
    },
    {
      "cell_type": "markdown",
      "source": [
        "## 7 Save processed data\n",
        "\n",
        "Save the processed Nazario phishing data. This will serve as an independent test set."
      ],
      "metadata": {
        "id": "dT0-QeB3ZBOn"
      }
    },
    {
      "cell_type": "code",
      "source": [
        "if not df_processed_nazario.empty:\n",
        "    OUTPUT_FILENAME_NAZARIO = f'nazario_phishing_test_processed_{len(df_processed_nazario)}.csv'\n",
        "\n",
        "    try:\n",
        "        df_processed_nazario.to_csv(OUTPUT_FILENAME_NAZARIO, index=False) # Saves to /content/\n",
        "        print(f\"Processed Nazario test data saved to Colab runtime at: /content/{OUTPUT_FILENAME_NAZARIO}\")\n",
        "\n",
        "    except Exception as e:\n",
        "        print(f\"Error saving processed Nazario data: {e}\")\n",
        "\n",
        "else:\n",
        "    print(\"Processed Nazario DataFrame is empty. Nothing to save.\")"
      ],
      "metadata": {
        "colab": {
          "base_uri": "https://localhost:8080/"
        },
        "id": "jcFE5AyEZFky",
        "outputId": "4c7457de-3748-464c-b077-3e720ed7b885"
      },
      "execution_count": 8,
      "outputs": [
        {
          "output_type": "stream",
          "name": "stdout",
          "text": [
            "Processed Nazario test data saved to Colab runtime at: /content/nazario_phishing_test_processed_1561.csv\n",
            "IMPORTANT: This file is temporary. Download or save to Google Drive.\n"
          ]
        }
      ]
    }
  ]
}