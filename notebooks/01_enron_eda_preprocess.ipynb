{
  "nbformat": 4,
  "nbformat_minor": 0,
  "metadata": {
    "colab": {
      "provenance": []
    },
    "kernelspec": {
      "name": "python3",
      "display_name": "Python 3"
    },
    "language_info": {
      "name": "python"
    }
  },
  "cells": [
    {
      "cell_type": "markdown",
      "source": [
        "# Enron data EDA and preprocessing"
      ],
      "metadata": {
        "id": "dK_vikmunJ2I"
      }
    },
    {
      "cell_type": "markdown",
      "source": [
        "## 1 Import libraries\n",
        "\n",
        "Import the required libraries for data manipulation, email and HTML parsing, text cleaning, and data visualisations."
      ],
      "metadata": {
        "id": "K_oSY8uZPcss"
      }
    },
    {
      "cell_type": "code",
      "execution_count": null,
      "metadata": {
        "id": "Y4zVqTqTMqe_",
        "colab": {
          "base_uri": "https://localhost:8080/"
        },
        "outputId": "413d2b72-3b21-46f9-d023-edcaddcbbdae"
      },
      "outputs": [
        {
          "output_type": "stream",
          "name": "stdout",
          "text": [
            "Loading libraries...\n",
            "Libraries imported.\n"
          ]
        }
      ],
      "source": [
        "print(\"Loading libraries...\")\n",
        "\n",
        "# Core libraries\n",
        "import os\n",
        "import pandas as pd\n",
        "import numpy as np\n",
        "import re\n",
        "import logging\n",
        "import time\n",
        "\n",
        "# Kaggle API\n",
        "import kagglehub\n",
        "\n",
        "# Email parsing\n",
        "import email\n",
        "from email import policy\n",
        "from email.parser import BytesParser, Parser\n",
        "from email.utils import parsedate_to_datetime, getaddresses\n",
        "\n",
        "# HTML processing\n",
        "from bs4 import BeautifulSoup\n",
        "\n",
        "# Text processing\n",
        "import unicodedata\n",
        "\n",
        "# EDA visualisation\n",
        "import matplotlib.pyplot as plt\n",
        "import seaborn as sns\n",
        "\n",
        "# Configure pandas display options\n",
        "pd.set_option(\"display.max_colwidth\", 200)\n",
        "pd.set_option(\"display.max_columns\", 200)\n",
        "\n",
        "print(\"Libraries imported.\")"
      ]
    },
    {
      "cell_type": "markdown",
      "source": [
        "## 2 Load raw Enron data\n",
        "\n",
        "Load the Enron email dataset via the Kaggle API. The Kaggle dataset (`wcukierski/enron-email-dataset`) provides a CSV (`emails.csv`) that maps file paths to the raw email messages. We will primarily use this to access and parse the email content."
      ],
      "metadata": {
        "id": "y3-MeDelR9n7"
      }
    },
    {
      "cell_type": "code",
      "source": [
        "ENRON_CSV_PATH = None\n",
        "\n",
        "# Initialize as empty\n",
        "df_enron_meta = pd.DataFrame()\n",
        "\n",
        "try:\n",
        "    print(\"Downloading/accessing Enron email dataset metadata via kagglehub...\")\n",
        "    enron_dataset_path = kagglehub.dataset_download(\"wcukierski/enron-email-dataset\")\n",
        "    print(f\"Kagglehub reported dataset path: {enron_dataset_path}\")\n",
        "\n",
        "    # List contents of the reported path for verification\n",
        "    print(f\"\\n--- Contents of '{enron_dataset_path}': ---\")\n",
        "    if os.path.exists(enron_dataset_path) and os.path.isdir(enron_dataset_path):\n",
        "        for item in os.listdir(enron_dataset_path):\n",
        "            print(item)\n",
        "    else:\n",
        "        print(f\"ERROR: The path '{enron_dataset_path}' reported by kagglehub does not exist or is not a directory.\")\n",
        "    print(\"--- End of directory contents ---\\n\")\n",
        "\n",
        "    ENRON_CSV_PATH = os.path.join(enron_dataset_path, 'emails.csv')\n",
        "    print(f\"Constructed path to emails.csv: {ENRON_CSV_PATH}\")\n",
        "\n",
        "    emails_csv_exists = os.path.exists(ENRON_CSV_PATH)\n",
        "\n",
        "    if emails_csv_exists:\n",
        "        df_enron_meta = pd.read_csv(ENRON_CSV_PATH)\n",
        "        print(f\"\\nSuccessfully loaded {ENRON_CSV_PATH}. Shape: {df_enron_meta.shape}\")\n",
        "        print(\"Metadata (emails.csv) head:\")\n",
        "\n",
        "        # Displaying head AND ensuring 'message' column is shown if it exists\n",
        "        print(df_enron_meta.head())\n",
        "        if 'message' not in df_enron_meta.columns:\n",
        "            print(\"\\nERROR: The crucial 'message' column (containing raw email text) is not in emails.csv!\")\n",
        "            print(\"Please verify the structure of your emails.csv file.\")\n",
        "            df_enron_meta = pd.DataFrame()\n",
        "        else:\n",
        "            print(\"\\n'message' column found in emails.csv.\")\n",
        "    else:\n",
        "        print(f\"ERROR: 'emails.csv' NOT found at the constructed path: {ENRON_CSV_PATH}\")\n",
        "        print(\"Please check the printed directory contents from kagglehub and adjust paths if necessary.\")\n",
        "\n",
        "except Exception as e:\n",
        "    print(f\"An error occurred: {e}\")\n",
        "    print(\"Ensure kagglehub is installed and you have appropriate Kaggle API credentials configured if needed.\")"
      ],
      "metadata": {
        "id": "RSvxiCPSSGHR",
        "colab": {
          "base_uri": "https://localhost:8080/"
        },
        "outputId": "1cd6cc9a-3e7b-4794-a083-c2f6493f35ad"
      },
      "execution_count": null,
      "outputs": [
        {
          "output_type": "stream",
          "name": "stdout",
          "text": [
            "Downloading/accessing Enron email dataset metadata via kagglehub...\n",
            "Kagglehub reported dataset path: /kaggle/input/enron-email-dataset\n",
            "\n",
            "--- Contents of '/kaggle/input/enron-email-dataset': ---\n",
            "emails.csv\n",
            "--- End of directory contents ---\n",
            "\n",
            "Constructed path to emails.csv: /kaggle/input/enron-email-dataset/emails.csv\n",
            "\n",
            "Successfully loaded /kaggle/input/enron-email-dataset/emails.csv. Shape: (517401, 2)\n",
            "Metadata (emails.csv) head:\n",
            "                       file  \\\n",
            "0     allen-p/_sent_mail/1.   \n",
            "1    allen-p/_sent_mail/10.   \n",
            "2   allen-p/_sent_mail/100.   \n",
            "3  allen-p/_sent_mail/1000.   \n",
            "4  allen-p/_sent_mail/1001.   \n",
            "\n",
            "                                                                                                                                                                                                   message  \n",
            "0  Message-ID: <18782981.1075855378110.JavaMail.evans@thyme>\\nDate: Mon, 14 May 2001 16:39:00 -0700 (PDT)\\nFrom: phillip.allen@enron.com\\nTo: tim.belden@enron.com\\nSubject: \\nMime-Version: 1.0\\nConte...  \n",
            "1  Message-ID: <15464986.1075855378456.JavaMail.evans@thyme>\\nDate: Fri, 4 May 2001 13:51:00 -0700 (PDT)\\nFrom: phillip.allen@enron.com\\nTo: john.lavorato@enron.com\\nSubject: Re:\\nMime-Version: 1.0\\n...  \n",
            "2  Message-ID: <24216240.1075855687451.JavaMail.evans@thyme>\\nDate: Wed, 18 Oct 2000 03:00:00 -0700 (PDT)\\nFrom: phillip.allen@enron.com\\nTo: leah.arsdall@enron.com\\nSubject: Re: test\\nMime-Version: ...  \n",
            "3  Message-ID: <13505866.1075863688222.JavaMail.evans@thyme>\\nDate: Mon, 23 Oct 2000 06:13:00 -0700 (PDT)\\nFrom: phillip.allen@enron.com\\nTo: randall.gay@enron.com\\nSubject: \\nMime-Version: 1.0\\nCont...  \n",
            "4  Message-ID: <30922949.1075863688243.JavaMail.evans@thyme>\\nDate: Thu, 31 Aug 2000 05:07:00 -0700 (PDT)\\nFrom: phillip.allen@enron.com\\nTo: greg.piper@enron.com\\nSubject: Re: Hello\\nMime-Version: 1...  \n",
            "\n",
            "'message' column found in emails.csv.\n"
          ]
        }
      ]
    },
    {
      "cell_type": "markdown",
      "source": [
        "## 3 Initial Data Exploration (EDA)\n",
        "\n",
        "Basic exploration on the loaded set, viewing some of the sample messages.\n",
        "\n",
        "- Understand the structure of `emails.csv`.\n",
        "- Look at how many emails and any initial missing values in the metadata.\n",
        "- Examine a few rae email objects (`message_obj`) to see their structure, i.e. headers, payload, multipart."
      ],
      "metadata": {
        "id": "eFEebJSASGf4"
      }
    },
    {
      "cell_type": "code",
      "source": [
        "if not df_enron_meta.empty:\n",
        "    print(\"--- Metadata Info ---\")\n",
        "\n",
        "    # show_counts=True for non-null counts\n",
        "    df_enron_meta.info(show_counts=True)\n",
        "\n",
        "    print(f\"\\n--- Missing values in metadata ---\")\n",
        "    print(df_enron_meta.isnull().sum())\n",
        "\n",
        "    # Check for missing values in the 'message' column specifically\n",
        "    if 'message' in df_enron_meta.columns:\n",
        "        print(f\"\\nMissing values in 'message' column: {df_enron_meta['message'].isnull().sum()}\")\n",
        "\n",
        "        # Drop rows where the 'message' content is missing, as we can't parse them\n",
        "        df_enron_meta.dropna(subset=['message'], inplace=True)\n",
        "        print(f\"Shape after dropping rows with missing 'message': {df_enron_meta.shape}\")\n",
        "\n",
        "    print(f\"\\n--- Unique values in 'file' (first 5 to see user structure) ---\")\n",
        "    df_enron_meta['user'] = df_enron_meta['file'].apply(lambda x: x.split('/')[0])\n",
        "    print(f\"Number of unique users found in file paths: {df_enron_meta['user'].nunique()}\")\n",
        "    print(\"Top 5 users by email count:\")\n",
        "    print(df_enron_meta['user'].value_counts().nlargest(5))\n",
        "\n",
        "    if 'message' in df_enron_meta.columns:\n",
        "        print(\"\\n--- Example raw message content (first 500 chars of first message) ---\")\n",
        "        print(df_enron_meta['message'].iloc[0][:500])\n",
        "else:\n",
        "    print(\"df_enron_meta is empty. Skipping EDA on metadata.\")"
      ],
      "metadata": {
        "id": "rl8ZMhpNTfRk",
        "colab": {
          "base_uri": "https://localhost:8080/"
        },
        "outputId": "e148f9f4-e9e1-42ff-a29d-48ca00007be0"
      },
      "execution_count": null,
      "outputs": [
        {
          "output_type": "stream",
          "name": "stdout",
          "text": [
            "--- Metadata Info ---\n",
            "<class 'pandas.core.frame.DataFrame'>\n",
            "RangeIndex: 517401 entries, 0 to 517400\n",
            "Data columns (total 2 columns):\n",
            " #   Column   Non-Null Count   Dtype \n",
            "---  ------   --------------   ----- \n",
            " 0   file     517401 non-null  object\n",
            " 1   message  517401 non-null  object\n",
            "dtypes: object(2)\n",
            "memory usage: 7.9+ MB\n",
            "\n",
            "--- Missing values in metadata ---\n",
            "file       0\n",
            "message    0\n",
            "dtype: int64\n",
            "\n",
            "Missing values in 'message' column: 0\n",
            "Shape after dropping rows with missing 'message': (517401, 2)\n",
            "\n",
            "--- Unique values in 'file' (first 5 to see user structure) ---\n",
            "Number of unique users found in file paths: 150\n",
            "Top 5 users by email count:\n",
            "user\n",
            "kaminski-v    28465\n",
            "dasovich-j    28234\n",
            "kean-s        25351\n",
            "mann-k        23381\n",
            "jones-t       19950\n",
            "Name: count, dtype: int64\n",
            "\n",
            "--- Example raw message content (first 500 chars of first message) ---\n",
            "Message-ID: <18782981.1075855378110.JavaMail.evans@thyme>\n",
            "Date: Mon, 14 May 2001 16:39:00 -0700 (PDT)\n",
            "From: phillip.allen@enron.com\n",
            "To: tim.belden@enron.com\n",
            "Subject: \n",
            "Mime-Version: 1.0\n",
            "Content-Type: text/plain; charset=us-ascii\n",
            "Content-Transfer-Encoding: 7bit\n",
            "X-From: Phillip K Allen\n",
            "X-To: Tim Belden <Tim Belden/Enron@EnronXGate>\n",
            "X-cc: \n",
            "X-bcc: \n",
            "X-Folder: \\Phillip_Allen_Jan2002_1\\Allen, Phillip K.\\'Sent Mail\n",
            "X-Origin: Allen-P\n",
            "X-FileName: pallen (Non-Privileged).pst\n",
            "\n",
            "Here is our forecast\n",
            "\n",
            " \n"
          ]
        }
      ]
    },
    {
      "cell_type": "markdown",
      "source": [
        "## 4 Define preprocessing functions\n",
        "\n",
        "Define the relevant functions to extract the require information, such as sender, subject timestamps, and email body. This includes:\n",
        "\n",
        "- Text content from email objects, including multipart emails.\n",
        "- Stripping HTML and retaining hyperlink destinations.\n",
        "- Perform basic text cleaning such as lowercase, extra whitespace, and special characters.\n",
        "- Apply NFKC normalisation."
      ],
      "metadata": {
        "id": "K2Xh9zshTQfG"
      }
    },
    {
      "cell_type": "code",
      "source": [
        "def get_email_body_and_urls(message_obj):\n",
        "    \"\"\"\n",
        "    Extracts text body and URLs from an email.Message object.\n",
        "    Tries plain text first, then HTML. Extracts hrefs from <a> tags in HTML.\n",
        "    \"\"\"\n",
        "\n",
        "    body_text = \"\"\n",
        "    html_body_text = \"\"\n",
        "    urls_in_html = []\n",
        "\n",
        "    if message_obj is None: return \"\", []\n",
        "\n",
        "    if message_obj.is_multipart():\n",
        "        for part in message_obj.walk():\n",
        "            content_type = part.get_content_type()\n",
        "            content_disposition = str(part.get_content_disposition())\n",
        "\n",
        "            if \"attachment\" not in content_disposition:\n",
        "\n",
        "                # Prioritize first plain text part\n",
        "                if content_type == \"text/plain\" and not body_text:\n",
        "\n",
        "                    try:\n",
        "                        payload = part.get_payload(decode=True)\n",
        "                        charset = part.get_content_charset() or 'utf-8'\n",
        "                        body_text = payload.decode(charset, errors='replace')\n",
        "\n",
        "                    except Exception: pass\n",
        "\n",
        "                # Store first HTML part\n",
        "                elif content_type == \"text/html\" and not html_body_text:\n",
        "\n",
        "                    try:\n",
        "                        payload = part.get_payload(decode=True)\n",
        "                        charset = part.get_content_charset() or 'utf-8'\n",
        "                        html_content = payload.decode(charset, errors='replace')\n",
        "                        html_body_text = html_content\n",
        "                        soup_part = BeautifulSoup(html_content, 'html.parser')\n",
        "\n",
        "                        for link_tag in soup_part.find_all('a', href=True):\n",
        "                            urls_in_html.append(link_tag['href'])\n",
        "\n",
        "                    except Exception: pass\n",
        "\n",
        "    # Not multipart\n",
        "    else:\n",
        "        content_type = message_obj.get_content_type()\n",
        "        try:\n",
        "            payload = message_obj.get_payload(decode=True)\n",
        "            charset = message_obj.get_content_charset() or 'utf-8'\n",
        "\n",
        "            if content_type == \"text/plain\":\n",
        "                body_text = payload.decode(charset, errors='replace')\n",
        "\n",
        "            elif content_type == \"text/html\":\n",
        "                html_body_text = payload.decode(charset, errors='replace')\n",
        "                soup_part = BeautifulSoup(html_body_text, 'html.parser')\n",
        "\n",
        "                for link_tag in soup_part.find_all('a', href=True):\n",
        "                    urls_in_html.append(link_tag['href'])\n",
        "\n",
        "        except Exception: pass\n",
        "\n",
        "    # Logic to decide final body: prefer plain. If not, clean HTML.\n",
        "    final_body = \"\"\n",
        "    if body_text.strip():\n",
        "        final_body = body_text\n",
        "\n",
        "    elif html_body_text.strip():\n",
        "        soup = BeautifulSoup(html_body_text, 'html.parser')\n",
        "\n",
        "        # Extract text, trying to preserve some structure with spaces\n",
        "        # Remove script and style elements\n",
        "        for script_or_style in soup([\"script\", \"style\"]):\n",
        "            script_or_style.decompose()\n",
        "        final_body = soup.get_text(separator=' ', strip=True)\n",
        "\n",
        "    return final_body, list(set(urls_in_html)) # Unique URLs"
      ],
      "metadata": {
        "id": "X4Nio22cj9QO"
      },
      "execution_count": null,
      "outputs": []
    },
    {
      "cell_type": "code",
      "source": [
        "def clean_text_content(text):\n",
        "    if not isinstance(text, str):\n",
        "        return \"\"\n",
        "\n",
        "    # NFKC normalization\n",
        "    text = unicodedata.normalize('NFKC', text)\n",
        "\n",
        "    # Convert to lowercase\n",
        "    text = text.lower()\n",
        "\n",
        "    # Remove URLs\n",
        "    text = re.sub(r'http\\S+|www\\S+|https\\S+', '', text, flags=re.MULTILINE)\n",
        "\n",
        "    # Remove email addresses\n",
        "    text = re.sub(r'\\S+@\\S+', '', text)\n",
        "\n",
        "    # Replace multiple whitespaces with single\n",
        "    text = re.sub(r'\\s+', ' ', text)\n",
        "\n",
        "    # Keep basic punctuation and alphanumeric\n",
        "    text = re.sub(r\"[^a-zA-Z0-9\\s.,!?'\\\"$%()]\", '', text)\n",
        "\n",
        "    # Strip text\n",
        "    text = text.strip()\n",
        "\n",
        "    return text"
      ],
      "metadata": {
        "id": "uUEY0-9WkVm_"
      },
      "execution_count": null,
      "outputs": []
    },
    {
      "cell_type": "code",
      "source": [
        "def extract_email_headers(message_obj):\n",
        "    headers = {}\n",
        "\n",
        "    if message_obj is None:\n",
        "        return {'subject': '',\n",
        "                'from_address': '',\n",
        "                'to_address': '',\n",
        "                'date_time': pd.NaT,\n",
        "                'message_id': ''\n",
        "        }\n",
        "\n",
        "    try:\n",
        "        # Ensure it's a string\n",
        "        headers['subject'] = str(message_obj.get('Subject', ''))\n",
        "\n",
        "        from_addrs = getaddresses(message_obj.get_all('From', []))\n",
        "        headers['from_address'] = ', '.join([addr for name, addr in from_addrs if addr])\n",
        "\n",
        "        to_addrs = getaddresses(message_obj.get_all('To', []))\n",
        "        headers['to_address'] = ', '.join([addr for name, addr in to_addrs if addr])\n",
        "\n",
        "        date_str = message_obj.get('Date', '')\n",
        "        headers['date_time'] = pd.to_datetime(parsedate_to_datetime(date_str), errors='coerce') if date_str else pd.NaT\n",
        "\n",
        "        headers['message_id'] = str(message_obj.get('Message-ID', ''))\n",
        "\n",
        "    except Exception as e:\n",
        "        print(f\"Warning: Error parsing headers: {e}\")\n",
        "\n",
        "        # Set defaults if error\n",
        "        headers.setdefault('subject', '')\n",
        "        headers.setdefault('from_address', '')\n",
        "        headers.setdefault('to_address', '')\n",
        "        headers.setdefault('date_time', pd.NaT)\n",
        "        headers.setdefault('message_id', '')\n",
        "\n",
        "    return headers"
      ],
      "metadata": {
        "id": "8sl95aiMkk5D"
      },
      "execution_count": null,
      "outputs": []
    },
    {
      "cell_type": "code",
      "source": [
        "def parse_email_from_string(email_string_content, original_file_identifier=\"N/A\"):\n",
        "    \"\"\"Parses an email from its raw string content.\"\"\"\n",
        "\n",
        "    if not isinstance(email_string_content, str):\n",
        "        print(\"Warning: email_string_content is not a string. Skipping.\")\n",
        "        return None\n",
        "\n",
        "    try:\n",
        "        # Use email.parser.Parser for string inputs\n",
        "        message_obj = Parser(policy=policy.default).parsestr(email_string_content)\n",
        "\n",
        "    except Exception as e:\n",
        "        print(f\"Warning: Could not parse email string for {original_file_identifier}: {e}\")\n",
        "        return None\n",
        "\n",
        "    if message_obj is None:\n",
        "        return None\n",
        "\n",
        "    headers = extract_email_headers(message_obj)\n",
        "    body_content, urls = get_email_body_and_urls(message_obj)\n",
        "\n",
        "    return {\n",
        "        'original_file': original_file_identifier, # This is still useful metadata from emails.csv\n",
        "        'message_id': headers['message_id'],\n",
        "        'date_time': headers['date_time'],\n",
        "        'from_address': headers['from_address'],\n",
        "        'to_address': headers['to_address'],\n",
        "        'subject_original': headers['subject'],\n",
        "        'subject_cleaned': clean_text_content(headers['subject']),\n",
        "        'body_cleaned': clean_text_content(body_content),\n",
        "        'urls_in_email': urls,\n",
        "        'body_length': len(body_content),\n",
        "        'num_urls': len(urls)\n",
        "    }\n"
      ],
      "metadata": {
        "id": "Gq4WCx7Vk8NU"
      },
      "execution_count": null,
      "outputs": []
    },
    {
      "cell_type": "markdown",
      "source": [
        "## 5 Apply preprocessing\n",
        "\n",
        "Apply the defined parsing and cleaning functions to the dataset. Due to the size of the Enron dataset:\n",
        "\n",
        "- The preprocessing is tested on a small sample size first.\n",
        "- If processing the full dataset, it takes substantial time.\n",
        "\n"
      ],
      "metadata": {
        "id": "iDPO1xGhWLjN"
      }
    },
    {
      "cell_type": "code",
      "source": [
        "SAMPLE_SIZE = 1000 # Adjust as needed\n",
        "df_processed_enron_sample = pd.DataFrame()\n",
        "\n",
        "if not df_enron_meta.empty and 'message' in df_enron_meta.columns:\n",
        "    if len(df_enron_meta) > SAMPLE_SIZE:\n",
        "        # Ensure we sample from rows that have non-null 'message' content\n",
        "        df_meta_sample = df_enron_meta.dropna(subset=['message']).sample(n=min(SAMPLE_SIZE, len(df_enron_meta.dropna(subset=['message']))), random_state=42).copy()\n",
        "    else:\n",
        "        df_meta_sample = df_enron_meta.dropna(subset=['message']).copy()\n",
        "\n",
        "    if df_meta_sample.empty:\n",
        "        print(\"No valid messages in the sample after dropping NaNs. Please check 'message' column content.\")\n",
        "    else:\n",
        "        print(f\"Attempting to process a sample of {len(df_meta_sample)} emails directly from 'message' column...\")\n",
        "\n",
        "        processed_emails_list = []\n",
        "        start_time = time.time()\n",
        "\n",
        "        for i, row in df_meta_sample.iterrows():\n",
        "            # Pass the raw email string from the 'message' column\n",
        "            # and the 'file' column as an identifier\n",
        "            parsed_data = parse_email_from_string(row['message'], row['file'])\n",
        "            if parsed_data:\n",
        "                processed_emails_list.append(parsed_data)\n",
        "\n",
        "            # Print progress (adjust frequency if needed)\n",
        "            if (len(processed_emails_list)) % (len(df_meta_sample) // 10 or 1) == 0 and len(processed_emails_list) > 0:\n",
        "                 print(f\"Processed {len(processed_emails_list)}/{len(df_meta_sample)} emails...\")\n",
        "\n",
        "        df_processed_enron_sample = pd.DataFrame(processed_emails_list)\n",
        "        end_time = time.time()\n",
        "\n",
        "        if not df_processed_enron_sample.empty:\n",
        "            print(f\"\\nSuccessfully processed {len(df_processed_enron_sample)} emails in {end_time - start_time:.2f} seconds.\")\n",
        "            print(\"Processed sample head:\")\n",
        "            print(df_processed_enron_sample.head())\n",
        "            print(\"\\nProcessed sample info:\")\n",
        "            df_processed_enron_sample.info()\n",
        "        else:\n",
        "            print(\"No emails were successfully processed from the sample. Check parsing logic or input strings.\")\n",
        "else:\n",
        "    print(\"Enron metadata (df_enron_meta) is empty or 'message' column is missing. Skipping sample processing.\")"
      ],
      "metadata": {
        "id": "ckMs1rceW5RD",
        "colab": {
          "base_uri": "https://localhost:8080/"
        },
        "outputId": "ad7c69e0-2604-4d19-d471-60f498859cd4"
      },
      "execution_count": null,
      "outputs": [
        {
          "output_type": "stream",
          "name": "stdout",
          "text": [
            "Attempting to process a sample of 1000 emails directly from 'message' column...\n",
            "Processed 100/1000 emails...\n",
            "Processed 200/1000 emails...\n",
            "Processed 300/1000 emails...\n",
            "Processed 400/1000 emails...\n",
            "Processed 500/1000 emails...\n",
            "Processed 600/1000 emails...\n",
            "Processed 700/1000 emails...\n",
            "Processed 800/1000 emails...\n",
            "Processed 900/1000 emails...\n",
            "Processed 1000/1000 emails...\n",
            "\n",
            "Successfully processed 1000 emails in 3.12 seconds.\n",
            "Processed sample head:\n",
            "                                original_file  \\\n",
            "0                     shackleton-s/sent/1912.   \n",
            "1                    farmer-d/logistics/1066.   \n",
            "2                  parks-j/deleted_items/202.   \n",
            "3  stokley-c/chris_stokley/iso/client_rep/41.   \n",
            "4               germany-c/all_documents/1174.   \n",
            "\n",
            "                                      message_id                  date_time  \\\n",
            "0  <21013688.1075844564560.JavaMail.evans@thyme>  2000-08-29 01:26:00-07:00   \n",
            "1  <22688499.1075854130303.JavaMail.evans@thyme>  2000-04-24 05:43:00-07:00   \n",
            "2  <27817771.1075841359502.JavaMail.evans@thyme>  2002-05-02 04:54:27-07:00   \n",
            "3  <10695160.1075858510449.JavaMail.evans@thyme>  2001-08-08 14:35:08-07:00   \n",
            "4  <27819143.1075853689038.JavaMail.evans@thyme>  2000-06-21 04:58:00-07:00   \n",
            "\n",
            "                from_address  \\\n",
            "0  sara.shackleton@enron.com   \n",
            "1       pat.clynes@enron.com   \n",
            "2             knipe3@msn.com   \n",
            "3         kalmeida@caiso.com   \n",
            "4    chris.germany@enron.com   \n",
            "\n",
            "                                                                                                               to_address  \\\n",
            "0                                                                                              william.bradford@enron.com   \n",
            "1                                                                                                  aimee.lannou@enron.com   \n",
            "2  fenner.chet@enron.com, joe.parks@enron.com, constantine.brian@enron.com, wollam.erik@enron.com, corrier.brad@enron.com   \n",
            "3                                                                                                 chris.stokley@enron.com   \n",
            "4                                                                                                  thomas.engel@enron.com   \n",
            "\n",
            "            subject_original           subject_cleaned  \\\n",
            "0     Re: Credit Derivatives     re credit derivatives   \n",
            "1  Meter #1591 Lamay Gaslift  meter 1591 lamay gaslift   \n",
            "2       Re: man night again?       re man night again?   \n",
            "3    Enron 480, 1480 charges   enron 480, 1480 charges   \n",
            "4             Transport Deal            transport deal   \n",
            "\n",
            "                                                                                                                                                                                              body_cleaned  \\\n",
            "0  bill thanks for the info. i also spoke with jeff about how enroncredit.com ltd. was going to work since dennis o'connell (london lawyer) is responsible for that group. maybe you will be able to cl...   \n",
            "1                   aimee, please check meter 1591 lamay gas lift. it doesn't appear to have very much flow and the bav is showing the nom volume. this could be adversely affecting the risk numbers. pat   \n",
            "2  gcca crawfish and ripoff raffle  overpriced print extravaganza tonight at approx 6630pm. pig and i and ?? and ?? will be there to be overserved and underfed. i've got my checkbook and wobbly boot ...   \n",
            "3  keoni.zip chris, per your request here are the 480 and 1480 charges that have been tracked to date for enron. please keep in mind that the systems have not been built to incorporate this data into...   \n",
            "4  i'm trying to change the receipt meter on deal 235367 from meter 7126 to meter 010902. i'm not trying to change the receipt interconnect point, i'm trying to change the receipt point (from). i can...   \n",
            "\n",
            "  urls_in_email  body_length  num_urls  \n",
            "0            []         1764         0  \n",
            "1            []          188         0  \n",
            "2            []         4689         0  \n",
            "3            []          821         0  \n",
            "4            []          224         0  \n",
            "\n",
            "Processed sample info:\n",
            "<class 'pandas.core.frame.DataFrame'>\n",
            "RangeIndex: 1000 entries, 0 to 999\n",
            "Data columns (total 11 columns):\n",
            " #   Column            Non-Null Count  Dtype \n",
            "---  ------            --------------  ----- \n",
            " 0   original_file     1000 non-null   object\n",
            " 1   message_id        1000 non-null   object\n",
            " 2   date_time         1000 non-null   object\n",
            " 3   from_address      1000 non-null   object\n",
            " 4   to_address        1000 non-null   object\n",
            " 5   subject_original  1000 non-null   object\n",
            " 6   subject_cleaned   1000 non-null   object\n",
            " 7   body_cleaned      1000 non-null   object\n",
            " 8   urls_in_email     1000 non-null   object\n",
            " 9   body_length       1000 non-null   int64 \n",
            " 10  num_urls          1000 non-null   int64 \n",
            "dtypes: int64(2), object(9)\n",
            "memory usage: 86.1+ KB\n"
          ]
        }
      ]
    },
    {
      "cell_type": "markdown",
      "source": [
        "## 6 Labeling strategy\n",
        "\n",
        "In particular for this dataset, there is a primary interest in \"ham\" (legitimate) emails. Most of the emails in this corpus are are legitimate communications, and these will be assigned a label of \"`0`\" to them."
      ],
      "metadata": {
        "id": "vkh0XkzZXQ2D"
      }
    },
    {
      "cell_type": "code",
      "source": [
        "if not df_processed_enron_sample.empty:\n",
        "    # For the general Enron corpus, we assume emails are legitimate (\"ham\")\n",
        "    # Your thesis mentions using Enron primarily for ham.\n",
        "    # Phishing emails will come from other datasets (e.g., CEAS).\n",
        "    df_processed_enron_sample['label'] = 0  # 0 for ham\n",
        "    print(\"Added 'label' column with 0 (ham) for Enron samples.\")\n",
        "    print(df_processed_enron_sample[['original_file', 'subject_cleaned', 'label']].head())\n",
        "else:\n",
        "    print(\"Processed sample is empty. Skipping labeling.\")"
      ],
      "metadata": {
        "id": "HS5oOe-9cHg_",
        "colab": {
          "base_uri": "https://localhost:8080/"
        },
        "outputId": "17ded2ed-9675-49d7-e4a2-3d2357fd26d8"
      },
      "execution_count": null,
      "outputs": [
        {
          "output_type": "stream",
          "name": "stdout",
          "text": [
            "Added 'label' column with 0 (ham) for Enron samples.\n",
            "                                original_file           subject_cleaned  label\n",
            "0                     shackleton-s/sent/1912.     re credit derivatives      0\n",
            "1                    farmer-d/logistics/1066.  meter 1591 lamay gaslift      0\n",
            "2                  parks-j/deleted_items/202.       re man night again?      0\n",
            "3  stokley-c/chris_stokley/iso/client_rep/41.   enron 480, 1480 charges      0\n",
            "4               germany-c/all_documents/1174.            transport deal      0\n"
          ]
        }
      ]
    },
    {
      "cell_type": "markdown",
      "source": [
        "## 7 Further EDA on newly processed data\n",
        "\n",
        "Perform a quick check of the processed data columns and content."
      ],
      "metadata": {
        "id": "HhNq0fI5csbr"
      }
    },
    {
      "cell_type": "code",
      "source": [
        "if not df_processed_enron_sample.empty:\n",
        "    print(\"--- Basic Stats of Processed Data ---\")\n",
        "\n",
        "    # Stats for object columns\n",
        "    print(df_processed_enron_sample.describe(include='object'))\n",
        "\n",
        "    # Stats for numerical\n",
        "    print(df_processed_enron_sample[['body_length', 'num_urls']].describe())\n",
        "\n",
        "    # Distribution of email body lengths\n",
        "    plt.figure(figsize=(10, 6))\n",
        "    sns.histplot(df_processed_enron_sample['body_length'], bins=50, kde=False)\n",
        "    plt.title('Distribution of Email Body Lengths (Original, before text cleaning for features)')\n",
        "    plt.xlabel('Body Length (characters)')\n",
        "    plt.ylabel('Frequency')\n",
        "    plt.show()\n",
        "\n",
        "    # Distribution of number of URLs found\n",
        "    plt.figure(figsize=(10, 6))\n",
        "    sns.histplot(df_processed_enron_sample['num_urls'], bins=max(1, df_processed_enron_sample['num_urls'].max()), kde=False) # Ensure bins are at least 1\n",
        "    plt.title('Distribution of Number of URLs per Email')\n",
        "    plt.xlabel('Number of URLs')\n",
        "    plt.ylabel('Frequency')\n",
        "    plt.xlim(left=0) # Start x-axis at 0\n",
        "    plt.show()\n",
        "\n",
        "    print(\"\\n--- Sample Cleaned Email Bodies (first 200 chars) ---\")\n",
        "    for idx, row in df_processed_enron_sample.sample(min(3, len(df_processed_enron_sample))).iterrows():\n",
        "        print(f\"\\nFile: {row['original_file']}\")\n",
        "        print(f\"Subject: {row['subject_cleaned']}\")\n",
        "        print(f\"Body Snippet: {row['body_cleaned'][:200]}\")\n",
        "        print(f\"URLs: {row['urls_in_email'][:3]}\") # Show first 3 URLs\n",
        "else:\n",
        "    print(\"Processed sample is empty. Skipping further EDA.\")"
      ],
      "metadata": {
        "id": "1QgJt7Vhcqih",
        "colab": {
          "base_uri": "https://localhost:8080/",
          "height": 1000
        },
        "outputId": "0b850019-e396-4b13-fe25-67b204c5d4f5"
      },
      "execution_count": null,
      "outputs": [
        {
          "output_type": "stream",
          "name": "stdout",
          "text": [
            "--- Basic Stats of Processed Data ---\n",
            "                         original_file  \\\n",
            "count                             1000   \n",
            "unique                            1000   \n",
            "top     haedicke-m/all_documents/2402.   \n",
            "freq                                 1   \n",
            "\n",
            "                                           message_id  \\\n",
            "count                                            1000   \n",
            "unique                                           1000   \n",
            "top     <12860526.1075859668618.JavaMail.evans@thyme>   \n",
            "freq                                                1   \n",
            "\n",
            "                        date_time              from_address to_address  \\\n",
            "count                        1000                      1000       1000   \n",
            "unique                        991                       526        741   \n",
            "top     2000-10-14 07:10:00-07:00  vince.kaminski@enron.com              \n",
            "freq                            2                        34         56   \n",
            "\n",
            "       subject_original subject_cleaned body_cleaned urls_in_email  \n",
            "count              1000            1000         1000          1000  \n",
            "unique              921             914          991             1  \n",
            "top                                                             []  \n",
            "freq                 47              49            6          1000  \n",
            "        body_length  num_urls\n",
            "count   1000.000000    1000.0\n",
            "mean    1625.897000       0.0\n",
            "std     3861.019832       0.0\n",
            "min        4.000000       0.0\n",
            "25%      259.250000       0.0\n",
            "50%      747.500000       0.0\n",
            "75%     1656.500000       0.0\n",
            "max    78617.000000       0.0\n"
          ]
        },
        {
          "output_type": "display_data",
          "data": {
            "text/plain": [
              "<Figure size 1000x600 with 1 Axes>"
            ],
            "image/png": "[encoded data removed]"
          },
          "metadata": {}
        },
        {
          "output_type": "display_data",
          "data": {
            "text/plain": [
              "<Figure size 1000x600 with 1 Axes>"
            ],
            "image/png": "[encoded data removed]"
          },
          "metadata": {}
        },
        {
          "output_type": "stream",
          "name": "stdout",
          "text": [
            "\n",
            "--- Sample Cleaned Email Bodies (first 200 chars) ---\n",
            "\n",
            "File: linder-e/all_documents/226.\n",
            "Subject: start date 4601 hourahead hour 9 codesite\n",
            "Body Snippet: start date 4601 hourahead hour 9 no ancillary schedules awarded. no variances detected. log messages parsing file  oportlandwestdeskcalifornia schedulingiso final schedules2001040609.txt  energy impor\n",
            "URLs: []\n",
            "\n",
            "File: cash-m/deleted_items/446.\n",
            "Subject: re fw information request for due diligence\n",
            "Body Snippet: thanks  keep it coming! katie note the information contained in this email message is intended only for use of the individual or entity named above. if the reader of this message is not the intended r\n",
            "URLs: []\n",
            "\n",
            "File: dasovich-j/notes_inbox/11560.\n",
            "Subject: fw 5 state energy advisors fired over conflicts ethics the consultants were involved in buying electricity for california from a generator whose stock they owned, setting up a clash of official duties, personal interests.\n",
            "Body Snippet: names of the 5 people fired disclosed below 5 state energy advisors fired over conflicts ethics the consultants were involved in buying electricity for california from a generator whose stock they own\n",
            "URLs: []\n"
          ]
        }
      ]
    },
    {
      "cell_type": "markdown",
      "source": [
        "## 8 Save preprocessed data\n",
        "\n",
        "Save the cleaned and labeled Enron (ham) data to the current Google Colab runtime environment."
      ],
      "metadata": {
        "id": "NrjraV-b0Dsv"
      }
    },
    {
      "cell_type": "code",
      "source": [
        "if not df_processed_enron_sample.empty:\n",
        "    OUTPUT_FILENAME = f'enron_ham_processed_sample_{len(df_processed_enron_sample)}.csv'\n",
        "    OUTPUT_PATH_COLAB = OUTPUT_FILENAME\n",
        "\n",
        "    try:\n",
        "        df_processed_enron_sample.to_csv(OUTPUT_PATH_COLAB, index=False)\n",
        "        print(f\"Processed Enron (ham) sample data saved to Colab runtime at: /content/{OUTPUT_PATH_COLAB}\")\n",
        "\n",
        "    except Exception as e: print(f\"Error saving processed data to Colab runtime: {e}\")\n",
        "\n",
        "else:\n",
        "    print(\"Processed DataFrame is empty. Nothing to save.\")"
      ],
      "metadata": {
        "id": "PZV6V6SN0DKH",
        "colab": {
          "base_uri": "https://localhost:8080/"
        },
        "outputId": "0d1dce9c-eab9-4535-b978-b084d6e45653"
      },
      "execution_count": null,
      "outputs": [
        {
          "output_type": "stream",
          "name": "stdout",
          "text": [
            "Processed Enron (ham) sample data saved to Colab runtime at: /content/enron_ham_processed_sample_1000.csv\n",
            "IMPORTANT: This file is temporary. Download it or save to Google Drive to keep it.\n"
          ]
        }
      ]
    }
  ]
}