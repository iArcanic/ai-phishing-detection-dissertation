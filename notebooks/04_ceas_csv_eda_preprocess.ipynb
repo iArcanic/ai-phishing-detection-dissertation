{
  "nbformat": 4,
  "nbformat_minor": 0,
  "metadata": {
    "colab": {
      "provenance": []
    },
    "kernelspec": {
      "name": "python3",
      "display_name": "Python 3"
    },
    "language_info": {
      "name": "python"
    }
  },
  "cells": [
    {
      "cell_type": "markdown",
      "source": [
        "# CEAS 2008 EDA and Preprocessing"
      ],
      "metadata": {
        "id": "CjQaXAEtV3Q-"
      }
    },
    {
      "cell_type": "markdown",
      "source": [
        "## 1 Import libraries\n",
        "\n",
        "Import the required libraries for data manipulation, email and HTML parsing, text cleaning, and data visualisations."
      ],
      "metadata": {
        "id": "gt0MF3O-V4Lx"
      }
    },
    {
      "cell_type": "code",
      "execution_count": 1,
      "metadata": {
        "colab": {
          "base_uri": "https://localhost:8080/"
        },
        "id": "UT8yXBkxVMyQ",
        "outputId": "9dc3d5d2-f589-4d9a-8753-4c3c85ca4afe"
      },
      "outputs": [
        {
          "output_type": "stream",
          "name": "stdout",
          "text": [
            "Loading libraries...\n",
            "Libraries imported.\n",
            "\n"
          ]
        }
      ],
      "source": [
        "print(\"Loading libraries...\")\n",
        "\n",
        "# Core libraries\n",
        "import os\n",
        "import pandas as pd\n",
        "import numpy as np\n",
        "import re # For regular expressions\n",
        "import time # To time operations\n",
        "import gdown\n",
        "\n",
        "import kagglehub\n",
        "\n",
        "# Email parsing\n",
        "import email\n",
        "from email import policy\n",
        "from email.parser import BytesParser, Parser\n",
        "from email.utils import parsedate_to_datetime, getaddresses\n",
        "\n",
        "# HTML processing\n",
        "from bs4 import BeautifulSoup\n",
        "\n",
        "# Text processing\n",
        "import unicodedata\n",
        "\n",
        "# Visualization\n",
        "import matplotlib.pyplot as plt\n",
        "import seaborn as sns\n",
        "\n",
        "pd.set_option('display.max_colwidth', 150)\n",
        "pd.set_option('display.max_columns', 50)\n",
        "\n",
        "print(\"Libraries imported.\\n\")"
      ]
    },
    {
      "cell_type": "markdown",
      "source": [
        "## 2 Load raw CEAS 2008 data"
      ],
      "metadata": {
        "id": "y3QcisZmW4CZ"
      }
    },
    {
      "cell_type": "code",
      "source": [
        "CEAS_CSV_GDRIVE_FILE_ID = '1SEzMyobVD612wgK5Qj95NDNBiTJw2j4A'\n",
        "CEAS_CSV_LOCAL_FILENAME = 'CEAS_08.csv'\n",
        "gdrive_url_ceas_csv = f'https://drive.google.com/uc?id={CEAS_CSV_GDRIVE_FILE_ID}'\n",
        "\n",
        "if not os.path.exists(CEAS_CSV_LOCAL_FILENAME):\n",
        "    print(f\"Downloading {CEAS_CSV_LOCAL_FILENAME} from Google Drive...\")\n",
        "\n",
        "    try:\n",
        "        gdown.download(gdrive_url_ceas_csv, CEAS_CSV_LOCAL_FILENAME, quiet=False)\n",
        "        print(f\"{CEAS_CSV_LOCAL_FILENAME} downloaded successfully.\")\n",
        "\n",
        "    except Exception as e:\n",
        "        print(f\"ERROR downloading {CEAS_CSV_LOCAL_FILENAME}: {e}. Check File ID and share settings.\")\n",
        "        # Handle error, perhaps by stopping or ensuring df_ceas_raw remains empty\n",
        "\n",
        "else:\n",
        "    print(f\"{CEAS_CSV_LOCAL_FILENAME} already exists in Colab runtime.\")\n",
        "\n",
        "CEAS_CSV_INPUT_PATH = CEAS_CSV_LOCAL_FILENAME # Use the downloaded/local file\n",
        "df_ceas_raw = pd.DataFrame()\n",
        "\n",
        "if os.path.exists(CEAS_CSV_INPUT_PATH):\n",
        "    try:\n",
        "        df_ceas_raw = pd.read_csv(CEAS_CSV_INPUT_PATH)\n",
        "        print(f\"Successfully loaded {CEAS_CSV_INPUT_PATH}. Shape: {df_ceas_raw.shape}\")\n",
        "\n",
        "        # Immediately print head and info to start your EDA\n",
        "        print(\"\\nRaw CEAS CSV head:\")\n",
        "        print(df_ceas_raw.head())\n",
        "        print(\"\\nRaw CEAS CSV info:\")\n",
        "        df_ceas_raw.info(show_counts=True)\n",
        "\n",
        "    except Exception as e:\n",
        "        print(f\"Error loading CEAS_08.csv: {e}\")\n",
        "\n",
        "else:\n",
        "    print(f\"ERROR: {CEAS_CSV_INPUT_PATH} not found after download attempt.\")"
      ],
      "metadata": {
        "colab": {
          "base_uri": "https://localhost:8080/"
        },
        "id": "GbKAYWZjbdye",
        "outputId": "9ae0e2a8-9ca5-4d36-d2cb-9adbd6c3a846"
      },
      "execution_count": 2,
      "outputs": [
        {
          "output_type": "stream",
          "name": "stdout",
          "text": [
            "Downloading CEAS_08.csv from Google Drive...\n"
          ]
        },
        {
          "output_type": "stream",
          "name": "stderr",
          "text": [
            "Downloading...\n",
            "From: https://drive.google.com/uc?id=1SEzMyobVD612wgK5Qj95NDNBiTJw2j4A\n",
            "To: /content/CEAS_08.csv\n",
            "100%|██████████| 67.9M/67.9M [00:01<00:00, 49.6MB/s]\n"
          ]
        },
        {
          "output_type": "stream",
          "name": "stdout",
          "text": [
            "CEAS_08.csv downloaded successfully.\n",
            "Successfully loaded CEAS_08.csv. Shape: (39154, 7)\n",
            "\n",
            "Raw CEAS CSV head:\n",
            "                                                   sender  \\\n",
            "0                        Young Esposito <Young@iworld.de>   \n",
            "1                            Mok <ipline's1983@icable.ph>   \n",
            "2  Daily Top 10 <Karmandeep-opengevl@universalnet.psi.br>   \n",
            "3                      Michael Parker <ivqrnai@pobox.com>   \n",
            "4       Gretchen Suggs <externalsep1@loanofficertool.com>   \n",
            "\n",
            "                                         receiver  \\\n",
            "0                     user4@gvc.ceas-challenge.cc   \n",
            "1                   user2.2@gvc.ceas-challenge.cc   \n",
            "2                   user2.9@gvc.ceas-challenge.cc   \n",
            "3  SpamAssassin Dev <xrh@spamassassin.apache.org>   \n",
            "4                   user2.2@gvc.ceas-challenge.cc   \n",
            "\n",
            "                              date  \\\n",
            "0  Tue, 05 Aug 2008 16:31:02 -0700   \n",
            "1  Tue, 05 Aug 2008 18:31:03 -0500   \n",
            "2  Tue, 05 Aug 2008 20:28:00 -1200   \n",
            "3  Tue, 05 Aug 2008 17:31:20 -0600   \n",
            "4  Tue, 05 Aug 2008 19:31:21 -0400   \n",
            "\n",
            "                                                                                                                                                 subject  \\\n",
            "0                                                                                                                              Never agree to be a loser   \n",
            "1                                                                                                                                 Befriend Jenna Jameson   \n",
            "2                                                                                                                                   CNN.com Daily Top 10   \n",
            "3  Re: svn commit: r619753 - in /spamassassin/trunk: lib/Mail/SpamAssassin/PerMsgStatus.pm lib/Mail/SpamAssassin/Util/RegistrarBoundaries.pm t/uri_te...   \n",
            "4                                                                                                                             SpecialPricesPharmMoreinfo   \n",
            "\n",
            "                                                                                                                                                    body  \\\n",
            "0  Buck up, your troubles caused by small dimension will soon be over!\\nBecome a lover no woman will be able to resist!\\nhttp://whitedone.com/\\n\\n\\nc...   \n",
            "1                                                                 \\nUpgrade your sex and pleasures with these techniques http://www.brightmade.com\\n\\n\\n   \n",
            "2  >+=+=+=+=+=+=+=+=+=+=+=+=+=+=+=+=+=+=+=+=+=+=+=+=+=+=+=+=+=+= >THE DAILY TOP 10 >from CNN.com >Top videos and stories as of: Aug  1, 2008  3:58 PM...   \n",
            "3  Would anyone object to removing .so from this list?  The .so TLD is  \\nbasically dead and we've found that lots of bogus domains like lib*.so  \\na...   \n",
            "4  \\nWelcomeFastShippingCustomerSupport\\nhttp://7iwfna.blu.livefilestore.com/y1pXdX3kwzhBa8xhXv8tdHbjHn7Tj4VT91YQg5lB5-_Hs9yuDwmU5wOteqBO-KnULiisB2QJ...   \n",
            "\n",
            "   label  urls  \n",
            "0      1     1  \n",
            "1      1     1  \n",
            "2      1     1  \n",
            "3      0     1  \n",
            "4      1     1  \n",
            "\n",
            "Raw CEAS CSV info:\n",
            "<class 'pandas.core.frame.DataFrame'>\n",
            "RangeIndex: 39154 entries, 0 to 39153\n",
            "Data columns (total 7 columns):\n",
            " #   Column    Non-Null Count  Dtype \n",
            "---  ------    --------------  ----- \n",
            " 0   sender    39154 non-null  object\n",
            " 1   receiver  38692 non-null  object\n",
            " 2   date      39154 non-null  object\n",
            " 3   subject   39126 non-null  object\n",
            " 4   body      39154 non-null  object\n",
            " 5   label     39154 non-null  int64 \n",
            " 6   urls      39154 non-null  int64 \n",
            "dtypes: int64(2), object(5)\n",
            "memory usage: 2.1+ MB\n"
          ]
        }
      ]
    },
    {
      "cell_type": "markdown",
      "source": [
        "## 3 Initial Data Exploration (EDA)"
      ],
      "metadata": {
        "id": "Jg69XgRbcIl5"
      }
    },
    {
      "cell_type": "code",
      "source": [
        "if not df_ceas_raw.empty:\n",
        "    print(\"--- Column Names Confirmed ---\")\n",
        "    print(df_ceas_raw.columns.tolist())\n",
        "\n",
        "    # Based on your examination:\n",
        "    TEXT_COLUMN_NAME_CEAS = 'body'\n",
        "    LABEL_COLUMN_NAME_CEAS = 'label'\n",
        "    SUBJECT_COLUMN_NAME_CEAS = 'subject'\n",
        "    # Other columns identified: 'sender', 'receiver', 'date', 'urls' (binary indicator)\n",
        "\n",
        "    print(f\"\\nUsing text column: '{TEXT_COLUMN_NAME_CEAS}'\")\n",
        "    print(f\"Using label column: '{LABEL_COLUMN_NAME_CEAS}'\")\n",
        "    print(f\"Using subject column: '{SUBJECT_COLUMN_NAME_CEAS}'\")\n",
        "\n",
        "    print(f\"\\n--- Missing Values per Column ---\")\n",
        "    print(df_ceas_raw.isnull().sum())\n",
        "\n",
        "    # Drop rows where essential columns (body, label, subject) are missing\n",
        "    # (sender, receiver, date, urls_indicator might be allowed to have NaNs if not primary features)\n",
        "    essential_cols = [TEXT_COLUMN_NAME_CEAS, LABEL_COLUMN_NAME_CEAS, SUBJECT_COLUMN_NAME_CEAS]\n",
        "    df_ceas_raw.dropna(subset=essential_cols, inplace=True)\n",
        "    print(f\"\\nShape after dropping NaNs in essential columns: {df_ceas_raw.shape}\")\n",
        "\n",
        "\n",
        "    print(f\"\\n--- Value Counts for Label Column ('{LABEL_COLUMN_NAME_CEAS}') ---\")\n",
        "    print(df_ceas_raw[LABEL_COLUMN_NAME_CEAS].value_counts(dropna=False))\n",
        "\n",
        "    print(f\"\\n--- Value Counts for URLs presence indicator column ('urls') ---\")\n",
        "\n",
        "    # Check if 'urls' column exists\n",
        "    if 'urls' in df_ceas_raw.columns:\n",
        "        print(df_ceas_raw['urls'].value_counts(dropna=False))\n",
        "\n",
        "    else:\n",
        "        print(\"'urls' column not found in the CSV.\")\n",
        "\n",
        "    print(f\"\\n--- Example Text from Body Column ('{TEXT_COLUMN_NAME_CEAS}') (first 300 chars) ---\")\n",
        "\n",
        "    if not df_ceas_raw[TEXT_COLUMN_NAME_CEAS].empty:\n",
        "        for content in df_ceas_raw[TEXT_COLUMN_NAME_CEAS].sample(min(3, len(df_ceas_raw))).astype(str):\n",
        "            print(content[:300])\n",
        "            print(\"-\" * 30)\n",
        "\n",
        "    else:\n",
        "        print(f\"No non-missing values found in the text column '{TEXT_COLUMN_NAME_CEAS}' for sampling.\")\n",
        "\n",
        "    print(f\"\\n--- Example Subjects from Subject Column ('{SUBJECT_COLUMN_NAME_CEAS}') ---\")\n",
        "\n",
        "    if not df_ceas_raw[SUBJECT_COLUMN_NAME_CEAS].empty:\n",
        "        for content in df_ceas_raw[SUBJECT_COLUMN_NAME_CEAS].sample(min(3, len(df_ceas_raw))).astype(str):\n",
        "            print(content)\n",
        "            print(\"-\" * 30)\n",
        "\n",
        "    else:\n",
        "        print(f\"No non-missing values found in the subject column '{SUBJECT_COLUMN_NAME_CEAS}' for sampling.\")\n",
        "\n",
        "else:\n",
        "    print(\"Raw CEAS DataFrame is empty. Skipping EDA.\")"
      ],
      "metadata": {
        "colab": {
          "base_uri": "https://localhost:8080/"
        },
        "id": "s0clcCDUcfaD",
        "outputId": "527cf4ba-2b2f-4f43-a037-1b2da60925b9"
      },
      "execution_count": 3,
      "outputs": [
        {
          "output_type": "stream",
          "name": "stdout",
          "text": [
            "--- Column Names Confirmed ---\n",
            "['sender', 'receiver', 'date', 'subject', 'body', 'label', 'urls']\n",
            "\n",
            "Using text column: 'body'\n",
            "Using label column: 'label'\n",
            "Using subject column: 'subject'\n",
            "\n",
            "--- Missing Values per Column ---\n",
            "sender        0\n",
            "receiver    462\n",
            "date          0\n",
            "subject      28\n",
            "body          0\n",
            "label         0\n",
            "urls          0\n",
            "dtype: int64\n",
            "\n",
            "Shape after dropping NaNs in essential columns: (39126, 7)\n",
            "\n",
            "--- Value Counts for Label Column ('label') ---\n",
            "label\n",
            "1    21829\n",
            "0    17297\n",
            "Name: count, dtype: int64\n",
            "\n",
            "--- Value Counts for URLs presence indicator column ('urls') ---\n",
            "urls\n",
            "1    26227\n",
            "0    12899\n",
            "Name: count, dtype: int64\n",
            "\n",
            "--- Example Text from Body Column ('body') (first 300 chars) ---\n",
            ">+=+=+=+=+=+=+=+=+=+=+=+=+=+=+=+=+=+=+=+=+=+=+=+=+=+=+=+=+=+= >THE DAILY TOP 10 >from CNN.com >Top videos and stories as of: Aug  1, 2008  3:58 PM EDT >+=+=+=+=+=+=+=+=+=+=+=+=+=+=+=+=+=+=+=+=+=+=+=+=+=+=+=+=+=+= TOP 10 VIDEOS 1. PARIS HILTON TAKES ON MCCAIN http://www.cnn.com/video/partners/email/i\n",
            "------------------------------\n",
            ">+=+=+=+=+=+=+=+=+=+=+=+=+=+=+=+=+=+=+=+=+=+=+=+=+=+=+=+=+=+= >THE DAILY TOP 10 >from CNN.com >Top videos and stories as of: Aug  1, 2008  3:58 PM EDT >+=+=+=+=+=+=+=+=+=+=+=+=+=+=+=+=+=+=+=+=+=+=+=+=+=+=+=+=+=+= TOP 10 VIDEOS 1. PARIS HILTON TAKES ON MCCAIN http://www.cnn.com/video/partners/email/i\n",
            "------------------------------\n",
            "Blaine Fleming wrote:\n",
            "> Slightly off-topic, but I'm curious, how many of you are using CRM114? \n",
            "> How well does it work for you?  Was it difficult to train?  I've been\n",
            "> looking at it and haven't found much except the official plugin guide\n",
            "> and a single page saying that it works better than other l\n",
            "------------------------------\n",
            "\n",
            "--- Example Subjects from Subject Column ('subject') ---\n",
            "CNN.com Daily Top 10\n",
            "------------------------------\n",
            "Enlarge\n",
            "------------------------------\n",
            "Your optimal choice of watches\n",
            "------------------------------\n"
          ]
        }
      ]
    },
    {
      "cell_type": "markdown",
      "source": [
        "## 4 Define preprocessing functions\n",
        "\n",
        "Primarily use the `clean_text_content` function for the 'body' and 'subject' columns.\n",
        "\n",
        "Since the 'body' column is likely pre-extracted email body text (possibly with HTML), our standard `clean_text_content` function (which includes basic HTML stripping) should work well."
      ],
      "metadata": {
        "id": "U5RH-bqWj0XR"
      }
    },
    {
      "cell_type": "code",
      "source": [
        "def clean_text_content(text):\n",
        "    if not isinstance(text, str):\n",
        "      return \"\"\n",
        "\n",
        "    # Step 1: Basic HTML Tag Removal (if CSV text column contains HTML)\n",
        "    if bool(BeautifulSoup(text, \"html.parser\").find()):\n",
        "        soup = BeautifulSoup(text, 'html.parser')\n",
        "\n",
        "        for script_or_style in soup([\"script\", \"style\"]):\n",
        "            script_or_style.decompose()\n",
        "\n",
        "        text = soup.get_text(separator=' ', strip=True)\n",
        "\n",
        "    # Step 2: Text Normalization and Cleaning\n",
        "    text = unicodedata.normalize('NFKC', text)\n",
        "    text = text.lower()\n",
        "\n",
        "    # Remove URLs and email addresses before other punctuation if they are noisy\n",
        "    text = re.sub(r'http\\S+|www\\S+|https\\S+', ' ', text, flags=re.MULTILINE)\n",
        "    text = re.sub(r'\\S+@\\S+', ' ', text)\n",
        "\n",
        "    # Keep basic punctuation, replace other non-alphanumeric with space\n",
        "    text = re.sub(r\"[^a-zA-Z0-9\\s.,!?'\\\"$%()]\", ' ', text)\n",
        "\n",
        "    # Consolidate multiple spaces\n",
        "    text = re.sub(r'\\s+', ' ', text)\n",
        "\n",
        "    # Strip text\n",
        "    text = text.strip()\n",
        "\n",
        "    return text"
      ],
      "metadata": {
        "id": "BDZZ9I_ekTGC"
      },
      "execution_count": 4,
      "outputs": []
    },
    {
      "cell_type": "markdown",
      "source": [
        "## 5 Apply preprocessing and label handling\n",
        "\n",
        "Clean the 'body' and 'subject' text data. The 'label' column is already 0 or 1, so no complex mapping is needed, just ensuring correct data type.\n",
        "\n",
        "Primarily extract phishing emails (label 1) from this dataset to combine with Enron ham for training."
      ],
      "metadata": {
        "id": "7U4UbrMulnEQ"
      }
    },
    {
      "cell_type": "code",
      "source": [
        "df_processed_ceas = pd.DataFrame()\n",
        "\n",
        "# Using the column names identified in Section 3\n",
        "TEXT_COL = 'body'\n",
        "LABEL_COL = 'label'\n",
        "SUBJECT_COL = 'subject'\n",
        "\n",
        "if not df_ceas_raw.empty and \\\n",
        "   TEXT_COL in df_ceas_raw.columns and \\\n",
        "   LABEL_COL in df_ceas_raw.columns and \\\n",
        "   SUBJECT_COL in df_ceas_raw.columns:\n",
        "\n",
        "    print(f\"Processing CEAS data using text column: '{TEXT_COL}', subject: '{SUBJECT_COL}', and label: '{LABEL_COL}'...\")\n",
        "\n",
        "    # Select relevant columns and create a working copy\n",
        "    # Include other columns like 'sender', 'receiver', 'date', 'urls' if you plan to use them as features later\n",
        "    relevant_cols = [TEXT_COL, SUBJECT_COL, LABEL_COL, 'sender', 'receiver', 'date', 'urls']\n",
        "    # Filter out columns that might not exist if the user's CSV is slightly different\n",
        "\n",
        "    existing_relevant_cols = [col for col in relevant_cols if col in df_ceas_raw.columns]\n",
        "    df_temp_ceas = df_ceas_raw[existing_relevant_cols].copy()\n",
        "\n",
        "    # Ensure label is integer\n",
        "    df_temp_ceas[LABEL_COL] = df_temp_ceas[LABEL_COL].astype(int)\n",
        "\n",
        "    # Clean the text columns\n",
        "    print(f\"Cleaning text in '{TEXT_COL}'...\")\n",
        "    start_time = time.time()\n",
        "    df_temp_ceas['body_cleaned'] = df_temp_ceas[TEXT_COL].astype(str).apply(clean_text_content)\n",
        "\n",
        "    print(f\"Cleaning text in '{SUBJECT_COL}'...\")\n",
        "    df_temp_ceas['subject_cleaned'] = df_temp_ceas[SUBJECT_COL].astype(str).apply(clean_text_content)\n",
        "    end_time = time.time()\n",
        "    print(f\"Text cleaning took {end_time - start_time:.2f} seconds.\")\n",
        "\n",
        "    # Select final columns for the processed dataframe\n",
        "    # You can add more original columns if they are useful for later feature engineering\n",
        "    cols_to_keep = ['body_cleaned', 'subject_cleaned', 'label']\n",
        "\n",
        "    # Add back other potentially useful raw columns if they exist\n",
        "    if 'sender' in df_temp_ceas.columns: cols_to_keep.append('sender')\n",
        "    if 'receiver' in df_temp_ceas.columns: cols_to_keep.append('receiver')\n",
        "    if 'date' in df_temp_ceas.columns: cols_to_keep.append('date') # Original date string\n",
        "    if 'urls' in df_temp_ceas.columns: cols_to_keep.append('urls') # Original binary urls indicator\n",
        "\n",
        "    df_processed_ceas = df_temp_ceas[cols_to_keep].copy()\n",
        "\n",
        "    print(f\"\\nProcessed {len(df_processed_ceas)} emails from CEAS.\")\n",
        "    print(\"Processed CEAS head:\")\n",
        "    print(df_processed_ceas.head())\n",
        "    print(\"\\nLabel distribution in processed CEAS data:\")\n",
        "    print(df_processed_ceas['label'].value_counts(dropna=False)) # Should be 0s and 1s\n",
        "\n",
        "else:\n",
        "    print(\"Raw CEAS DataFrame is empty or essential columns ('body', 'label', 'subject') not identified correctly. Skipping preprocessing.\")"
      ],
      "metadata": {
        "colab": {
          "base_uri": "https://localhost:8080/"
        },
        "id": "nbX8gu9gmvuA",
        "outputId": "c99f6722-7723-4d2a-d24c-d6dfdbca2d8a"
      },
      "execution_count": 5,
      "outputs": [
        {
          "output_type": "stream",
          "name": "stdout",
          "text": [
            "Processing CEAS data using text column: 'body', subject: 'subject', and label: 'label'...\n",
            "Cleaning text in 'body'...\n",
            "Cleaning text in 'subject'...\n"
          ]
        },
        {
          "output_type": "stream",
          "name": "stderr",
          "text": [
            "<ipython-input-4-ebc6738754eb>:6: MarkupResemblesLocatorWarning: The input passed in on this line looks more like a filename than HTML or XML.\n",
            "\n",
            "If you meant to use Beautiful Soup to parse the contents of a file on disk, then something has gone wrong. You should open the file first, using code like this:\n",
            "\n",
            "    filehandle = open(your filename)\n",
            "\n",
            "You can then feed the open filehandle into Beautiful Soup instead of using the filename.\n",
            "\n",
            "However, if you want to parse some data that happens to look like a filename, then nothing has gone wrong: you are using Beautiful Soup correctly, and this warning is spurious and can be filtered. To make this warning go away, run this code before calling the BeautifulSoup constructor:\n",
            "\n",
            "    from bs4 import MarkupResemblesLocatorWarning\n",
            "    import warnings\n",
            "\n",
            "    warnings.filterwarnings(\"ignore\", category=MarkupResemblesLocatorWarning)\n",
            "    \n",
            "  if bool(BeautifulSoup(text, \"html.parser\").find()):\n"
          ]
        },
        {
          "output_type": "stream",
          "name": "stdout",
          "text": [
            "Text cleaning took 16.91 seconds.\n",
            "\n",
            "Processed 39126 emails from CEAS.\n",
            "Processed CEAS head:\n",
            "                                                                                                                                            body_cleaned  \\\n",
            "0  buck up, your troubles caused by small dimension will soon be over! become a lover no woman will be able to resist! come. even as nazi tanks were ...   \n",
            "1                                                                                                   upgrade your sex and pleasures with these techniques   \n",
            "2  the daily top 10 from cnn.com top videos and stories as of aug 1, 2008 3 58 pm edt top 10 videos 1. montauk 'monster' is it a devil dog? is it a t...   \n",
            "3  would anyone object to removing .so from this list? the .so tld is basically dead and we've found that lots of bogus domains like lib .so are bein...   \n",
            "4                                                                                                                     welcomefastshippingcustomersupport   \n",
            "\n",
            "                                                                                                                                    subject_cleaned  \\\n",
            "0                                                                                                                         never agree to be a loser   \n",
            "1                                                                                                                            befriend jenna jameson   \n",
            "2                                                                                                                              cnn.com daily top 10   \n",
            "3  re svn commit r619753 in spamassassin trunk lib mail spamassassin permsgstatus.pm lib mail spamassassin util registrarboundaries.pm t uri text.t   \n",
            "4                                                                                                                        specialpricespharmmoreinfo   \n",
            "\n",
            "   label                                                  sender  \\\n",
            "0      1                        Young Esposito <Young@iworld.de>   \n",
            "1      1                            Mok <ipline's1983@icable.ph>   \n",
            "2      1  Daily Top 10 <Karmandeep-opengevl@universalnet.psi.br>   \n",
            "3      0                      Michael Parker <ivqrnai@pobox.com>   \n",
            "4      1       Gretchen Suggs <externalsep1@loanofficertool.com>   \n",
            "\n",
            "                                         receiver  \\\n",
            "0                     user4@gvc.ceas-challenge.cc   \n",
            "1                   user2.2@gvc.ceas-challenge.cc   \n",
            "2                   user2.9@gvc.ceas-challenge.cc   \n",
            "3  SpamAssassin Dev <xrh@spamassassin.apache.org>   \n",
            "4                   user2.2@gvc.ceas-challenge.cc   \n",
            "\n",
            "                              date  urls  \n",
            "0  Tue, 05 Aug 2008 16:31:02 -0700     1  \n",
            "1  Tue, 05 Aug 2008 18:31:03 -0500     1  \n",
            "2  Tue, 05 Aug 2008 20:28:00 -1200     1  \n",
            "3  Tue, 05 Aug 2008 17:31:20 -0600     1  \n",
            "4  Tue, 05 Aug 2008 19:31:21 -0400     1  \n",
            "\n",
            "Label distribution in processed CEAS data:\n",
            "label\n",
            "1    21829\n",
            "0    17297\n",
            "Name: count, dtype: int64\n"
          ]
        }
      ]
    },
    {
      "cell_type": "markdown",
      "source": [
        "## 6. Further EDA on Processed CEAS Data\n",
        "\n",
        "Review characteristics of the cleaned and labeled CEAS data."
      ],
      "metadata": {
        "id": "LmMyYAvYvALI"
      }
    },
    {
      "cell_type": "code",
      "source": [
        "if not df_processed_ceas.empty:\n",
        "    df_processed_ceas['body_cleaned_length'] = df_processed_ceas['body_cleaned'].apply(len)\n",
        "    df_processed_ceas['subject_cleaned_length'] = df_processed_ceas['subject_cleaned'].apply(len)\n",
        "\n",
        "    print(\"--- Descriptive Stats for Processed CEAS (lengths) ---\")\n",
        "    print(df_processed_ceas[['body_cleaned_length', 'subject_cleaned_length']].describe())\n",
        "\n",
        "    print(\"\\n--- Stats by Label ---\")\n",
        "    print(df_processed_ceas.groupby('label')[['body_cleaned_length', 'subject_cleaned_length']].mean())\n",
        "\n",
        "    plt.figure(figsize=(12, 5))\n",
        "    plt.subplot(1, 2, 1)\n",
        "    sns.histplot(data=df_processed_ceas, x='body_cleaned_length', hue='label', bins=50, kde=False, multiple=\"dodge\")\n",
        "    plt.title('Body Length Distribution by Label')\n",
        "\n",
        "    plt.subplot(1, 2, 2)\n",
        "    sns.histplot(data=df_processed_ceas, x='subject_cleaned_length', hue='label', bins=30, kde=False, multiple=\"dodge\")\n",
        "    plt.title('Subject Length Distribution by Label')\n",
        "    plt.tight_layout()\n",
        "    plt.show()\n",
        "\n",
        "else:\n",
        "    print(\"Processed CEAS DataFrame is empty.\")"
      ],
      "metadata": {
        "colab": {
          "base_uri": "https://localhost:8080/",
          "height": 700
        },
        "id": "Dt_sIgyDu-aK",
        "outputId": "af26b163-ea0d-422b-a1c8-f6afa8975104"
      },
      "execution_count": 6,
      "outputs": [
        {
          "output_type": "stream",
          "name": "stdout",
          "text": [
            "--- Descriptive Stats for Processed CEAS (lengths) ---\n",
            "       body_cleaned_length  subject_cleaned_length\n",
            "count         39126.000000            39126.000000\n",
            "mean           1159.232582               37.383326\n",
            "std            2954.415722               19.865568\n",
            "min               0.000000                0.000000\n",
            "25%             191.000000               24.000000\n",
            "50%             494.000000               34.000000\n",
            "75%            1373.000000               48.000000\n",
            "max          122277.000000              284.000000\n",
            "\n",
            "--- Stats by Label ---\n",
            "       body_cleaned_length  subject_cleaned_length\n",
            "label                                             \n",
            "0              2068.752096               45.287853\n",
            "1               438.541802               31.119886\n"
          ]
        },
        {
          "output_type": "display_data",
          "data": {
            "text/plain": [
              "<Figure size 1200x500 with 2 Axes>"
            ],
            "image/png": "[encoded data removed]"
          },
          "metadata": {}
        }
      ]
    },
    {
      "cell_type": "markdown",
      "source": [
        "## 7 Save processed CEAS data\n",
        "\n",
        "Save the processed CEAS data. We are primarily interested in the phishing emails (label 1) from this set to combine with Enron ham for training. We will save these phishing emails separately. We can also save the ham emails from CEAS as an additional test set if desired."
      ],
      "metadata": {
        "id": "anJseFE8vPWJ"
      }
    },
    {
      "cell_type": "code",
      "source": [
        "if not df_processed_ceas.empty:\n",
        "\n",
        "    # Save phishing emails (label 1) from CEAS for training combination\n",
        "    df_ceas_phishing_for_training = df_processed_ceas[df_processed_ceas['label'] == 1].copy()\n",
        "\n",
        "    if not df_ceas_phishing_for_training.empty:\n",
        "        OUTPUT_FILENAME_CEAS_PHISHING = f'ceas08_phishing_for_training_{len(df_ceas_phishing_for_training)}.csv'\n",
        "        df_ceas_phishing_for_training.to_csv(OUTPUT_FILENAME_CEAS_PHISHING, index=False)\n",
        "        print(f\"Processed CEAS (phishing for training) data saved to: /content/{OUTPUT_FILENAME_CEAS_PHISHING}\")\n",
        "\n",
        "    else:\n",
        "        print(\"No phishing (label 1) emails found in processed CEAS to save for training.\")\n",
        "\n",
        "    # Optionally, save ham emails (label 0) from CEAS as an additional ham test set\n",
        "    df_ceas_ham_for_testing = df_processed_ceas[df_processed_ceas['label'] == 0].copy()\n",
        "\n",
        "    if not df_ceas_ham_for_testing.empty:\n",
        "        OUTPUT_FILENAME_CEAS_HAM = f'ceas08_ham_for_testing_{len(df_ceas_ham_for_testing)}.csv'\n",
        "        df_ceas_ham_for_testing.to_csv(OUTPUT_FILENAME_CEAS_HAM, index=False)\n",
        "        print(f\"Processed CEAS (ham for testing) data saved to: /content/{OUTPUT_FILENAME_CEAS_HAM}\")\n",
        "\n",
        "    else:\n",
        "        print(\"No ham (label 0) emails found in processed CEAS to save for testing.\")\n",
        "\n",
        "else:\n",
        "    print(\"Processed CEAS DataFrame is empty. Nothing to save.\")"
      ],
      "metadata": {
        "colab": {
          "base_uri": "https://localhost:8080/"
        },
        "id": "yffsn9TBvdra",
        "outputId": "499972e5-38a3-4a11-bd8e-8d74bc14ae0d"
      },
      "execution_count": 7,
      "outputs": [
        {
          "output_type": "stream",
          "name": "stdout",
          "text": [
            "Processed CEAS (phishing for training) data saved to: /content/ceas08_phishing_for_training_21829.csv\n",
            "Processed CEAS (ham for testing) data saved to: /content/ceas08_ham_for_testing_17297.csv\n"
          ]
        }
      ]
    }
  ]
}